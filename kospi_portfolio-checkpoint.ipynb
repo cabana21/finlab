{
 "cells": [
  {
   "cell_type": "code",
   "execution_count": 28,
   "metadata": {},
   "outputs": [],
   "source": [
    "import pandas as pd\n",
    "import numpy as np"
   ]
  },
  {
   "cell_type": "code",
   "execution_count": 75,
   "metadata": {},
   "outputs": [],
   "source": [
    "all_df = pd.read_excel('C:/Users/caban/Desktop/career/FinLab/kospi_portfolio/kospi_corp_list.xlsx')"
   ]
  },
  {
   "cell_type": "code",
   "execution_count": 76,
   "metadata": {},
   "outputs": [
    {
     "data": {
      "text/html": [
       "<div>\n",
       "<table border=\"1\" class=\"dataframe\">\n",
       "  <thead>\n",
       "    <tr style=\"text-align: right;\">\n",
       "      <th></th>\n",
       "      <th>회사명</th>\n",
       "      <th>종목코드</th>\n",
       "      <th>업종</th>\n",
       "      <th>주요제품</th>\n",
       "      <th>상장일</th>\n",
       "      <th>결산월</th>\n",
       "      <th>대표자명</th>\n",
       "      <th>홈페이지</th>\n",
       "      <th>지역</th>\n",
       "    </tr>\n",
       "  </thead>\n",
       "  <tbody>\n",
       "    <tr>\n",
       "      <th>0</th>\n",
       "      <td>세아제강</td>\n",
       "      <td>306200</td>\n",
       "      <td>1차 철강 제조업</td>\n",
       "      <td>강관</td>\n",
       "      <td>2018-10-05</td>\n",
       "      <td>12월</td>\n",
       "      <td>이휘령</td>\n",
       "      <td>http://(www.seahsteel.co.kr)</td>\n",
       "      <td>서울특별시</td>\n",
       "    </tr>\n",
       "    <tr>\n",
       "      <th>1</th>\n",
       "      <td>하나제약</td>\n",
       "      <td>293480</td>\n",
       "      <td>의약품 제조업</td>\n",
       "      <td>완제의약품</td>\n",
       "      <td>2018-10-02</td>\n",
       "      <td>12월</td>\n",
       "      <td>이윤하</td>\n",
       "      <td>http://www.hanaph.co.kr</td>\n",
       "      <td>경기도</td>\n",
       "    </tr>\n",
       "    <tr>\n",
       "      <th>2</th>\n",
       "      <td>우진아이엔에스</td>\n",
       "      <td>10400</td>\n",
       "      <td>건물설비 설치 공사업</td>\n",
       "      <td>반도체/디스플레이 코팅덕트</td>\n",
       "      <td>2018-09-14</td>\n",
       "      <td>12월</td>\n",
       "      <td>홍평우</td>\n",
       "      <td>http://www.woojini.com</td>\n",
       "      <td>서울특별시</td>\n",
       "    </tr>\n",
       "    <tr>\n",
       "      <th>3</th>\n",
       "      <td>신한알파리츠</td>\n",
       "      <td>293940</td>\n",
       "      <td>부동산 임대 및 공급업</td>\n",
       "      <td>비거주 부동산 임대 서비스업</td>\n",
       "      <td>2018-08-08</td>\n",
       "      <td>03월</td>\n",
       "      <td>이준구</td>\n",
       "      <td>http://www.shalphareit.com</td>\n",
       "      <td>서울특별시</td>\n",
       "    </tr>\n",
       "    <tr>\n",
       "      <th>4</th>\n",
       "      <td>한일시멘트</td>\n",
       "      <td>300720</td>\n",
       "      <td>시멘트, 석회, 플라스터 및 그 제품 제조업</td>\n",
       "      <td>시멘트, 레미콘, 레미탈</td>\n",
       "      <td>2018-08-06</td>\n",
       "      <td>12월</td>\n",
       "      <td>곽의영</td>\n",
       "      <td>http://www.hanilcement.com</td>\n",
       "      <td>서울특별시</td>\n",
       "    </tr>\n",
       "  </tbody>\n",
       "</table>\n",
       "</div>"
      ],
      "text/plain": [
       "       회사명    종목코드                        업종             주요제품        상장일  결산월  \\\n",
       "0     세아제강  306200                 1차 철강 제조업               강관 2018-10-05  12월   \n",
       "1     하나제약  293480                   의약품 제조업            완제의약품 2018-10-02  12월   \n",
       "2  우진아이엔에스   10400               건물설비 설치 공사업   반도체/디스플레이 코팅덕트 2018-09-14  12월   \n",
       "3   신한알파리츠  293940              부동산 임대 및 공급업  비거주 부동산 임대 서비스업 2018-08-08  03월   \n",
       "4    한일시멘트  300720  시멘트, 석회, 플라스터 및 그 제품 제조업    시멘트, 레미콘, 레미탈 2018-08-06  12월   \n",
       "\n",
       "  대표자명                          홈페이지     지역  \n",
       "0  이휘령  http://(www.seahsteel.co.kr)  서울특별시  \n",
       "1  이윤하       http://www.hanaph.co.kr    경기도  \n",
       "2  홍평우        http://www.woojini.com  서울특별시  \n",
       "3  이준구    http://www.shalphareit.com  서울특별시  \n",
       "4  곽의영    http://www.hanilcement.com  서울특별시  "
      ]
     },
     "execution_count": 76,
     "metadata": {},
     "output_type": "execute_result"
    }
   ],
   "source": [
    "all_df.head()"
   ]
  },
  {
   "cell_type": "code",
   "execution_count": 77,
   "metadata": {},
   "outputs": [
    {
     "data": {
      "text/plain": [
       "0    306200\n",
       "1    293480\n",
       "2     10400\n",
       "3    293940\n",
       "4    300720\n",
       "Name: 종목코드, dtype: int64"
      ]
     },
     "execution_count": 77,
     "metadata": {},
     "output_type": "execute_result"
    }
   ],
   "source": [
    "all_df['종목코드'].head()"
   ]
  },
  {
   "cell_type": "code",
   "execution_count": 79,
   "metadata": {},
   "outputs": [],
   "source": [
    "all_code = all_df['종목코드']"
   ]
  },
  {
   "cell_type": "code",
   "execution_count": 80,
   "metadata": {},
   "outputs": [],
   "source": [
    "all_code = all_code.map('{:06d}'.format)"
   ]
  },
  {
   "cell_type": "code",
   "execution_count": 81,
   "metadata": {
    "scrolled": true
   },
   "outputs": [
    {
     "data": {
      "text/plain": [
       "0    306200\n",
       "1    293480\n",
       "2    010400\n",
       "3    293940\n",
       "4    300720\n",
       "Name: 종목코드, dtype: object"
      ]
     },
     "execution_count": 81,
     "metadata": {},
     "output_type": "execute_result"
    }
   ],
   "source": [
    "all_code.head()"
   ]
  },
  {
   "cell_type": "code",
   "execution_count": 154,
   "metadata": {},
   "outputs": [],
   "source": [
    "def calculate_fluctuation(stock_code):\n",
    "    target_url = ('http://finance.naver.com/item/sise_day.nhn?code=' + stock_code)\n",
    "    data = pd.read_html(target_url)\n",
    "    data = data[0]\n",
    "    data.dropna(how='any', inplace=True)\n",
    "    data.rename(columns={0:'date',1:'closed',2:'diff',3:'market',4:'high',5:'low',6:'volume'}, inplace=True)\n",
    "    data.drop([0,], inplace=True)\n",
    "    \n",
    "    closed = int(data.iloc[0]['closed'])\n",
    "    diff = int(data.iloc[0]['diff'])\n",
    "    market = int(data.iloc[0]['market'])\n",
    "    \n",
    "    if market > closed:\n",
    "        diff = -diff\n",
    "        fluc = round((diff/(closed-diff)),4)\n",
    "        \n",
    "    else:\n",
    "        fluc = round((diff/(closed+diff)),4)\n",
    "    \n",
    "    return fluc"
   ]
  },
  {
   "cell_type": "code",
   "execution_count": 157,
   "metadata": {
    "scrolled": true
   },
   "outputs": [
    {
     "data": {
      "text/plain": [
       "0.1046"
      ]
     },
     "execution_count": 157,
     "metadata": {},
     "output_type": "execute_result"
    }
   ],
   "source": [
    "calculate_fluctuation('010400')"
   ]
  },
  {
   "cell_type": "code",
   "execution_count": null,
   "metadata": {},
   "outputs": [],
   "source": []
  }
 ],
 "metadata": {
  "kernelspec": {
   "display_name": "Python 3",
   "language": "python",
   "name": "python3"
  },
  "language_info": {
   "codemirror_mode": {
    "name": "ipython",
    "version": 3
   },
   "file_extension": ".py",
   "mimetype": "text/x-python",
   "name": "python",
   "nbconvert_exporter": "python",
   "pygments_lexer": "ipython3",
   "version": "3.5.5"
  }
 },
 "nbformat": 4,
 "nbformat_minor": 2
}

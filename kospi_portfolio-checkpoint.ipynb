{
 "cells": [
  {
   "cell_type": "code",
   "execution_count": 171,
   "metadata": {},
   "outputs": [],
   "source": [
    "import pandas as pd\n",
    "import numpy as np\n",
    "import seaborn as sns\n",
    "import statsmodels.api as sm\n",
    "import pylab\n",
    "from scipy.stats import shapiro\n",
    "import requests as re\n",
    "from bs4 import BeautifulSoup"
   ]
  },
  {
   "cell_type": "code",
   "execution_count": 35,
   "metadata": {},
   "outputs": [],
   "source": [
    "df = pd.read_excel('C:/Users/caban/Desktop/career/FinLab/kospi_portfolio/kospi_corp_list.xlsx')"
   ]
  },
  {
   "cell_type": "code",
   "execution_count": 36,
   "metadata": {},
   "outputs": [
    {
     "data": {
      "text/plain": [
       "0    306200\n",
       "1    293480\n",
       "2     10400\n",
       "3    293940\n",
       "4    300720\n",
       "Name: 종목코드, dtype: int64"
      ]
     },
     "execution_count": 36,
     "metadata": {},
     "output_type": "execute_result"
    }
   ],
   "source": [
    "df['종목코드'].head()"
   ]
  },
  {
   "cell_type": "code",
   "execution_count": 37,
   "metadata": {},
   "outputs": [],
   "source": [
    "all_code = df['종목코드']"
   ]
  },
  {
   "cell_type": "markdown",
   "metadata": {},
   "source": [
    "## 종목코드를 여섯자리수로 만들어주는 코드이다."
   ]
  },
  {
   "cell_type": "code",
   "execution_count": 38,
   "metadata": {},
   "outputs": [],
   "source": [
    "all_code = all_code.map('{:06d}'.format)"
   ]
  },
  {
   "cell_type": "code",
   "execution_count": 39,
   "metadata": {
    "scrolled": false
   },
   "outputs": [
    {
     "data": {
      "text/plain": [
       "784    000120\n",
       "785    000060\n",
       "786    000050\n",
       "787    000700\n",
       "788    003480\n",
       "Name: 종목코드, dtype: object"
      ]
     },
     "execution_count": 39,
     "metadata": {},
     "output_type": "execute_result"
    }
   ],
   "source": [
    "all_code.tail()"
   ]
  },
  {
   "cell_type": "markdown",
   "metadata": {},
   "source": [
    "# 등락률을 계산하는 함수이다.\n",
    "### 6페이지까지 순환하면서 등락률을 뽑아낸다.\n",
    "### 시장가 > 종가 이면 전일비 = 음수로 계산하였다.\n",
    "### 소수점 셋째자리까지 반올림하였다."
   ]
  },
  {
   "cell_type": "code",
   "execution_count": 116,
   "metadata": {
    "scrolled": true
   },
   "outputs": [],
   "source": [
    "def calculate_fluctuation(stock_code, last_page):\n",
    "    page = 0\n",
    "    fluc_list = []\n",
    "    for page in range(0,last_page):\n",
    "        fluc_series = pd.Series()\n",
    "        target_url = ('http://finance.naver.com/item/sise_day.nhn?code={}&page={}'.format(stock_code, str(page+1)))\n",
    "        data = pd.read_html(target_url)\n",
    "        data = data[0]\n",
    "        data.rename(columns={0:'date',1:'closed',2:'diff',3:'market',4:'high',5:'low',6:'volume'}, inplace=True)\n",
    "        data.drop([0,], inplace=True)\n",
    "    \n",
    "        for j in range(0,11):    \n",
    "            closed = float(data.iloc[j]['closed'])\n",
    "            diff = float(data.iloc[j]['diff'])\n",
    "            market = float(data.iloc[j]['market'])\n",
    "    \n",
    "            if market > closed:\n",
    "                diff = -diff\n",
    "                fluc_list.append((round((diff/(closed-diff)),4)))\n",
    "        \n",
    "            else:\n",
    "                fluc_list.append((round((diff/(closed+diff)),4)))\n",
    "                      \n",
    "            fluc_series = pd.Series(fluc_list)\n",
    "            \n",
    "    return fluc_series"
   ]
  },
  {
   "cell_type": "code",
   "execution_count": 130,
   "metadata": {},
   "outputs": [],
   "source": [
    "fluc_df = pd.Series()"
   ]
  },
  {
   "cell_type": "code",
   "execution_count": 131,
   "metadata": {
    "scrolled": true
   },
   "outputs": [],
   "source": [
    "for code in all_code:\n",
    "    fluc_series = calculate_fluctuation(code, 6)\n",
    "    fluc_df = pd.concat([fluc_df, fluc_series], axis=1)\n",
    "    fluc_df.rename(columns={0:code}, inplace=True)"
   ]
  },
  {
   "cell_type": "code",
   "execution_count": 168,
   "metadata": {},
   "outputs": [
    {
     "data": {
      "text/html": [
       "<div>\n",
       "<table border=\"1\" class=\"dataframe\">\n",
       "  <thead>\n",
       "    <tr style=\"text-align: right;\">\n",
       "      <th></th>\n",
       "      <th>306200</th>\n",
       "      <th>293480</th>\n",
       "      <th>010400</th>\n",
       "      <th>293940</th>\n",
       "      <th>300720</th>\n",
       "      <th>091810</th>\n",
       "      <th>286940</th>\n",
       "      <th>298040</th>\n",
       "      <th>298050</th>\n",
       "      <th>298020</th>\n",
       "      <th>...</th>\n",
       "      <th>000240</th>\n",
       "      <th>000950</th>\n",
       "      <th>003490</th>\n",
       "      <th>001530</th>\n",
       "      <th>000100</th>\n",
       "      <th>000120</th>\n",
       "      <th>000060</th>\n",
       "      <th>000050</th>\n",
       "      <th>000700</th>\n",
       "      <th>003480</th>\n",
       "    </tr>\n",
       "  </thead>\n",
       "  <tbody>\n",
       "    <tr>\n",
       "      <th>0</th>\n",
       "      <td>NaN</td>\n",
       "      <td>NaN</td>\n",
       "      <td>NaN</td>\n",
       "      <td>NaN</td>\n",
       "      <td>NaN</td>\n",
       "      <td>NaN</td>\n",
       "      <td>NaN</td>\n",
       "      <td>NaN</td>\n",
       "      <td>NaN</td>\n",
       "      <td>NaN</td>\n",
       "      <td>...</td>\n",
       "      <td>NaN</td>\n",
       "      <td>NaN</td>\n",
       "      <td>NaN</td>\n",
       "      <td>NaN</td>\n",
       "      <td>NaN</td>\n",
       "      <td>NaN</td>\n",
       "      <td>NaN</td>\n",
       "      <td>NaN</td>\n",
       "      <td>NaN</td>\n",
       "      <td>NaN</td>\n",
       "    </tr>\n",
       "    <tr>\n",
       "      <th>1</th>\n",
       "      <td>-0.0616</td>\n",
       "      <td>-0.0616</td>\n",
       "      <td>0.1046</td>\n",
       "      <td>0.0183</td>\n",
       "      <td>0.0000</td>\n",
       "      <td>0.0133</td>\n",
       "      <td>-0.0028</td>\n",
       "      <td>-0.0189</td>\n",
       "      <td>-0.0151</td>\n",
       "      <td>0.0057</td>\n",
       "      <td>...</td>\n",
       "      <td>0.0055</td>\n",
       "      <td>-0.0024</td>\n",
       "      <td>0.0036</td>\n",
       "      <td>0.0135</td>\n",
       "      <td>0.0178</td>\n",
       "      <td>-0.0033</td>\n",
       "      <td>0.0000</td>\n",
       "      <td>0.0038</td>\n",
       "      <td>-0.0000</td>\n",
       "      <td>0.0164</td>\n",
       "    </tr>\n",
       "    <tr>\n",
       "      <th>2</th>\n",
       "      <td>-0.2513</td>\n",
       "      <td>0.0291</td>\n",
       "      <td>0.0153</td>\n",
       "      <td>0.0069</td>\n",
       "      <td>-0.0393</td>\n",
       "      <td>0.0011</td>\n",
       "      <td>0.0476</td>\n",
       "      <td>0.0075</td>\n",
       "      <td>0.0038</td>\n",
       "      <td>0.0056</td>\n",
       "      <td>...</td>\n",
       "      <td>0.0083</td>\n",
       "      <td>-0.0209</td>\n",
       "      <td>0.0177</td>\n",
       "      <td>0.0055</td>\n",
       "      <td>-0.0365</td>\n",
       "      <td>0.0160</td>\n",
       "      <td>-0.0000</td>\n",
       "      <td>0.0076</td>\n",
       "      <td>-0.0264</td>\n",
       "      <td>0.0122</td>\n",
       "    </tr>\n",
       "    <tr>\n",
       "      <th>3</th>\n",
       "      <td>NaN</td>\n",
       "      <td>-0.0739</td>\n",
       "      <td>-0.0612</td>\n",
       "      <td>-0.0035</td>\n",
       "      <td>-0.0097</td>\n",
       "      <td>-0.0066</td>\n",
       "      <td>-0.0284</td>\n",
       "      <td>-0.0507</td>\n",
       "      <td>-0.0292</td>\n",
       "      <td>-0.0462</td>\n",
       "      <td>...</td>\n",
       "      <td>-0.0056</td>\n",
       "      <td>-0.0115</td>\n",
       "      <td>-0.0018</td>\n",
       "      <td>-0.0111</td>\n",
       "      <td>0.0000</td>\n",
       "      <td>-0.0621</td>\n",
       "      <td>0.0000</td>\n",
       "      <td>-0.0038</td>\n",
       "      <td>-0.0058</td>\n",
       "      <td>-0.0303</td>\n",
       "    </tr>\n",
       "    <tr>\n",
       "      <th>4</th>\n",
       "      <td>NaN</td>\n",
       "      <td>0.0843</td>\n",
       "      <td>-0.0671</td>\n",
       "      <td>-0.0035</td>\n",
       "      <td>0.0096</td>\n",
       "      <td>-0.0371</td>\n",
       "      <td>-0.0760</td>\n",
       "      <td>-0.0299</td>\n",
       "      <td>-0.0318</td>\n",
       "      <td>0.0027</td>\n",
       "      <td>...</td>\n",
       "      <td>0.0137</td>\n",
       "      <td>-0.0290</td>\n",
       "      <td>-0.0302</td>\n",
       "      <td>-0.0014</td>\n",
       "      <td>-0.0210</td>\n",
       "      <td>0.0183</td>\n",
       "      <td>-0.0077</td>\n",
       "      <td>0.0038</td>\n",
       "      <td>0.0000</td>\n",
       "      <td>-0.0476</td>\n",
       "    </tr>\n",
       "  </tbody>\n",
       "</table>\n",
       "<p>5 rows × 789 columns</p>\n",
       "</div>"
      ],
      "text/plain": [
       "   306200  293480  010400  293940  300720  091810  286940  298040  298050  \\\n",
       "0     NaN     NaN     NaN     NaN     NaN     NaN     NaN     NaN     NaN   \n",
       "1 -0.0616 -0.0616  0.1046  0.0183  0.0000  0.0133 -0.0028 -0.0189 -0.0151   \n",
       "2 -0.2513  0.0291  0.0153  0.0069 -0.0393  0.0011  0.0476  0.0075  0.0038   \n",
       "3     NaN -0.0739 -0.0612 -0.0035 -0.0097 -0.0066 -0.0284 -0.0507 -0.0292   \n",
       "4     NaN  0.0843 -0.0671 -0.0035  0.0096 -0.0371 -0.0760 -0.0299 -0.0318   \n",
       "\n",
       "   298020   ...    000240  000950  003490  001530  000100  000120  000060  \\\n",
       "0     NaN   ...       NaN     NaN     NaN     NaN     NaN     NaN     NaN   \n",
       "1  0.0057   ...    0.0055 -0.0024  0.0036  0.0135  0.0178 -0.0033  0.0000   \n",
       "2  0.0056   ...    0.0083 -0.0209  0.0177  0.0055 -0.0365  0.0160 -0.0000   \n",
       "3 -0.0462   ...   -0.0056 -0.0115 -0.0018 -0.0111  0.0000 -0.0621  0.0000   \n",
       "4  0.0027   ...    0.0137 -0.0290 -0.0302 -0.0014 -0.0210  0.0183 -0.0077   \n",
       "\n",
       "   000050  000700  003480  \n",
       "0     NaN     NaN     NaN  \n",
       "1  0.0038 -0.0000  0.0164  \n",
       "2  0.0076 -0.0264  0.0122  \n",
       "3 -0.0038 -0.0058 -0.0303  \n",
       "4  0.0038  0.0000 -0.0476  \n",
       "\n",
       "[5 rows x 789 columns]"
      ]
     },
     "execution_count": 168,
     "metadata": {},
     "output_type": "execute_result"
    }
   ],
   "source": [
    "fluc_df.head()"
   ]
  },
  {
   "cell_type": "code",
   "execution_count": 133,
   "metadata": {},
   "outputs": [],
   "source": [
    "fluc_df.drop('306200', axis=1, inplace=True)\n",
    "fluc_df.rename(columns={1:'306200'}, inplace=True)"
   ]
  },
  {
   "cell_type": "code",
   "execution_count": 135,
   "metadata": {},
   "outputs": [
    {
     "name": "stdout",
     "output_type": "stream",
     "text": [
      "<class 'pandas.core.frame.DataFrame'>\n",
      "RangeIndex: 66 entries, 0 to 65\n",
      "Columns: 789 entries, 306200 to 003480\n",
      "dtypes: float64(789)\n",
      "memory usage: 406.9 KB\n"
     ]
    }
   ],
   "source": [
    "fluc_df.info()"
   ]
  },
  {
   "cell_type": "markdown",
   "metadata": {},
   "source": [
    "# 결측값들은 평균으로 채웠다."
   ]
  },
  {
   "cell_type": "code",
   "execution_count": 136,
   "metadata": {},
   "outputs": [
    {
     "data": {
      "text/plain": [
       "54"
      ]
     },
     "execution_count": 136,
     "metadata": {},
     "output_type": "execute_result"
    }
   ],
   "source": [
    "np.isnan(fluc_df['306200']).sum()"
   ]
  },
  {
   "cell_type": "code",
   "execution_count": 166,
   "metadata": {},
   "outputs": [],
   "source": [
    "fluc_df_1 = fluc_df"
   ]
  },
  {
   "cell_type": "code",
   "execution_count": 174,
   "metadata": {
    "scrolled": true
   },
   "outputs": [
    {
     "data": {
      "text/plain": [
       "0        NaN\n",
       "1    -0.0616\n",
       "2    -0.2513\n",
       "3        NaN\n",
       "4        NaN\n",
       "5        NaN\n",
       "6        NaN\n",
       "7        NaN\n",
       "8        NaN\n",
       "9        NaN\n",
       "10       NaN\n",
       "11       NaN\n",
       "12   -0.0616\n",
       "13   -0.2513\n",
       "14       NaN\n",
       "15       NaN\n",
       "16       NaN\n",
       "17       NaN\n",
       "18       NaN\n",
       "19       NaN\n",
       "20       NaN\n",
       "21       NaN\n",
       "22       NaN\n",
       "23   -0.0616\n",
       "24   -0.2513\n",
       "25       NaN\n",
       "26       NaN\n",
       "27       NaN\n",
       "28       NaN\n",
       "29       NaN\n",
       "       ...  \n",
       "36       NaN\n",
       "37       NaN\n",
       "38       NaN\n",
       "39       NaN\n",
       "40       NaN\n",
       "41       NaN\n",
       "42       NaN\n",
       "43       NaN\n",
       "44       NaN\n",
       "45   -0.0616\n",
       "46   -0.2513\n",
       "47       NaN\n",
       "48       NaN\n",
       "49       NaN\n",
       "50       NaN\n",
       "51       NaN\n",
       "52       NaN\n",
       "53       NaN\n",
       "54       NaN\n",
       "55       NaN\n",
       "56   -0.0616\n",
       "57   -0.2513\n",
       "58       NaN\n",
       "59       NaN\n",
       "60       NaN\n",
       "61       NaN\n",
       "62       NaN\n",
       "63       NaN\n",
       "64       NaN\n",
       "65       NaN\n",
       "Name: 306200, dtype: float64"
      ]
     },
     "execution_count": 174,
     "metadata": {},
     "output_type": "execute_result"
    }
   ],
   "source": [
    "fluc_df_1['306200']"
   ]
  },
  {
   "cell_type": "code",
   "execution_count": 187,
   "metadata": {
    "scrolled": true
   },
   "outputs": [],
   "source": [
    "mean = fluc_df_1['306200'].dropna().mean()"
   ]
  },
  {
   "cell_type": "code",
   "execution_count": 196,
   "metadata": {
    "scrolled": true
   },
   "outputs": [],
   "source": [
    "for code in all_code:\n",
    "    fluc_df_1[code].fillna(fluc_df_1[code].mean(), inplace=True)"
   ]
  },
  {
   "cell_type": "code",
   "execution_count": 198,
   "metadata": {},
   "outputs": [
    {
     "data": {
      "text/html": [
       "<div>\n",
       "<table border=\"1\" class=\"dataframe\">\n",
       "  <thead>\n",
       "    <tr style=\"text-align: right;\">\n",
       "      <th></th>\n",
       "      <th>306200</th>\n",
       "      <th>293480</th>\n",
       "      <th>010400</th>\n",
       "      <th>293940</th>\n",
       "      <th>300720</th>\n",
       "      <th>091810</th>\n",
       "      <th>286940</th>\n",
       "      <th>298040</th>\n",
       "      <th>298050</th>\n",
       "      <th>298020</th>\n",
       "      <th>...</th>\n",
       "      <th>000240</th>\n",
       "      <th>000950</th>\n",
       "      <th>003490</th>\n",
       "      <th>001530</th>\n",
       "      <th>000100</th>\n",
       "      <th>000120</th>\n",
       "      <th>000060</th>\n",
       "      <th>000050</th>\n",
       "      <th>000700</th>\n",
       "      <th>003480</th>\n",
       "    </tr>\n",
       "  </thead>\n",
       "  <tbody>\n",
       "    <tr>\n",
       "      <th>61</th>\n",
       "      <td>-0.15645</td>\n",
       "      <td>-0.005525</td>\n",
       "      <td>0.007614</td>\n",
       "      <td>0.0030</td>\n",
       "      <td>-0.008633</td>\n",
       "      <td>-0.003717</td>\n",
       "      <td>-0.000981</td>\n",
       "      <td>-0.005219</td>\n",
       "      <td>-0.008681</td>\n",
       "      <td>-0.003136</td>\n",
       "      <td>...</td>\n",
       "      <td>0.000467</td>\n",
       "      <td>-0.001788</td>\n",
       "      <td>-0.000912</td>\n",
       "      <td>0.00209</td>\n",
       "      <td>-0.001183</td>\n",
       "      <td>-0.003424</td>\n",
       "      <td>0.000067</td>\n",
       "      <td>-0.0001</td>\n",
       "      <td>0.002495</td>\n",
       "      <td>-0.002562</td>\n",
       "    </tr>\n",
       "    <tr>\n",
       "      <th>62</th>\n",
       "      <td>-0.15645</td>\n",
       "      <td>-0.005525</td>\n",
       "      <td>0.007614</td>\n",
       "      <td>0.0030</td>\n",
       "      <td>-0.008633</td>\n",
       "      <td>-0.003717</td>\n",
       "      <td>-0.000981</td>\n",
       "      <td>-0.005219</td>\n",
       "      <td>-0.008681</td>\n",
       "      <td>-0.003136</td>\n",
       "      <td>...</td>\n",
       "      <td>0.000467</td>\n",
       "      <td>-0.001788</td>\n",
       "      <td>-0.000912</td>\n",
       "      <td>0.00209</td>\n",
       "      <td>-0.001183</td>\n",
       "      <td>-0.003424</td>\n",
       "      <td>0.000067</td>\n",
       "      <td>-0.0001</td>\n",
       "      <td>0.002495</td>\n",
       "      <td>-0.002562</td>\n",
       "    </tr>\n",
       "    <tr>\n",
       "      <th>63</th>\n",
       "      <td>-0.15645</td>\n",
       "      <td>-0.005525</td>\n",
       "      <td>0.007614</td>\n",
       "      <td>0.0030</td>\n",
       "      <td>-0.008633</td>\n",
       "      <td>-0.003717</td>\n",
       "      <td>-0.000981</td>\n",
       "      <td>-0.005219</td>\n",
       "      <td>-0.008681</td>\n",
       "      <td>-0.003136</td>\n",
       "      <td>...</td>\n",
       "      <td>0.000467</td>\n",
       "      <td>-0.001788</td>\n",
       "      <td>-0.000912</td>\n",
       "      <td>0.00209</td>\n",
       "      <td>-0.001183</td>\n",
       "      <td>-0.003424</td>\n",
       "      <td>0.000067</td>\n",
       "      <td>-0.0001</td>\n",
       "      <td>0.002495</td>\n",
       "      <td>-0.002562</td>\n",
       "    </tr>\n",
       "    <tr>\n",
       "      <th>64</th>\n",
       "      <td>-0.15645</td>\n",
       "      <td>-0.005525</td>\n",
       "      <td>0.007614</td>\n",
       "      <td>0.0038</td>\n",
       "      <td>-0.008633</td>\n",
       "      <td>-0.003717</td>\n",
       "      <td>0.006800</td>\n",
       "      <td>0.001800</td>\n",
       "      <td>0.074500</td>\n",
       "      <td>-0.105100</td>\n",
       "      <td>...</td>\n",
       "      <td>0.010900</td>\n",
       "      <td>-0.006600</td>\n",
       "      <td>-0.006900</td>\n",
       "      <td>-0.00880</td>\n",
       "      <td>0.004400</td>\n",
       "      <td>-0.011800</td>\n",
       "      <td>-0.013200</td>\n",
       "      <td>-0.0108</td>\n",
       "      <td>0.004900</td>\n",
       "      <td>0.001300</td>\n",
       "    </tr>\n",
       "    <tr>\n",
       "      <th>65</th>\n",
       "      <td>-0.15645</td>\n",
       "      <td>-0.005525</td>\n",
       "      <td>0.007614</td>\n",
       "      <td>0.0000</td>\n",
       "      <td>-0.008633</td>\n",
       "      <td>-0.003717</td>\n",
       "      <td>-0.050700</td>\n",
       "      <td>-0.070200</td>\n",
       "      <td>-0.282500</td>\n",
       "      <td>0.073000</td>\n",
       "      <td>...</td>\n",
       "      <td>0.002800</td>\n",
       "      <td>-0.002200</td>\n",
       "      <td>0.034800</td>\n",
       "      <td>-0.00350</td>\n",
       "      <td>0.013100</td>\n",
       "      <td>0.002900</td>\n",
       "      <td>-0.013000</td>\n",
       "      <td>-0.0072</td>\n",
       "      <td>0.005000</td>\n",
       "      <td>0.016000</td>\n",
       "    </tr>\n",
       "  </tbody>\n",
       "</table>\n",
       "<p>5 rows × 789 columns</p>\n",
       "</div>"
      ],
      "text/plain": [
       "     306200    293480    010400  293940    300720    091810    286940  \\\n",
       "61 -0.15645 -0.005525  0.007614  0.0030 -0.008633 -0.003717 -0.000981   \n",
       "62 -0.15645 -0.005525  0.007614  0.0030 -0.008633 -0.003717 -0.000981   \n",
       "63 -0.15645 -0.005525  0.007614  0.0030 -0.008633 -0.003717 -0.000981   \n",
       "64 -0.15645 -0.005525  0.007614  0.0038 -0.008633 -0.003717  0.006800   \n",
       "65 -0.15645 -0.005525  0.007614  0.0000 -0.008633 -0.003717 -0.050700   \n",
       "\n",
       "      298040    298050    298020    ...       000240    000950    003490  \\\n",
       "61 -0.005219 -0.008681 -0.003136    ...     0.000467 -0.001788 -0.000912   \n",
       "62 -0.005219 -0.008681 -0.003136    ...     0.000467 -0.001788 -0.000912   \n",
       "63 -0.005219 -0.008681 -0.003136    ...     0.000467 -0.001788 -0.000912   \n",
       "64  0.001800  0.074500 -0.105100    ...     0.010900 -0.006600 -0.006900   \n",
       "65 -0.070200 -0.282500  0.073000    ...     0.002800 -0.002200  0.034800   \n",
       "\n",
       "     001530    000100    000120    000060  000050    000700    003480  \n",
       "61  0.00209 -0.001183 -0.003424  0.000067 -0.0001  0.002495 -0.002562  \n",
       "62  0.00209 -0.001183 -0.003424  0.000067 -0.0001  0.002495 -0.002562  \n",
       "63  0.00209 -0.001183 -0.003424  0.000067 -0.0001  0.002495 -0.002562  \n",
       "64 -0.00880  0.004400 -0.011800 -0.013200 -0.0108  0.004900  0.001300  \n",
       "65 -0.00350  0.013100  0.002900 -0.013000 -0.0072  0.005000  0.016000  \n",
       "\n",
       "[5 rows x 789 columns]"
      ]
     },
     "execution_count": 198,
     "metadata": {},
     "output_type": "execute_result"
    }
   ],
   "source": [
    "fluc_df_1.tail()"
   ]
  },
  {
   "cell_type": "code",
   "execution_count": 206,
   "metadata": {},
   "outputs": [],
   "source": [
    "fluc_df.to_csv('C:/Users/caban/Desktop/career/FinLab/kospi_portfolio.fluc_df_missing.csv', header=True, index=False)"
   ]
  },
  {
   "cell_type": "code",
   "execution_count": 207,
   "metadata": {},
   "outputs": [],
   "source": [
    "fluc_df_1.to_csv('C:/Users/caban/Desktop/career/FinLab/kospi_portfolio.fluc_df.csv', header=True, index=False)"
   ]
  },
  {
   "cell_type": "code",
   "execution_count": 217,
   "metadata": {},
   "outputs": [],
   "source": [
    "result = []"
   ]
  },
  {
   "cell_type": "code",
   "execution_count": 172,
   "metadata": {
    "scrolled": true
   },
   "outputs": [
    {
     "ename": "NameError",
     "evalue": "name 'result' is not defined",
     "output_type": "error",
     "traceback": [
      "\u001b[1;31m---------------------------------------------------------------------------\u001b[0m",
      "\u001b[1;31mNameError\u001b[0m                                 Traceback (most recent call last)",
      "\u001b[1;32m<ipython-input-172-3dc6bc34aa00>\u001b[0m in \u001b[0;36m<module>\u001b[1;34m()\u001b[0m\n\u001b[0;32m      1\u001b[0m \u001b[1;32mfor\u001b[0m \u001b[0mcode\u001b[0m \u001b[1;32min\u001b[0m \u001b[0mall_code\u001b[0m\u001b[1;33m:\u001b[0m\u001b[1;33m\u001b[0m\u001b[0m\n\u001b[1;32m----> 2\u001b[1;33m     \u001b[0mresult\u001b[0m\u001b[1;33m.\u001b[0m\u001b[0mappend\u001b[0m\u001b[1;33m(\u001b[0m\u001b[0mcalculate_fluctuation\u001b[0m\u001b[1;33m(\u001b[0m\u001b[0mcode\u001b[0m\u001b[1;33m)\u001b[0m\u001b[1;33m)\u001b[0m\u001b[1;33m\u001b[0m\u001b[0m\n\u001b[0m",
      "\u001b[1;31mNameError\u001b[0m: name 'result' is not defined"
     ]
    }
   ],
   "source": [
    "for code in all_code:\n",
    "    result.append(calculate_fluctuation(code))"
   ]
  },
  {
   "cell_type": "code",
   "execution_count": 219,
   "metadata": {
    "scrolled": true
   },
   "outputs": [],
   "source": [
    "count = 0 \n",
    "for s in result:\n",
    "    if s == 0 :\n",
    "        count += 1"
   ]
  },
  {
   "cell_type": "code",
   "execution_count": 220,
   "metadata": {},
   "outputs": [
    {
     "data": {
      "text/plain": [
       "58"
      ]
     },
     "execution_count": 220,
     "metadata": {},
     "output_type": "execute_result"
    }
   ],
   "source": [
    "count"
   ]
  },
  {
   "cell_type": "markdown",
   "metadata": {},
   "source": [
    "# normal q-q plot 을 그려보았다\n",
    "### 정규성 검정을 위하여"
   ]
  },
  {
   "cell_type": "code",
   "execution_count": 221,
   "metadata": {
    "scrolled": true
   },
   "outputs": [
    {
     "name": "stderr",
     "output_type": "stream",
     "text": [
      "C:\\Users\\caban\\Anaconda3\\lib\\site-packages\\matplotlib\\axes\\_axes.py:6462: UserWarning: The 'normed' kwarg is deprecated, and has been replaced by the 'density' kwarg.\n",
      "  warnings.warn(\"The 'normed' kwarg is deprecated, and has been \"\n"
     ]
    },
    {
     "data": {
      "text/plain": [
       "<matplotlib.axes._subplots.AxesSubplot at 0x261dd7b3400>"
      ]
     },
     "execution_count": 221,
     "metadata": {},
     "output_type": "execute_result"
    },
    {
     "data": {
      "image/png": "[encoded data removed]",
      "text/plain": [
       "<Figure size 432x288 with 1 Axes>"
      ]
     },
     "metadata": {},
     "output_type": "display_data"
    }
   ],
   "source": [
    "sns.distplot(result)"
   ]
  },
  {
   "cell_type": "code",
   "execution_count": 223,
   "metadata": {},
   "outputs": [],
   "source": [
    "result = pd.Series(result)"
   ]
  },
  {
   "cell_type": "code",
   "execution_count": 224,
   "metadata": {
    "scrolled": true
   },
   "outputs": [
    {
     "data": {
      "text/plain": [
       "0     -0.0616\n",
       "1     -0.0616\n",
       "2      0.1046\n",
       "3      0.0183\n",
       "4      0.0000\n",
       "5      0.0133\n",
       "6     -0.0028\n",
       "7     -0.0189\n",
       "8     -0.0151\n",
       "9      0.0057\n",
       "10     0.0412\n",
       "11    -0.0020\n",
       "12    -0.0354\n",
       "13    -0.0372\n",
       "14     0.0034\n",
       "15     0.0024\n",
       "16    -0.0300\n",
       "17    -0.0050\n",
       "18     0.0000\n",
       "19     0.0025\n",
       "20     0.0000\n",
       "21    -0.0323\n",
       "22     0.0029\n",
       "23    -0.0077\n",
       "24     0.0254\n",
       "25     0.0147\n",
       "26     0.0138\n",
       "27    -0.0232\n",
       "28    -0.0200\n",
       "29    -0.0095\n",
       "        ...  \n",
       "759   -0.0300\n",
       "760    0.0078\n",
       "761   -0.0042\n",
       "762   -0.0256\n",
       "763   -0.0097\n",
       "764    0.0360\n",
       "765    0.0136\n",
       "766    0.0079\n",
       "767   -0.0306\n",
       "768    0.0143\n",
       "769    0.0000\n",
       "770    0.0053\n",
       "771   -0.0162\n",
       "772   -0.0050\n",
       "773    0.0108\n",
       "774   -0.0429\n",
       "775    0.0000\n",
       "776   -0.0403\n",
       "777    0.0092\n",
       "778    0.0084\n",
       "779    0.0055\n",
       "780   -0.0024\n",
       "781    0.0036\n",
       "782    0.0135\n",
       "783    0.0178\n",
       "784   -0.0033\n",
       "785    0.0000\n",
       "786    0.0038\n",
       "787    0.0000\n",
       "788    0.0164\n",
       "dtype: float64"
      ]
     },
     "execution_count": 224,
     "metadata": {},
     "output_type": "execute_result"
    }
   ],
   "source": [
    "result"
   ]
  },
  {
   "cell_type": "code",
   "execution_count": 225,
   "metadata": {
    "scrolled": true
   },
   "outputs": [
    {
     "data": {
      "image/png": "[encoded data removed]",
      "text/plain": [
       "<Figure size 432x288 with 1 Axes>"
      ]
     },
     "execution_count": 225,
     "metadata": {},
     "output_type": "execute_result"
    },
    {
     "data": {
      "image/png": "[encoded data removed]",
      "text/plain": [
       "<Figure size 432x288 with 1 Axes>"
      ]
     },
     "metadata": {},
     "output_type": "display_data"
    }
   ],
   "source": [
    "sm.qqplot(result, line='s')"
   ]
  },
  {
   "cell_type": "code",
   "execution_count": 226,
   "metadata": {},
   "outputs": [],
   "source": [
    "def get_stock_data(stock_code):\n",
    "    url = 'https://finance.naver.com/item/main.nhn?code={}'.format(stock_code)\n",
    "    sichong = []\n",
    "    \n",
    "    for code in all_code:\n",
    "        url_ = re.get(url + str(code))\n",
    "        url_ = url_.content\n",
    "        html = BeautifulSoup(url_,'html.parser')\n",
    "        sichong.append(html.find('em',{'id':'_market_sum'}).get_text().replace('\\t','').replace('\\n',''))\n",
    "     \n",
    "    return sichong"
   ]
  },
  {
   "cell_type": "code",
   "execution_count": 228,
   "metadata": {
    "scrolled": true
   },
   "outputs": [],
   "source": [
    "sichong_list = get_stock_data()"
   ]
  },
  {
   "cell_type": "code",
   "execution_count": 231,
   "metadata": {},
   "outputs": [],
   "source": [
    "sichong_series = pd.Series(sichong_list)"
   ]
  },
  {
   "cell_type": "code",
   "execution_count": 232,
   "metadata": {},
   "outputs": [
    {
     "data": {
      "text/plain": [
       "784    3조4,903\n",
       "785    2조2,111\n",
       "786      3,578\n",
       "787      1,727\n",
       "788        973\n",
       "dtype: object"
      ]
     },
     "execution_count": 232,
     "metadata": {},
     "output_type": "execute_result"
    }
   ],
   "source": [
    "sichong_series.tail()"
   ]
  },
  {
   "cell_type": "code",
   "execution_count": 239,
   "metadata": {
    "scrolled": true
   },
   "outputs": [
    {
     "data": {
      "text/plain": [
       "0    306200\n",
       "1    293480\n",
       "2    010400\n",
       "3    293940\n",
       "4    300720\n",
       "Name: 종목코드, dtype: object"
      ]
     },
     "execution_count": 239,
     "metadata": {},
     "output_type": "execute_result"
    }
   ],
   "source": [
    "all_code.head()"
   ]
  },
  {
   "cell_type": "code",
   "execution_count": 247,
   "metadata": {},
   "outputs": [],
   "source": [
    "code_sichong_df = pd.concat([all_code, sichong_series], axis=1)"
   ]
  },
  {
   "cell_type": "code",
   "execution_count": 248,
   "metadata": {},
   "outputs": [],
   "source": [
    "code_sichong_df.rename(columns={0:'시가총액'},inplace=True)"
   ]
  },
  {
   "cell_type": "code",
   "execution_count": 249,
   "metadata": {},
   "outputs": [
    {
     "data": {
      "text/html": [
       "<div>\n",
       "<table border=\"1\" class=\"dataframe\">\n",
       "  <thead>\n",
       "    <tr style=\"text-align: right;\">\n",
       "      <th></th>\n",
       "      <th>종목코드</th>\n",
       "      <th>시가총액</th>\n",
       "    </tr>\n",
       "  </thead>\n",
       "  <tbody>\n",
       "    <tr>\n",
       "      <th>0</th>\n",
       "      <td>306200</td>\n",
       "      <td>1,943</td>\n",
       "    </tr>\n",
       "    <tr>\n",
       "      <th>1</th>\n",
       "      <td>293480</td>\n",
       "      <td>4,811</td>\n",
       "    </tr>\n",
       "    <tr>\n",
       "      <th>2</th>\n",
       "      <td>010400</td>\n",
       "      <td>1,109</td>\n",
       "    </tr>\n",
       "    <tr>\n",
       "      <th>3</th>\n",
       "      <td>293940</td>\n",
       "      <td>2,248</td>\n",
       "    </tr>\n",
       "    <tr>\n",
       "      <th>4</th>\n",
       "      <td>300720</td>\n",
       "      <td>6,072</td>\n",
       "    </tr>\n",
       "  </tbody>\n",
       "</table>\n",
       "</div>"
      ],
      "text/plain": [
       "     종목코드   시가총액\n",
       "0  306200  1,943\n",
       "1  293480  4,811\n",
       "2  010400  1,109\n",
       "3  293940  2,248\n",
       "4  300720  6,072"
      ]
     },
     "execution_count": 249,
     "metadata": {},
     "output_type": "execute_result"
    }
   ],
   "source": [
    "code_sichong_df.head()"
   ]
  },
  {
   "cell_type": "code",
   "execution_count": 252,
   "metadata": {
    "scrolled": true
   },
   "outputs": [],
   "source": [
    "code_sichong_df.to_csv('C:/Users/caban/Desktop/career/FinLab/kospi_portfolio/code_sichong_df.csv', index=False)"
   ]
  },
  {
   "cell_type": "code",
   "execution_count": 268,
   "metadata": {},
   "outputs": [],
   "source": [
    "code_sichong_df = code_sichong_df.apply(lambda x: x.str.replace(',',''))"
   ]
  },
  {
   "cell_type": "code",
   "execution_count": 269,
   "metadata": {},
   "outputs": [
    {
     "data": {
      "text/html": [
       "<div>\n",
       "<table border=\"1\" class=\"dataframe\">\n",
       "  <thead>\n",
       "    <tr style=\"text-align: right;\">\n",
       "      <th></th>\n",
       "      <th>종목코드</th>\n",
       "      <th>시가총액</th>\n",
       "    </tr>\n",
       "  </thead>\n",
       "  <tbody>\n",
       "    <tr>\n",
       "      <th>0</th>\n",
       "      <td>306200</td>\n",
       "      <td>1943</td>\n",
       "    </tr>\n",
       "    <tr>\n",
       "      <th>1</th>\n",
       "      <td>293480</td>\n",
       "      <td>4811</td>\n",
       "    </tr>\n",
       "    <tr>\n",
       "      <th>2</th>\n",
       "      <td>010400</td>\n",
       "      <td>1109</td>\n",
       "    </tr>\n",
       "    <tr>\n",
       "      <th>3</th>\n",
       "      <td>293940</td>\n",
       "      <td>2248</td>\n",
       "    </tr>\n",
       "    <tr>\n",
       "      <th>4</th>\n",
       "      <td>300720</td>\n",
       "      <td>6072</td>\n",
       "    </tr>\n",
       "  </tbody>\n",
       "</table>\n",
       "</div>"
      ],
      "text/plain": [
       "     종목코드  시가총액\n",
       "0  306200  1943\n",
       "1  293480  4811\n",
       "2  010400  1109\n",
       "3  293940  2248\n",
       "4  300720  6072"
      ]
     },
     "execution_count": 269,
     "metadata": {},
     "output_type": "execute_result"
    }
   ],
   "source": [
    "code_sichong_df.head()"
   ]
  },
  {
   "cell_type": "code",
   "execution_count": 270,
   "metadata": {},
   "outputs": [],
   "source": [
    "code_sichong_df = code_sichong_df.apply(lambda x: x.str.replace('조',''))"
   ]
  },
  {
   "cell_type": "code",
   "execution_count": 271,
   "metadata": {},
   "outputs": [
    {
     "data": {
      "text/html": [
       "<div>\n",
       "<table border=\"1\" class=\"dataframe\">\n",
       "  <thead>\n",
       "    <tr style=\"text-align: right;\">\n",
       "      <th></th>\n",
       "      <th>종목코드</th>\n",
       "      <th>시가총액</th>\n",
       "    </tr>\n",
       "  </thead>\n",
       "  <tbody>\n",
       "    <tr>\n",
       "      <th>784</th>\n",
       "      <td>000120</td>\n",
       "      <td>34903</td>\n",
       "    </tr>\n",
       "    <tr>\n",
       "      <th>785</th>\n",
       "      <td>000060</td>\n",
       "      <td>22111</td>\n",
       "    </tr>\n",
       "    <tr>\n",
       "      <th>786</th>\n",
       "      <td>000050</td>\n",
       "      <td>3578</td>\n",
       "    </tr>\n",
       "    <tr>\n",
       "      <th>787</th>\n",
       "      <td>000700</td>\n",
       "      <td>1727</td>\n",
       "    </tr>\n",
       "    <tr>\n",
       "      <th>788</th>\n",
       "      <td>003480</td>\n",
       "      <td>973</td>\n",
       "    </tr>\n",
       "  </tbody>\n",
       "</table>\n",
       "</div>"
      ],
      "text/plain": [
       "       종목코드   시가총액\n",
       "784  000120  34903\n",
       "785  000060  22111\n",
       "786  000050   3578\n",
       "787  000700   1727\n",
       "788  003480    973"
      ]
     },
     "execution_count": 271,
     "metadata": {},
     "output_type": "execute_result"
    }
   ],
   "source": [
    "code_sichong_df.tail()"
   ]
  },
  {
   "cell_type": "code",
   "execution_count": 273,
   "metadata": {
    "scrolled": true
   },
   "outputs": [],
   "source": [
    "code_sichong_df.to_csv('C:/Users/caban/Desktop/career/FinLab/kospi_portfolio/code_sichong.csv', index=False)"
   ]
  },
  {
   "cell_type": "code",
   "execution_count": 281,
   "metadata": {
    "scrolled": true
   },
   "outputs": [],
   "source": [
    "code_sichong_df = code_sichong_df.astype(int)"
   ]
  },
  {
   "cell_type": "code",
   "execution_count": 282,
   "metadata": {
    "scrolled": true
   },
   "outputs": [
    {
     "data": {
      "text/plain": [
       "numpy.int32"
      ]
     },
     "execution_count": 282,
     "metadata": {},
     "output_type": "execute_result"
    }
   ],
   "source": [
    "type(code_sichong_df['종목코드'][0])"
   ]
  },
  {
   "cell_type": "code",
   "execution_count": 283,
   "metadata": {},
   "outputs": [],
   "source": [
    "total_sichong = code_sichong_df['시가총액'].sum()"
   ]
  },
  {
   "cell_type": "code",
   "execution_count": 284,
   "metadata": {},
   "outputs": [
    {
     "data": {
      "text/plain": [
       "13627456"
      ]
     },
     "execution_count": 284,
     "metadata": {},
     "output_type": "execute_result"
    }
   ],
   "source": [
    "total_sichong"
   ]
  },
  {
   "cell_type": "code",
   "execution_count": 285,
   "metadata": {},
   "outputs": [],
   "source": [
    "weight = [] "
   ]
  },
  {
   "cell_type": "code",
   "execution_count": 286,
   "metadata": {},
   "outputs": [],
   "source": [
    "for i in code_sichong_df['시가총액']:\n",
    "    weight.append(i / total_sichong)"
   ]
  },
  {
   "cell_type": "code",
   "execution_count": 287,
   "metadata": {},
   "outputs": [
    {
     "data": {
      "text/plain": [
       "[0.000142579803596504,\n",
       " 0.00035303728003231125,\n",
       " 8.13798261392295e-05,\n",
       " 0.00016496109031649046,\n",
       " 0.0004455710588975668]"
      ]
     },
     "execution_count": 287,
     "metadata": {},
     "output_type": "execute_result"
    }
   ],
   "source": [
    "weight[0:5]"
   ]
  },
  {
   "cell_type": "code",
   "execution_count": 296,
   "metadata": {},
   "outputs": [],
   "source": [
    "weight = pd.Series(weight)"
   ]
  },
  {
   "cell_type": "code",
   "execution_count": 316,
   "metadata": {},
   "outputs": [],
   "source": [
    "all_df = pd.concat([code_sichong_df, result], axis=1)"
   ]
  },
  {
   "cell_type": "code",
   "execution_count": 317,
   "metadata": {},
   "outputs": [],
   "source": [
    "all_df.rename(columns={0:'등락률'}, inplace=True)"
   ]
  },
  {
   "cell_type": "code",
   "execution_count": 318,
   "metadata": {},
   "outputs": [
    {
     "data": {
      "text/html": [
       "<div>\n",
       "<table border=\"1\" class=\"dataframe\">\n",
       "  <thead>\n",
       "    <tr style=\"text-align: right;\">\n",
       "      <th></th>\n",
       "      <th>종목코드</th>\n",
       "      <th>시가총액</th>\n",
       "      <th>등락률</th>\n",
       "    </tr>\n",
       "  </thead>\n",
       "  <tbody>\n",
       "    <tr>\n",
       "      <th>0</th>\n",
       "      <td>306200</td>\n",
       "      <td>1943</td>\n",
       "      <td>-0.0616</td>\n",
       "    </tr>\n",
       "    <tr>\n",
       "      <th>1</th>\n",
       "      <td>293480</td>\n",
       "      <td>4811</td>\n",
       "      <td>-0.0616</td>\n",
       "    </tr>\n",
       "    <tr>\n",
       "      <th>2</th>\n",
       "      <td>10400</td>\n",
       "      <td>1109</td>\n",
       "      <td>0.1046</td>\n",
       "    </tr>\n",
       "    <tr>\n",
       "      <th>3</th>\n",
       "      <td>293940</td>\n",
       "      <td>2248</td>\n",
       "      <td>0.0183</td>\n",
       "    </tr>\n",
       "    <tr>\n",
       "      <th>4</th>\n",
       "      <td>300720</td>\n",
       "      <td>6072</td>\n",
       "      <td>0.0000</td>\n",
       "    </tr>\n",
       "  </tbody>\n",
       "</table>\n",
       "</div>"
      ],
      "text/plain": [
       "     종목코드  시가총액     등락률\n",
       "0  306200  1943 -0.0616\n",
       "1  293480  4811 -0.0616\n",
       "2   10400  1109  0.1046\n",
       "3  293940  2248  0.0183\n",
       "4  300720  6072  0.0000"
      ]
     },
     "execution_count": 318,
     "metadata": {},
     "output_type": "execute_result"
    }
   ],
   "source": [
    "all_df.head()"
   ]
  },
  {
   "cell_type": "code",
   "execution_count": 295,
   "metadata": {},
   "outputs": [],
   "source": [
    "all_df.to_csv('C:/Users/caban/Desktop/career/FinLab/kospi_portfolio/all_df.csv', index=False)"
   ]
  },
  {
   "cell_type": "code",
   "execution_count": 319,
   "metadata": {},
   "outputs": [],
   "source": [
    "all_df = pd.concat([all_df, weight], axis=1)"
   ]
  },
  {
   "cell_type": "code",
   "execution_count": 320,
   "metadata": {
    "scrolled": true
   },
   "outputs": [],
   "source": [
    "all_df.rename(columns={0:'가중계수'}, inplace=True)"
   ]
  },
  {
   "cell_type": "code",
   "execution_count": 300,
   "metadata": {},
   "outputs": [],
   "source": [
    "all_df.to_csv('C:/Users/caban/Desktop/career/FinLab/kospi_portfolio/all_df_1.csv', index=False)"
   ]
  },
  {
   "cell_type": "code",
   "execution_count": 321,
   "metadata": {},
   "outputs": [
    {
     "data": {
      "text/html": [
       "<div>\n",
       "<table border=\"1\" class=\"dataframe\">\n",
       "  <thead>\n",
       "    <tr style=\"text-align: right;\">\n",
       "      <th></th>\n",
       "      <th>종목코드</th>\n",
       "      <th>시가총액</th>\n",
       "      <th>등락률</th>\n",
       "      <th>가중계수</th>\n",
       "    </tr>\n",
       "  </thead>\n",
       "  <tbody>\n",
       "    <tr>\n",
       "      <th>0</th>\n",
       "      <td>306200</td>\n",
       "      <td>1943</td>\n",
       "      <td>-0.0616</td>\n",
       "      <td>0.000143</td>\n",
       "    </tr>\n",
       "    <tr>\n",
       "      <th>1</th>\n",
       "      <td>293480</td>\n",
       "      <td>4811</td>\n",
       "      <td>-0.0616</td>\n",
       "      <td>0.000353</td>\n",
       "    </tr>\n",
       "    <tr>\n",
       "      <th>2</th>\n",
       "      <td>10400</td>\n",
       "      <td>1109</td>\n",
       "      <td>0.1046</td>\n",
       "      <td>0.000081</td>\n",
       "    </tr>\n",
       "    <tr>\n",
       "      <th>3</th>\n",
       "      <td>293940</td>\n",
       "      <td>2248</td>\n",
       "      <td>0.0183</td>\n",
       "      <td>0.000165</td>\n",
       "    </tr>\n",
       "    <tr>\n",
       "      <th>4</th>\n",
       "      <td>300720</td>\n",
       "      <td>6072</td>\n",
       "      <td>0.0000</td>\n",
       "      <td>0.000446</td>\n",
       "    </tr>\n",
       "  </tbody>\n",
       "</table>\n",
       "</div>"
      ],
      "text/plain": [
       "     종목코드  시가총액     등락률      가중계수\n",
       "0  306200  1943 -0.0616  0.000143\n",
       "1  293480  4811 -0.0616  0.000353\n",
       "2   10400  1109  0.1046  0.000081\n",
       "3  293940  2248  0.0183  0.000165\n",
       "4  300720  6072  0.0000  0.000446"
      ]
     },
     "execution_count": 321,
     "metadata": {},
     "output_type": "execute_result"
    }
   ],
   "source": [
    "all_df.head()"
   ]
  },
  {
   "cell_type": "code",
   "execution_count": 322,
   "metadata": {
    "scrolled": true
   },
   "outputs": [
    {
     "name": "stdout",
     "output_type": "stream",
     "text": [
      "<class 'pandas.core.frame.DataFrame'>\n",
      "RangeIndex: 789 entries, 0 to 788\n",
      "Data columns (total 4 columns):\n",
      "종목코드    789 non-null int32\n",
      "시가총액    789 non-null int32\n",
      "등락률     789 non-null float64\n",
      "가중계수    789 non-null float64\n",
      "dtypes: float64(2), int32(2)\n",
      "memory usage: 18.6 KB\n"
     ]
    }
   ],
   "source": [
    "all_df.info()"
   ]
  },
  {
   "cell_type": "code",
   "execution_count": 323,
   "metadata": {},
   "outputs": [],
   "source": [
    "for i in all_df['등락률']:\n",
    "    for j in all_df['가중계수']:\n",
    "        fake_kospi += i * j"
   ]
  },
  {
   "cell_type": "code",
   "execution_count": 324,
   "metadata": {},
   "outputs": [
    {
     "data": {
      "text/plain": [
       "-3.70730000000002"
      ]
     },
     "execution_count": 324,
     "metadata": {},
     "output_type": "execute_result"
    }
   ],
   "source": [
    "fake_kospi"
   ]
  }
 ],
 "metadata": {
  "kernelspec": {
   "display_name": "Python 3",
   "language": "python",
   "name": "python3"
  },
  "language_info": {
   "codemirror_mode": {
    "name": "ipython",
    "version": 3
   },
   "file_extension": ".py",
   "mimetype": "text/x-python",
   "name": "python",
   "nbconvert_exporter": "python",
   "pygments_lexer": "ipython3",
   "version": "3.5.5"
  }
 },
 "nbformat": 4,
 "nbformat_minor": 2
}

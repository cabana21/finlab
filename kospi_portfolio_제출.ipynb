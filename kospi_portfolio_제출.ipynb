{
 "cells": [
  {
   "cell_type": "code",
   "execution_count": 1,
   "metadata": {},
   "outputs": [],
   "source": [
    "import pandas as pd\n",
    "import numpy as np\n",
    "import seaborn as sns\n",
    "import scipy.stats"
   ]
  },
  {
   "cell_type": "markdown",
   "metadata": {},
   "source": [
    "# 데이터 불러오기"
   ]
  },
  {
   "cell_type": "code",
   "execution_count": 5,
   "metadata": {
    "scrolled": true
   },
   "outputs": [],
   "source": [
    "return_df = pd.read_excel('C:/Users/caban/Desktop/career/finance/FinLab/kospi_portfolio/kospi_df_1.xlsx', sheet_name=0, header=0)"
   ]
  },
  {
   "cell_type": "code",
   "execution_count": 6,
   "metadata": {},
   "outputs": [
    {
     "data": {
      "text/html": [
       "<div>\n",
       "<style scoped>\n",
       "    .dataframe tbody tr th:only-of-type {\n",
       "        vertical-align: middle;\n",
       "    }\n",
       "\n",
       "    .dataframe tbody tr th {\n",
       "        vertical-align: top;\n",
       "    }\n",
       "\n",
       "    .dataframe thead th {\n",
       "        text-align: right;\n",
       "    }\n",
       "</style>\n",
       "<table border=\"1\" class=\"dataframe\">\n",
       "  <thead>\n",
       "    <tr style=\"text-align: right;\">\n",
       "      <th></th>\n",
       "      <th>날짜</th>\n",
       "      <th>kospi 수익률</th>\n",
       "      <th>kospi 시가총액</th>\n",
       "    </tr>\n",
       "  </thead>\n",
       "  <tbody>\n",
       "    <tr>\n",
       "      <th>0</th>\n",
       "      <td>2017-10-02</td>\n",
       "      <td>0.9</td>\n",
       "      <td>100</td>\n",
       "    </tr>\n",
       "    <tr>\n",
       "      <th>1</th>\n",
       "      <td>2017-10-03</td>\n",
       "      <td>0.9</td>\n",
       "      <td>100</td>\n",
       "    </tr>\n",
       "    <tr>\n",
       "      <th>2</th>\n",
       "      <td>2017-10-04</td>\n",
       "      <td>0.9</td>\n",
       "      <td>100</td>\n",
       "    </tr>\n",
       "    <tr>\n",
       "      <th>3</th>\n",
       "      <td>2017-10-05</td>\n",
       "      <td>0.9</td>\n",
       "      <td>100</td>\n",
       "    </tr>\n",
       "    <tr>\n",
       "      <th>4</th>\n",
       "      <td>2017-10-06</td>\n",
       "      <td>0.9</td>\n",
       "      <td>100</td>\n",
       "    </tr>\n",
       "  </tbody>\n",
       "</table>\n",
       "</div>"
      ],
      "text/plain": [
       "          날짜  kospi 수익률  kospi 시가총액\n",
       "0 2017-10-02        0.9         100\n",
       "1 2017-10-03        0.9         100\n",
       "2 2017-10-04        0.9         100\n",
       "3 2017-10-05        0.9         100\n",
       "4 2017-10-06        0.9         100"
      ]
     },
     "execution_count": 6,
     "metadata": {},
     "output_type": "execute_result"
    }
   ],
   "source": [
    "return_df.head()"
   ]
  },
  {
   "cell_type": "code",
   "execution_count": 7,
   "metadata": {},
   "outputs": [],
   "source": [
    "return_df.rename(columns = {'날짜' : 'date', 'kospi 수익률' : 'kospi_return'}, inplace=True)"
   ]
  },
  {
   "cell_type": "code",
   "execution_count": 8,
   "metadata": {},
   "outputs": [],
   "source": [
    "return_df.drop('kospi 시가총액', axis=1, inplace=True)"
   ]
  },
  {
   "cell_type": "code",
   "execution_count": 9,
   "metadata": {},
   "outputs": [
    {
     "data": {
      "text/html": [
       "<div>\n",
       "<style scoped>\n",
       "    .dataframe tbody tr th:only-of-type {\n",
       "        vertical-align: middle;\n",
       "    }\n",
       "\n",
       "    .dataframe tbody tr th {\n",
       "        vertical-align: top;\n",
       "    }\n",
       "\n",
       "    .dataframe thead th {\n",
       "        text-align: right;\n",
       "    }\n",
       "</style>\n",
       "<table border=\"1\" class=\"dataframe\">\n",
       "  <thead>\n",
       "    <tr style=\"text-align: right;\">\n",
       "      <th></th>\n",
       "      <th>date</th>\n",
       "      <th>kospi_return</th>\n",
       "    </tr>\n",
       "  </thead>\n",
       "  <tbody>\n",
       "    <tr>\n",
       "      <th>0</th>\n",
       "      <td>2017-10-02</td>\n",
       "      <td>0.9</td>\n",
       "    </tr>\n",
       "    <tr>\n",
       "      <th>1</th>\n",
       "      <td>2017-10-03</td>\n",
       "      <td>0.9</td>\n",
       "    </tr>\n",
       "    <tr>\n",
       "      <th>2</th>\n",
       "      <td>2017-10-04</td>\n",
       "      <td>0.9</td>\n",
       "    </tr>\n",
       "    <tr>\n",
       "      <th>3</th>\n",
       "      <td>2017-10-05</td>\n",
       "      <td>0.9</td>\n",
       "    </tr>\n",
       "    <tr>\n",
       "      <th>4</th>\n",
       "      <td>2017-10-06</td>\n",
       "      <td>0.9</td>\n",
       "    </tr>\n",
       "  </tbody>\n",
       "</table>\n",
       "</div>"
      ],
      "text/plain": [
       "        date  kospi_return\n",
       "0 2017-10-02           0.9\n",
       "1 2017-10-03           0.9\n",
       "2 2017-10-04           0.9\n",
       "3 2017-10-05           0.9\n",
       "4 2017-10-06           0.9"
      ]
     },
     "execution_count": 9,
     "metadata": {},
     "output_type": "execute_result"
    }
   ],
   "source": [
    "return_df.head()"
   ]
  },
  {
   "cell_type": "code",
   "execution_count": 10,
   "metadata": {},
   "outputs": [],
   "source": [
    "return_kospi_df = return_df\n",
    "del return_df"
   ]
  },
  {
   "cell_type": "code",
   "execution_count": 12,
   "metadata": {},
   "outputs": [],
   "source": [
    "return_individual_df = pd.read_excel('C:/Users/caban/Desktop/career/finance/FinLab/kospi_portfolio/kospi_df_1.xlsx', sheet_name=1)"
   ]
  },
  {
   "cell_type": "code",
   "execution_count": 13,
   "metadata": {},
   "outputs": [
    {
     "name": "stdout",
     "output_type": "stream",
     "text": [
      "<class 'pandas.core.frame.DataFrame'>\n",
      "RangeIndex: 362 entries, 0 to 361\n",
      "Columns: 885 entries, date to 엘브이엠씨홀딩스\n",
      "dtypes: datetime64[ns](1), float64(884)\n",
      "memory usage: 2.4 MB\n"
     ]
    }
   ],
   "source": [
    "return_individual_df.info()"
   ]
  },
  {
   "cell_type": "code",
   "execution_count": 14,
   "metadata": {},
   "outputs": [],
   "source": [
    "return_individual_df.fillna(0, inplace=True)"
   ]
  },
  {
   "cell_type": "code",
   "execution_count": 15,
   "metadata": {},
   "outputs": [],
   "source": [
    "sichong_individual_df = pd.read_excel('C:/Users/caban/Desktop/career/finance/FinLab/kospi_portfolio/kospi_df_1.xlsx', sheet_name=2)"
   ]
  },
  {
   "cell_type": "code",
   "execution_count": 16,
   "metadata": {},
   "outputs": [],
   "source": [
    "sichong_individual_df.set_index('date', inplace=True)"
   ]
  },
  {
   "cell_type": "code",
   "execution_count": 17,
   "metadata": {},
   "outputs": [],
   "source": [
    "return_kospi_df.set_index('date', inplace=True)"
   ]
  },
  {
   "cell_type": "code",
   "execution_count": 18,
   "metadata": {
    "scrolled": true
   },
   "outputs": [],
   "source": [
    "return_individual_df.set_index('date', inplace=True)"
   ]
  },
  {
   "cell_type": "code",
   "execution_count": 19,
   "metadata": {
    "scrolled": true
   },
   "outputs": [],
   "source": [
    "sichong_individual_df.fillna(0, inplace=True)"
   ]
  },
  {
   "cell_type": "markdown",
   "metadata": {},
   "source": [
    "# 합산 시가총액 시리즈 만들기"
   ]
  },
  {
   "cell_type": "code",
   "execution_count": 20,
   "metadata": {
    "scrolled": true
   },
   "outputs": [],
   "source": [
    "sichong_total_series = sichong_individual_df.apply((lambda x: sum(x)), axis=1)"
   ]
  },
  {
   "cell_type": "code",
   "execution_count": 21,
   "metadata": {},
   "outputs": [
    {
     "data": {
      "text/plain": [
       "date\n",
       "2018-09-24    1.560659e+09\n",
       "2018-09-25    1.560659e+09\n",
       "2018-09-26    1.560659e+09\n",
       "2018-09-27    1.571317e+09\n",
       "2018-09-28    1.562833e+09\n",
       "dtype: float64"
      ]
     },
     "execution_count": 21,
     "metadata": {},
     "output_type": "execute_result"
    }
   ],
   "source": [
    "sichong_total_series.tail()"
   ]
  },
  {
   "cell_type": "code",
   "execution_count": 22,
   "metadata": {},
   "outputs": [
    {
     "data": {
      "text/plain": [
       "362"
      ]
     },
     "execution_count": 22,
     "metadata": {},
     "output_type": "execute_result"
    }
   ],
   "source": [
    "len(sichong_total_series)"
   ]
  },
  {
   "cell_type": "code",
   "execution_count": 23,
   "metadata": {
    "scrolled": true
   },
   "outputs": [
    {
     "data": {
      "text/plain": [
       "884"
      ]
     },
     "execution_count": 23,
     "metadata": {},
     "output_type": "execute_result"
    }
   ],
   "source": [
    "len(sichong_individual_df.columns)"
   ]
  },
  {
   "cell_type": "code",
   "execution_count": 24,
   "metadata": {},
   "outputs": [
    {
     "data": {
      "text/plain": [
       "362"
      ]
     },
     "execution_count": 24,
     "metadata": {},
     "output_type": "execute_result"
    }
   ],
   "source": [
    "len(sichong_individual_df)"
   ]
  },
  {
   "cell_type": "markdown",
   "metadata": {},
   "source": [
    "# 가중계수 구하는 함수"
   ]
  },
  {
   "cell_type": "code",
   "execution_count": 25,
   "metadata": {},
   "outputs": [],
   "source": [
    "def calculate_weight(col_name):\n",
    "    weight_list = []\n",
    "    for i in range(0, len(sichong_total_series)):\n",
    "        weight_list.append(sichong_individual_df[col_name][i] / sichong_total_series[i])\n",
    "    weight_df = pd.DataFrame(data=weight_list, columns=[col_name])\n",
    "    \n",
    "    return weight_df"
   ]
  },
  {
   "cell_type": "code",
   "execution_count": 26,
   "metadata": {
    "scrolled": true
   },
   "outputs": [],
   "source": [
    "weight_df = calculate_weight('동화약품')"
   ]
  },
  {
   "cell_type": "code",
   "execution_count": 27,
   "metadata": {
    "scrolled": true
   },
   "outputs": [],
   "source": [
    "weight_df.rename(columns={'동화약품':0}, inplace=True)"
   ]
  },
  {
   "cell_type": "code",
   "execution_count": 28,
   "metadata": {},
   "outputs": [],
   "source": [
    "for col in sichong_individual_df.columns:\n",
    "    weight_df_1 = calculate_weight(col)\n",
    "    weight_df = pd.concat([weight_df, weight_df_1], axis=1)"
   ]
  },
  {
   "cell_type": "code",
   "execution_count": 29,
   "metadata": {
    "scrolled": true
   },
   "outputs": [],
   "source": [
    "weight_df.drop(0, axis=1, inplace=True)"
   ]
  },
  {
   "cell_type": "code",
   "execution_count": 30,
   "metadata": {},
   "outputs": [
    {
     "data": {
      "text/html": [
       "<div>\n",
       "<style scoped>\n",
       "    .dataframe tbody tr th:only-of-type {\n",
       "        vertical-align: middle;\n",
       "    }\n",
       "\n",
       "    .dataframe tbody tr th {\n",
       "        vertical-align: top;\n",
       "    }\n",
       "\n",
       "    .dataframe thead th {\n",
       "        text-align: right;\n",
       "    }\n",
       "</style>\n",
       "<table border=\"1\" class=\"dataframe\">\n",
       "  <thead>\n",
       "    <tr style=\"text-align: right;\">\n",
       "      <th></th>\n",
       "      <th>동화약품</th>\n",
       "      <th>우리은행</th>\n",
       "      <th>KR모터스</th>\n",
       "      <th>경방</th>\n",
       "      <th>메리츠화재</th>\n",
       "      <th>삼양홀딩스</th>\n",
       "      <th>삼양홀딩스우</th>\n",
       "      <th>하이트진로</th>\n",
       "      <th>하이트진로2우B</th>\n",
       "      <th>유한양행</th>\n",
       "      <th>...</th>\n",
       "      <th>롯데정보통신</th>\n",
       "      <th>하나제약</th>\n",
       "      <th>HDC현대산업개발</th>\n",
       "      <th>효성화학</th>\n",
       "      <th>효성티앤씨</th>\n",
       "      <th>효성중공업</th>\n",
       "      <th>효성첨단소재</th>\n",
       "      <th>한일시멘트</th>\n",
       "      <th>세아제강</th>\n",
       "      <th>엘브이엠씨홀딩스</th>\n",
       "    </tr>\n",
       "  </thead>\n",
       "  <tbody>\n",
       "    <tr>\n",
       "      <th>0</th>\n",
       "      <td>0.000152</td>\n",
       "      <td>0.007682</td>\n",
       "      <td>0.000062</td>\n",
       "      <td>0.000246</td>\n",
       "      <td>0.001732</td>\n",
       "      <td>0.000483</td>\n",
       "      <td>0.000011</td>\n",
       "      <td>0.001174</td>\n",
       "      <td>0.000014</td>\n",
       "      <td>0.001534</td>\n",
       "      <td>...</td>\n",
       "      <td>0.0</td>\n",
       "      <td>0.0</td>\n",
       "      <td>0.0</td>\n",
       "      <td>0.0</td>\n",
       "      <td>0.0</td>\n",
       "      <td>0.0</td>\n",
       "      <td>0.0</td>\n",
       "      <td>0.0</td>\n",
       "      <td>0.0</td>\n",
       "      <td>0.000153</td>\n",
       "    </tr>\n",
       "    <tr>\n",
       "      <th>1</th>\n",
       "      <td>0.000152</td>\n",
       "      <td>0.007682</td>\n",
       "      <td>0.000062</td>\n",
       "      <td>0.000246</td>\n",
       "      <td>0.001732</td>\n",
       "      <td>0.000483</td>\n",
       "      <td>0.000011</td>\n",
       "      <td>0.001174</td>\n",
       "      <td>0.000014</td>\n",
       "      <td>0.001534</td>\n",
       "      <td>...</td>\n",
       "      <td>0.0</td>\n",
       "      <td>0.0</td>\n",
       "      <td>0.0</td>\n",
       "      <td>0.0</td>\n",
       "      <td>0.0</td>\n",
       "      <td>0.0</td>\n",
       "      <td>0.0</td>\n",
       "      <td>0.0</td>\n",
       "      <td>0.0</td>\n",
       "      <td>0.000153</td>\n",
       "    </tr>\n",
       "    <tr>\n",
       "      <th>2</th>\n",
       "      <td>0.000152</td>\n",
       "      <td>0.007682</td>\n",
       "      <td>0.000062</td>\n",
       "      <td>0.000246</td>\n",
       "      <td>0.001732</td>\n",
       "      <td>0.000483</td>\n",
       "      <td>0.000011</td>\n",
       "      <td>0.001174</td>\n",
       "      <td>0.000014</td>\n",
       "      <td>0.001534</td>\n",
       "      <td>...</td>\n",
       "      <td>0.0</td>\n",
       "      <td>0.0</td>\n",
       "      <td>0.0</td>\n",
       "      <td>0.0</td>\n",
       "      <td>0.0</td>\n",
       "      <td>0.0</td>\n",
       "      <td>0.0</td>\n",
       "      <td>0.0</td>\n",
       "      <td>0.0</td>\n",
       "      <td>0.000153</td>\n",
       "    </tr>\n",
       "    <tr>\n",
       "      <th>3</th>\n",
       "      <td>0.000152</td>\n",
       "      <td>0.007682</td>\n",
       "      <td>0.000062</td>\n",
       "      <td>0.000246</td>\n",
       "      <td>0.001732</td>\n",
       "      <td>0.000483</td>\n",
       "      <td>0.000011</td>\n",
       "      <td>0.001174</td>\n",
       "      <td>0.000014</td>\n",
       "      <td>0.001534</td>\n",
       "      <td>...</td>\n",
       "      <td>0.0</td>\n",
       "      <td>0.0</td>\n",
       "      <td>0.0</td>\n",
       "      <td>0.0</td>\n",
       "      <td>0.0</td>\n",
       "      <td>0.0</td>\n",
       "      <td>0.0</td>\n",
       "      <td>0.0</td>\n",
       "      <td>0.0</td>\n",
       "      <td>0.000153</td>\n",
       "    </tr>\n",
       "    <tr>\n",
       "      <th>4</th>\n",
       "      <td>0.000152</td>\n",
       "      <td>0.007682</td>\n",
       "      <td>0.000062</td>\n",
       "      <td>0.000246</td>\n",
       "      <td>0.001732</td>\n",
       "      <td>0.000483</td>\n",
       "      <td>0.000011</td>\n",
       "      <td>0.001174</td>\n",
       "      <td>0.000014</td>\n",
       "      <td>0.001534</td>\n",
       "      <td>...</td>\n",
       "      <td>0.0</td>\n",
       "      <td>0.0</td>\n",
       "      <td>0.0</td>\n",
       "      <td>0.0</td>\n",
       "      <td>0.0</td>\n",
       "      <td>0.0</td>\n",
       "      <td>0.0</td>\n",
       "      <td>0.0</td>\n",
       "      <td>0.0</td>\n",
       "      <td>0.000153</td>\n",
       "    </tr>\n",
       "  </tbody>\n",
       "</table>\n",
       "<p>5 rows × 884 columns</p>\n",
       "</div>"
      ],
      "text/plain": [
       "       동화약품      우리은행     KR모터스        경방     메리츠화재     삼양홀딩스    삼양홀딩스우  \\\n",
       "0  0.000152  0.007682  0.000062  0.000246  0.001732  0.000483  0.000011   \n",
       "1  0.000152  0.007682  0.000062  0.000246  0.001732  0.000483  0.000011   \n",
       "2  0.000152  0.007682  0.000062  0.000246  0.001732  0.000483  0.000011   \n",
       "3  0.000152  0.007682  0.000062  0.000246  0.001732  0.000483  0.000011   \n",
       "4  0.000152  0.007682  0.000062  0.000246  0.001732  0.000483  0.000011   \n",
       "\n",
       "      하이트진로  하이트진로2우B      유한양행    ...     롯데정보통신  하나제약  HDC현대산업개발  효성화학  \\\n",
       "0  0.001174  0.000014  0.001534    ...        0.0   0.0        0.0   0.0   \n",
       "1  0.001174  0.000014  0.001534    ...        0.0   0.0        0.0   0.0   \n",
       "2  0.001174  0.000014  0.001534    ...        0.0   0.0        0.0   0.0   \n",
       "3  0.001174  0.000014  0.001534    ...        0.0   0.0        0.0   0.0   \n",
       "4  0.001174  0.000014  0.001534    ...        0.0   0.0        0.0   0.0   \n",
       "\n",
       "   효성티앤씨  효성중공업  효성첨단소재  한일시멘트  세아제강  엘브이엠씨홀딩스  \n",
       "0    0.0    0.0     0.0    0.0   0.0  0.000153  \n",
       "1    0.0    0.0     0.0    0.0   0.0  0.000153  \n",
       "2    0.0    0.0     0.0    0.0   0.0  0.000153  \n",
       "3    0.0    0.0     0.0    0.0   0.0  0.000153  \n",
       "4    0.0    0.0     0.0    0.0   0.0  0.000153  \n",
       "\n",
       "[5 rows x 884 columns]"
      ]
     },
     "execution_count": 30,
     "metadata": {},
     "output_type": "execute_result"
    }
   ],
   "source": [
    "weight_df.head()"
   ]
  },
  {
   "cell_type": "code",
   "execution_count": 31,
   "metadata": {
    "scrolled": true
   },
   "outputs": [
    {
     "data": {
      "text/html": [
       "<div>\n",
       "<style scoped>\n",
       "    .dataframe tbody tr th:only-of-type {\n",
       "        vertical-align: middle;\n",
       "    }\n",
       "\n",
       "    .dataframe tbody tr th {\n",
       "        vertical-align: top;\n",
       "    }\n",
       "\n",
       "    .dataframe thead th {\n",
       "        text-align: right;\n",
       "    }\n",
       "</style>\n",
       "<table border=\"1\" class=\"dataframe\">\n",
       "  <thead>\n",
       "    <tr style=\"text-align: right;\">\n",
       "      <th></th>\n",
       "      <th>동화약품</th>\n",
       "      <th>우리은행</th>\n",
       "      <th>KR모터스</th>\n",
       "      <th>경방</th>\n",
       "      <th>메리츠화재</th>\n",
       "      <th>삼양홀딩스</th>\n",
       "      <th>삼양홀딩스우</th>\n",
       "      <th>하이트진로</th>\n",
       "      <th>하이트진로2우B</th>\n",
       "      <th>유한양행</th>\n",
       "      <th>...</th>\n",
       "      <th>롯데정보통신</th>\n",
       "      <th>하나제약</th>\n",
       "      <th>HDC현대산업개발</th>\n",
       "      <th>효성화학</th>\n",
       "      <th>효성티앤씨</th>\n",
       "      <th>효성중공업</th>\n",
       "      <th>효성첨단소재</th>\n",
       "      <th>한일시멘트</th>\n",
       "      <th>세아제강</th>\n",
       "      <th>엘브이엠씨홀딩스</th>\n",
       "    </tr>\n",
       "    <tr>\n",
       "      <th>date</th>\n",
       "      <th></th>\n",
       "      <th></th>\n",
       "      <th></th>\n",
       "      <th></th>\n",
       "      <th></th>\n",
       "      <th></th>\n",
       "      <th></th>\n",
       "      <th></th>\n",
       "      <th></th>\n",
       "      <th></th>\n",
       "      <th></th>\n",
       "      <th></th>\n",
       "      <th></th>\n",
       "      <th></th>\n",
       "      <th></th>\n",
       "      <th></th>\n",
       "      <th></th>\n",
       "      <th></th>\n",
       "      <th></th>\n",
       "      <th></th>\n",
       "      <th></th>\n",
       "    </tr>\n",
       "  </thead>\n",
       "  <tbody>\n",
       "    <tr>\n",
       "      <th>2017-10-02</th>\n",
       "      <td>0.12</td>\n",
       "      <td>0.85</td>\n",
       "      <td>1.97</td>\n",
       "      <td>-1.05</td>\n",
       "      <td>2.28</td>\n",
       "      <td>0.11</td>\n",
       "      <td>-0.18</td>\n",
       "      <td>0.77</td>\n",
       "      <td>1.32</td>\n",
       "      <td>1.23</td>\n",
       "      <td>...</td>\n",
       "      <td>0.0</td>\n",
       "      <td>0.0</td>\n",
       "      <td>0.0</td>\n",
       "      <td>0.0</td>\n",
       "      <td>0.0</td>\n",
       "      <td>0.0</td>\n",
       "      <td>0.0</td>\n",
       "      <td>0.0</td>\n",
       "      <td>0.0</td>\n",
       "      <td>0.0</td>\n",
       "    </tr>\n",
       "    <tr>\n",
       "      <th>2017-10-03</th>\n",
       "      <td>0.12</td>\n",
       "      <td>0.85</td>\n",
       "      <td>1.97</td>\n",
       "      <td>-1.05</td>\n",
       "      <td>2.28</td>\n",
       "      <td>0.11</td>\n",
       "      <td>-0.18</td>\n",
       "      <td>0.77</td>\n",
       "      <td>1.32</td>\n",
       "      <td>1.23</td>\n",
       "      <td>...</td>\n",
       "      <td>0.0</td>\n",
       "      <td>0.0</td>\n",
       "      <td>0.0</td>\n",
       "      <td>0.0</td>\n",
       "      <td>0.0</td>\n",
       "      <td>0.0</td>\n",
       "      <td>0.0</td>\n",
       "      <td>0.0</td>\n",
       "      <td>0.0</td>\n",
       "      <td>0.0</td>\n",
       "    </tr>\n",
       "    <tr>\n",
       "      <th>2017-10-04</th>\n",
       "      <td>0.12</td>\n",
       "      <td>0.85</td>\n",
       "      <td>1.97</td>\n",
       "      <td>-1.05</td>\n",
       "      <td>2.28</td>\n",
       "      <td>0.11</td>\n",
       "      <td>-0.18</td>\n",
       "      <td>0.77</td>\n",
       "      <td>1.32</td>\n",
       "      <td>1.23</td>\n",
       "      <td>...</td>\n",
       "      <td>0.0</td>\n",
       "      <td>0.0</td>\n",
       "      <td>0.0</td>\n",
       "      <td>0.0</td>\n",
       "      <td>0.0</td>\n",
       "      <td>0.0</td>\n",
       "      <td>0.0</td>\n",
       "      <td>0.0</td>\n",
       "      <td>0.0</td>\n",
       "      <td>0.0</td>\n",
       "    </tr>\n",
       "    <tr>\n",
       "      <th>2017-10-05</th>\n",
       "      <td>0.12</td>\n",
       "      <td>0.85</td>\n",
       "      <td>1.97</td>\n",
       "      <td>-1.05</td>\n",
       "      <td>2.28</td>\n",
       "      <td>0.11</td>\n",
       "      <td>-0.18</td>\n",
       "      <td>0.77</td>\n",
       "      <td>1.32</td>\n",
       "      <td>1.23</td>\n",
       "      <td>...</td>\n",
       "      <td>0.0</td>\n",
       "      <td>0.0</td>\n",
       "      <td>0.0</td>\n",
       "      <td>0.0</td>\n",
       "      <td>0.0</td>\n",
       "      <td>0.0</td>\n",
       "      <td>0.0</td>\n",
       "      <td>0.0</td>\n",
       "      <td>0.0</td>\n",
       "      <td>0.0</td>\n",
       "    </tr>\n",
       "    <tr>\n",
       "      <th>2017-10-06</th>\n",
       "      <td>0.12</td>\n",
       "      <td>0.85</td>\n",
       "      <td>1.97</td>\n",
       "      <td>-1.05</td>\n",
       "      <td>2.28</td>\n",
       "      <td>0.11</td>\n",
       "      <td>-0.18</td>\n",
       "      <td>0.77</td>\n",
       "      <td>1.32</td>\n",
       "      <td>1.23</td>\n",
       "      <td>...</td>\n",
       "      <td>0.0</td>\n",
       "      <td>0.0</td>\n",
       "      <td>0.0</td>\n",
       "      <td>0.0</td>\n",
       "      <td>0.0</td>\n",
       "      <td>0.0</td>\n",
       "      <td>0.0</td>\n",
       "      <td>0.0</td>\n",
       "      <td>0.0</td>\n",
       "      <td>0.0</td>\n",
       "    </tr>\n",
       "  </tbody>\n",
       "</table>\n",
       "<p>5 rows × 884 columns</p>\n",
       "</div>"
      ],
      "text/plain": [
       "            동화약품  우리은행  KR모터스    경방  메리츠화재  삼양홀딩스  삼양홀딩스우  하이트진로  하이트진로2우B  \\\n",
       "date                                                                         \n",
       "2017-10-02  0.12  0.85   1.97 -1.05   2.28   0.11   -0.18   0.77      1.32   \n",
       "2017-10-03  0.12  0.85   1.97 -1.05   2.28   0.11   -0.18   0.77      1.32   \n",
       "2017-10-04  0.12  0.85   1.97 -1.05   2.28   0.11   -0.18   0.77      1.32   \n",
       "2017-10-05  0.12  0.85   1.97 -1.05   2.28   0.11   -0.18   0.77      1.32   \n",
       "2017-10-06  0.12  0.85   1.97 -1.05   2.28   0.11   -0.18   0.77      1.32   \n",
       "\n",
       "            유한양행    ...     롯데정보통신  하나제약  HDC현대산업개발  효성화학  효성티앤씨  효성중공업  \\\n",
       "date                ...                                                   \n",
       "2017-10-02  1.23    ...        0.0   0.0        0.0   0.0    0.0    0.0   \n",
       "2017-10-03  1.23    ...        0.0   0.0        0.0   0.0    0.0    0.0   \n",
       "2017-10-04  1.23    ...        0.0   0.0        0.0   0.0    0.0    0.0   \n",
       "2017-10-05  1.23    ...        0.0   0.0        0.0   0.0    0.0    0.0   \n",
       "2017-10-06  1.23    ...        0.0   0.0        0.0   0.0    0.0    0.0   \n",
       "\n",
       "            효성첨단소재  한일시멘트  세아제강  엘브이엠씨홀딩스  \n",
       "date                                       \n",
       "2017-10-02     0.0    0.0   0.0       0.0  \n",
       "2017-10-03     0.0    0.0   0.0       0.0  \n",
       "2017-10-04     0.0    0.0   0.0       0.0  \n",
       "2017-10-05     0.0    0.0   0.0       0.0  \n",
       "2017-10-06     0.0    0.0   0.0       0.0  \n",
       "\n",
       "[5 rows x 884 columns]"
      ]
     },
     "execution_count": 31,
     "metadata": {},
     "output_type": "execute_result"
    }
   ],
   "source": [
    "return_individual_df.head()"
   ]
  },
  {
   "cell_type": "markdown",
   "metadata": {},
   "source": [
    "# r_p(코스피 수익률) = sigma(w_i * r_i) 계산하는 함수"
   ]
  },
  {
   "cell_type": "code",
   "execution_count": 32,
   "metadata": {},
   "outputs": [],
   "source": [
    "def calculate_fake_kospi():\n",
    "    result = []\n",
    "    for i in range(0, len(weight_df)):\n",
    "        fake_kospi_list = []\n",
    "        for col in weight_df.columns:\n",
    "            fake_kospi_list.append(weight_df[col][i] * return_individual_df[col][i])\n",
    "        result.append(sum(fake_kospi_list))\n",
    "    result = pd.Series(result)\n",
    "    \n",
    "    return result"
   ]
  },
  {
   "cell_type": "code",
   "execution_count": 33,
   "metadata": {},
   "outputs": [],
   "source": [
    "fake_kospi_df = calculate_fake_kospi()"
   ]
  },
  {
   "cell_type": "code",
   "execution_count": 34,
   "metadata": {
    "scrolled": true
   },
   "outputs": [],
   "source": [
    "fake_kospi_df = pd.DataFrame(data=fake_kospi_df, columns=['fake_kospi'])"
   ]
  },
  {
   "cell_type": "code",
   "execution_count": 35,
   "metadata": {
    "scrolled": true
   },
   "outputs": [],
   "source": [
    "fake_kospi_df = fake_kospi_df.apply(lambda x: round(x,2))"
   ]
  },
  {
   "cell_type": "code",
   "execution_count": 36,
   "metadata": {
    "scrolled": true
   },
   "outputs": [
    {
     "data": {
      "text/html": [
       "<div>\n",
       "<style scoped>\n",
       "    .dataframe tbody tr th:only-of-type {\n",
       "        vertical-align: middle;\n",
       "    }\n",
       "\n",
       "    .dataframe tbody tr th {\n",
       "        vertical-align: top;\n",
       "    }\n",
       "\n",
       "    .dataframe thead th {\n",
       "        text-align: right;\n",
       "    }\n",
       "</style>\n",
       "<table border=\"1\" class=\"dataframe\">\n",
       "  <thead>\n",
       "    <tr style=\"text-align: right;\">\n",
       "      <th></th>\n",
       "      <th>fake_kospi</th>\n",
       "    </tr>\n",
       "  </thead>\n",
       "  <tbody>\n",
       "    <tr>\n",
       "      <th>0</th>\n",
       "      <td>0.88</td>\n",
       "    </tr>\n",
       "    <tr>\n",
       "      <th>1</th>\n",
       "      <td>0.88</td>\n",
       "    </tr>\n",
       "    <tr>\n",
       "      <th>2</th>\n",
       "      <td>0.88</td>\n",
       "    </tr>\n",
       "    <tr>\n",
       "      <th>3</th>\n",
       "      <td>0.88</td>\n",
       "    </tr>\n",
       "    <tr>\n",
       "      <th>4</th>\n",
       "      <td>0.88</td>\n",
       "    </tr>\n",
       "  </tbody>\n",
       "</table>\n",
       "</div>"
      ],
      "text/plain": [
       "   fake_kospi\n",
       "0        0.88\n",
       "1        0.88\n",
       "2        0.88\n",
       "3        0.88\n",
       "4        0.88"
      ]
     },
     "execution_count": 36,
     "metadata": {},
     "output_type": "execute_result"
    }
   ],
   "source": [
    "fake_kospi_df.head()"
   ]
  },
  {
   "cell_type": "code",
   "execution_count": 37,
   "metadata": {
    "scrolled": true
   },
   "outputs": [
    {
     "data": {
      "text/html": [
       "<div>\n",
       "<style scoped>\n",
       "    .dataframe tbody tr th:only-of-type {\n",
       "        vertical-align: middle;\n",
       "    }\n",
       "\n",
       "    .dataframe tbody tr th {\n",
       "        vertical-align: top;\n",
       "    }\n",
       "\n",
       "    .dataframe thead th {\n",
       "        text-align: right;\n",
       "    }\n",
       "</style>\n",
       "<table border=\"1\" class=\"dataframe\">\n",
       "  <thead>\n",
       "    <tr style=\"text-align: right;\">\n",
       "      <th></th>\n",
       "      <th>kospi_return</th>\n",
       "    </tr>\n",
       "    <tr>\n",
       "      <th>date</th>\n",
       "      <th></th>\n",
       "    </tr>\n",
       "  </thead>\n",
       "  <tbody>\n",
       "    <tr>\n",
       "      <th>2017-10-02</th>\n",
       "      <td>0.9</td>\n",
       "    </tr>\n",
       "    <tr>\n",
       "      <th>2017-10-03</th>\n",
       "      <td>0.9</td>\n",
       "    </tr>\n",
       "    <tr>\n",
       "      <th>2017-10-04</th>\n",
       "      <td>0.9</td>\n",
       "    </tr>\n",
       "    <tr>\n",
       "      <th>2017-10-05</th>\n",
       "      <td>0.9</td>\n",
       "    </tr>\n",
       "    <tr>\n",
       "      <th>2017-10-06</th>\n",
       "      <td>0.9</td>\n",
       "    </tr>\n",
       "  </tbody>\n",
       "</table>\n",
       "</div>"
      ],
      "text/plain": [
       "            kospi_return\n",
       "date                    \n",
       "2017-10-02           0.9\n",
       "2017-10-03           0.9\n",
       "2017-10-04           0.9\n",
       "2017-10-05           0.9\n",
       "2017-10-06           0.9"
      ]
     },
     "execution_count": 37,
     "metadata": {},
     "output_type": "execute_result"
    }
   ],
   "source": [
    "return_kospi_df.head()"
   ]
  },
  {
   "cell_type": "markdown",
   "metadata": {},
   "source": [
    "# 코스피수익률 표본분포와 가중평균 코스피수익률 표본분포 비교\n",
    "### 육안상으로도 유사하지만, 통계량상으로도 유사하다\n",
    "### 두 분포 모두 negative skewed 분포이다"
   ]
  },
  {
   "cell_type": "code",
   "execution_count": 38,
   "metadata": {
    "scrolled": true
   },
   "outputs": [
    {
     "data": {
      "text/plain": [
       "<matplotlib.axes._subplots.AxesSubplot at 0x29ed2e2eda0>"
      ]
     },
     "execution_count": 38,
     "metadata": {},
     "output_type": "execute_result"
    },
    {
     "data": {
      "image/png": "[encoded data removed]",
      "text/plain": [
       "<Figure size 432x288 with 1 Axes>"
      ]
     },
     "metadata": {},
     "output_type": "display_data"
    }
   ],
   "source": [
    "sns.distplot(return_kospi_df['kospi_return'])"
   ]
  },
  {
   "cell_type": "code",
   "execution_count": 39,
   "metadata": {},
   "outputs": [
    {
     "data": {
      "text/plain": [
       "DescribeResult(nobs=362, minmax=(-3.18, 1.64), mean=0.08339779005524862, variance=0.6528008884161554, skewness=-0.9935428123549616, kurtosis=1.6366812933843198)"
      ]
     },
     "execution_count": 39,
     "metadata": {},
     "output_type": "execute_result"
    }
   ],
   "source": [
    "scipy.stats.describe(return_kospi_df['kospi_return'])"
   ]
  },
  {
   "cell_type": "code",
   "execution_count": 40,
   "metadata": {
    "scrolled": true
   },
   "outputs": [
    {
     "data": {
      "text/plain": [
       "<matplotlib.axes._subplots.AxesSubplot at 0x29ed448dfd0>"
      ]
     },
     "execution_count": 40,
     "metadata": {},
     "output_type": "execute_result"
    },
    {
     "data": {
      "image/png": "[encoded data removed]",
      "text/plain": [
       "<Figure size 432x288 with 1 Axes>"
      ]
     },
     "metadata": {},
     "output_type": "display_data"
    }
   ],
   "source": [
    "sns.distplot(fake_kospi_df['fake_kospi'])"
   ]
  },
  {
   "cell_type": "code",
   "execution_count": 41,
   "metadata": {},
   "outputs": [
    {
     "data": {
      "text/plain": [
       "DescribeResult(nobs=362, minmax=(-3.15, 1.7), mean=0.1287292817679558, variance=0.6771751121041919, skewness=-0.9604136028949245, kurtosis=1.5261451303050872)"
      ]
     },
     "execution_count": 41,
     "metadata": {},
     "output_type": "execute_result"
    }
   ],
   "source": [
    "scipy.stats.describe((fake_kospi_df['fake_kospi']))"
   ]
  },
  {
   "cell_type": "markdown",
   "metadata": {},
   "source": [
    "# Kolmogorov-Smirnov 검증(2개 표본) \n",
    "### D-통계량을 이용. 2개 표본의 cdf를 비교. D-통계량 값이 낮을수록 p-값은 커진다\n",
    "### H_0 : 2개 표본은 서로 같은 분포를 따름 vs H_a : 서로 다른 분포를 따름\n",
    "### 검증 결과 p-값이 설정하였던 유의수준 0.05 보다 크게 나와 귀무가설을 기각. 2개 표본은 같은 분포를 따른다는 결론"
   ]
  },
  {
   "cell_type": "code",
   "execution_count": 111,
   "metadata": {
    "scrolled": true
   },
   "outputs": [
    {
     "data": {
      "text/plain": [
       "Ks_2sampResult(statistic=0.074585635359116, pvalue=0.25631693704763575)"
      ]
     },
     "execution_count": 111,
     "metadata": {},
     "output_type": "execute_result"
    }
   ],
   "source": [
    "scipy.stats.ks_2samp(fake_kospi_df['fake_kospi'], return_kospi_df['kospi_return'])"
   ]
  },
  {
   "cell_type": "markdown",
   "metadata": {},
   "source": [
    "# 2개 표본에 대한 산점도, 피어슨 상관계수, line plot\n",
    "### 매우 유의한 양의 상관관계를 가지고 있다 -> 거의 같은 분포와 데이터값을 가진다\n",
    "### line plot을 봐도 거의 완전히 일치한다는 것을 알 수 있다"
   ]
  },
  {
   "cell_type": "code",
   "execution_count": 112,
   "metadata": {},
   "outputs": [],
   "source": [
    "fake_kospi_df.set_index(return_kospi_df.index, inplace=True)"
   ]
  },
  {
   "cell_type": "code",
   "execution_count": 113,
   "metadata": {},
   "outputs": [],
   "source": [
    "all_df_1 = fake_kospi_df.join(return_kospi_df)"
   ]
  },
  {
   "cell_type": "code",
   "execution_count": 114,
   "metadata": {},
   "outputs": [
    {
     "name": "stdout",
     "output_type": "stream",
     "text": [
      "<class 'pandas.core.frame.DataFrame'>\n",
      "DatetimeIndex: 362 entries, 2017-10-02 to 2018-09-28\n",
      "Freq: D\n",
      "Data columns (total 2 columns):\n",
      "fake_kospi      362 non-null float64\n",
      "kospi_return    362 non-null float64\n",
      "dtypes: float64(2)\n",
      "memory usage: 18.5 KB\n"
     ]
    }
   ],
   "source": [
    "all_df_1.info()"
   ]
  },
  {
   "cell_type": "code",
   "execution_count": 115,
   "metadata": {},
   "outputs": [
    {
     "data": {
      "text/plain": [
       "<matplotlib.axes._subplots.AxesSubplot at 0x29ed0e90390>"
      ]
     },
     "execution_count": 115,
     "metadata": {},
     "output_type": "execute_result"
    },
    {
     "data": {
      "image/png": "[encoded data removed]",
      "text/plain": [
       "<Figure size 432x288 with 1 Axes>"
      ]
     },
     "metadata": {},
     "output_type": "display_data"
    }
   ],
   "source": [
    "sns.scatterplot(data=all_df_1, x='fake_kospi', y='kospi_return')"
   ]
  },
  {
   "cell_type": "code",
   "execution_count": 116,
   "metadata": {},
   "outputs": [
    {
     "data": {
      "text/plain": [
       "(0.9967007510800246, 0.0)"
      ]
     },
     "execution_count": 116,
     "metadata": {},
     "output_type": "execute_result"
    }
   ],
   "source": [
    "scipy.stats.pearsonr(all_df_1['fake_kospi'], all_df_1['kospi_return'])"
   ]
  },
  {
   "cell_type": "code",
   "execution_count": 121,
   "metadata": {},
   "outputs": [
    {
     "data": {
      "text/plain": [
       "<matplotlib.axes._subplots.AxesSubplot at 0x29ed04f8160>"
      ]
     },
     "execution_count": 121,
     "metadata": {},
     "output_type": "execute_result"
    },
    {
     "data": {
      "image/png": "[encoded data removed]",
      "text/plain": [
       "<Figure size 432x288 with 1 Axes>"
      ]
     },
     "metadata": {},
     "output_type": "display_data"
    }
   ],
   "source": [
    "sns.lineplot(data=all_df_1)"
   ]
  },
  {
   "cell_type": "markdown",
   "metadata": {},
   "source": [
    "# 배당수익률 데이터 불러오기"
   ]
  },
  {
   "cell_type": "code",
   "execution_count": 43,
   "metadata": {},
   "outputs": [],
   "source": [
    "dividend_df = pd.read_excel('C:/Users/caban/Desktop/career/finance/FinLab/kospi_portfolio/dividend_df_1.xlsx')"
   ]
  },
  {
   "cell_type": "code",
   "execution_count": 44,
   "metadata": {},
   "outputs": [
    {
     "data": {
      "text/html": [
       "<div>\n",
       "<style scoped>\n",
       "    .dataframe tbody tr th:only-of-type {\n",
       "        vertical-align: middle;\n",
       "    }\n",
       "\n",
       "    .dataframe tbody tr th {\n",
       "        vertical-align: top;\n",
       "    }\n",
       "\n",
       "    .dataframe thead th {\n",
       "        text-align: right;\n",
       "    }\n",
       "</style>\n",
       "<table border=\"1\" class=\"dataframe\">\n",
       "  <thead>\n",
       "    <tr style=\"text-align: right;\">\n",
       "      <th></th>\n",
       "      <th>date</th>\n",
       "      <th>동화약품</th>\n",
       "      <th>우리은행</th>\n",
       "      <th>KR모터스</th>\n",
       "      <th>경방</th>\n",
       "      <th>메리츠화재</th>\n",
       "      <th>삼양홀딩스</th>\n",
       "      <th>삼양홀딩스우</th>\n",
       "      <th>하이트진로</th>\n",
       "      <th>하이트진로2우B</th>\n",
       "      <th>...</th>\n",
       "      <th>롯데정보통신</th>\n",
       "      <th>하나제약</th>\n",
       "      <th>HDC현대산업개발</th>\n",
       "      <th>효성화학</th>\n",
       "      <th>효성티앤씨</th>\n",
       "      <th>효성중공업</th>\n",
       "      <th>효성첨단소재</th>\n",
       "      <th>한일시멘트</th>\n",
       "      <th>세아제강</th>\n",
       "      <th>엘브이엠씨홀딩스</th>\n",
       "    </tr>\n",
       "  </thead>\n",
       "  <tbody>\n",
       "    <tr>\n",
       "      <th>0</th>\n",
       "      <td>2017-10-02</td>\n",
       "      <td>1.54</td>\n",
       "      <td>3.17</td>\n",
       "      <td>NaN</td>\n",
       "      <td>1.29</td>\n",
       "      <td>4.85</td>\n",
       "      <td>1.64</td>\n",
       "      <td>NaN</td>\n",
       "      <td>3.32</td>\n",
       "      <td>NaN</td>\n",
       "      <td>...</td>\n",
       "      <td>NaN</td>\n",
       "      <td>NaN</td>\n",
       "      <td>NaN</td>\n",
       "      <td>NaN</td>\n",
       "      <td>NaN</td>\n",
       "      <td>NaN</td>\n",
       "      <td>NaN</td>\n",
       "      <td>NaN</td>\n",
       "      <td>NaN</td>\n",
       "      <td>NaN</td>\n",
       "    </tr>\n",
       "    <tr>\n",
       "      <th>1</th>\n",
       "      <td>2017-10-03</td>\n",
       "      <td>1.54</td>\n",
       "      <td>3.17</td>\n",
       "      <td>NaN</td>\n",
       "      <td>1.29</td>\n",
       "      <td>4.85</td>\n",
       "      <td>1.64</td>\n",
       "      <td>NaN</td>\n",
       "      <td>3.32</td>\n",
       "      <td>NaN</td>\n",
       "      <td>...</td>\n",
       "      <td>NaN</td>\n",
       "      <td>NaN</td>\n",
       "      <td>NaN</td>\n",
       "      <td>NaN</td>\n",
       "      <td>NaN</td>\n",
       "      <td>NaN</td>\n",
       "      <td>NaN</td>\n",
       "      <td>NaN</td>\n",
       "      <td>NaN</td>\n",
       "      <td>NaN</td>\n",
       "    </tr>\n",
       "    <tr>\n",
       "      <th>2</th>\n",
       "      <td>2017-10-04</td>\n",
       "      <td>1.54</td>\n",
       "      <td>3.17</td>\n",
       "      <td>NaN</td>\n",
       "      <td>1.29</td>\n",
       "      <td>4.85</td>\n",
       "      <td>1.64</td>\n",
       "      <td>NaN</td>\n",
       "      <td>3.32</td>\n",
       "      <td>NaN</td>\n",
       "      <td>...</td>\n",
       "      <td>NaN</td>\n",
       "      <td>NaN</td>\n",
       "      <td>NaN</td>\n",
       "      <td>NaN</td>\n",
       "      <td>NaN</td>\n",
       "      <td>NaN</td>\n",
       "      <td>NaN</td>\n",
       "      <td>NaN</td>\n",
       "      <td>NaN</td>\n",
       "      <td>NaN</td>\n",
       "    </tr>\n",
       "    <tr>\n",
       "      <th>3</th>\n",
       "      <td>2017-10-05</td>\n",
       "      <td>1.54</td>\n",
       "      <td>3.17</td>\n",
       "      <td>NaN</td>\n",
       "      <td>1.29</td>\n",
       "      <td>4.85</td>\n",
       "      <td>1.64</td>\n",
       "      <td>NaN</td>\n",
       "      <td>3.32</td>\n",
       "      <td>NaN</td>\n",
       "      <td>...</td>\n",
       "      <td>NaN</td>\n",
       "      <td>NaN</td>\n",
       "      <td>NaN</td>\n",
       "      <td>NaN</td>\n",
       "      <td>NaN</td>\n",
       "      <td>NaN</td>\n",
       "      <td>NaN</td>\n",
       "      <td>NaN</td>\n",
       "      <td>NaN</td>\n",
       "      <td>NaN</td>\n",
       "    </tr>\n",
       "    <tr>\n",
       "      <th>4</th>\n",
       "      <td>2017-10-06</td>\n",
       "      <td>1.54</td>\n",
       "      <td>3.17</td>\n",
       "      <td>NaN</td>\n",
       "      <td>1.29</td>\n",
       "      <td>4.85</td>\n",
       "      <td>1.64</td>\n",
       "      <td>NaN</td>\n",
       "      <td>3.32</td>\n",
       "      <td>NaN</td>\n",
       "      <td>...</td>\n",
       "      <td>NaN</td>\n",
       "      <td>NaN</td>\n",
       "      <td>NaN</td>\n",
       "      <td>NaN</td>\n",
       "      <td>NaN</td>\n",
       "      <td>NaN</td>\n",
       "      <td>NaN</td>\n",
       "      <td>NaN</td>\n",
       "      <td>NaN</td>\n",
       "      <td>NaN</td>\n",
       "    </tr>\n",
       "  </tbody>\n",
       "</table>\n",
       "<p>5 rows × 885 columns</p>\n",
       "</div>"
      ],
      "text/plain": [
       "        date  동화약품  우리은행  KR모터스    경방  메리츠화재  삼양홀딩스  삼양홀딩스우  하이트진로  하이트진로2우B  \\\n",
       "0 2017-10-02  1.54  3.17    NaN  1.29   4.85   1.64     NaN   3.32       NaN   \n",
       "1 2017-10-03  1.54  3.17    NaN  1.29   4.85   1.64     NaN   3.32       NaN   \n",
       "2 2017-10-04  1.54  3.17    NaN  1.29   4.85   1.64     NaN   3.32       NaN   \n",
       "3 2017-10-05  1.54  3.17    NaN  1.29   4.85   1.64     NaN   3.32       NaN   \n",
       "4 2017-10-06  1.54  3.17    NaN  1.29   4.85   1.64     NaN   3.32       NaN   \n",
       "\n",
       "     ...     롯데정보통신  하나제약  HDC현대산업개발  효성화학  효성티앤씨  효성중공업  효성첨단소재  한일시멘트  세아제강  \\\n",
       "0    ...        NaN   NaN        NaN   NaN    NaN    NaN     NaN    NaN   NaN   \n",
       "1    ...        NaN   NaN        NaN   NaN    NaN    NaN     NaN    NaN   NaN   \n",
       "2    ...        NaN   NaN        NaN   NaN    NaN    NaN     NaN    NaN   NaN   \n",
       "3    ...        NaN   NaN        NaN   NaN    NaN    NaN     NaN    NaN   NaN   \n",
       "4    ...        NaN   NaN        NaN   NaN    NaN    NaN     NaN    NaN   NaN   \n",
       "\n",
       "   엘브이엠씨홀딩스  \n",
       "0       NaN  \n",
       "1       NaN  \n",
       "2       NaN  \n",
       "3       NaN  \n",
       "4       NaN  \n",
       "\n",
       "[5 rows x 885 columns]"
      ]
     },
     "execution_count": 44,
     "metadata": {},
     "output_type": "execute_result"
    }
   ],
   "source": [
    "dividend_df.head()"
   ]
  },
  {
   "cell_type": "code",
   "execution_count": 45,
   "metadata": {},
   "outputs": [],
   "source": [
    "dividend_df.set_index('date', inplace=True)"
   ]
  },
  {
   "cell_type": "code",
   "execution_count": 46,
   "metadata": {},
   "outputs": [
    {
     "data": {
      "text/html": [
       "<div>\n",
       "<style scoped>\n",
       "    .dataframe tbody tr th:only-of-type {\n",
       "        vertical-align: middle;\n",
       "    }\n",
       "\n",
       "    .dataframe tbody tr th {\n",
       "        vertical-align: top;\n",
       "    }\n",
       "\n",
       "    .dataframe thead th {\n",
       "        text-align: right;\n",
       "    }\n",
       "</style>\n",
       "<table border=\"1\" class=\"dataframe\">\n",
       "  <thead>\n",
       "    <tr style=\"text-align: right;\">\n",
       "      <th></th>\n",
       "      <th>동화약품</th>\n",
       "      <th>우리은행</th>\n",
       "      <th>KR모터스</th>\n",
       "      <th>경방</th>\n",
       "      <th>메리츠화재</th>\n",
       "      <th>삼양홀딩스</th>\n",
       "      <th>삼양홀딩스우</th>\n",
       "      <th>하이트진로</th>\n",
       "      <th>하이트진로2우B</th>\n",
       "      <th>유한양행</th>\n",
       "      <th>...</th>\n",
       "      <th>롯데정보통신</th>\n",
       "      <th>하나제약</th>\n",
       "      <th>HDC현대산업개발</th>\n",
       "      <th>효성화학</th>\n",
       "      <th>효성티앤씨</th>\n",
       "      <th>효성중공업</th>\n",
       "      <th>효성첨단소재</th>\n",
       "      <th>한일시멘트</th>\n",
       "      <th>세아제강</th>\n",
       "      <th>엘브이엠씨홀딩스</th>\n",
       "    </tr>\n",
       "    <tr>\n",
       "      <th>date</th>\n",
       "      <th></th>\n",
       "      <th></th>\n",
       "      <th></th>\n",
       "      <th></th>\n",
       "      <th></th>\n",
       "      <th></th>\n",
       "      <th></th>\n",
       "      <th></th>\n",
       "      <th></th>\n",
       "      <th></th>\n",
       "      <th></th>\n",
       "      <th></th>\n",
       "      <th></th>\n",
       "      <th></th>\n",
       "      <th></th>\n",
       "      <th></th>\n",
       "      <th></th>\n",
       "      <th></th>\n",
       "      <th></th>\n",
       "      <th></th>\n",
       "      <th></th>\n",
       "    </tr>\n",
       "  </thead>\n",
       "  <tbody>\n",
       "    <tr>\n",
       "      <th>2018-09-24</th>\n",
       "      <td>NaN</td>\n",
       "      <td>NaN</td>\n",
       "      <td>NaN</td>\n",
       "      <td>NaN</td>\n",
       "      <td>NaN</td>\n",
       "      <td>NaN</td>\n",
       "      <td>NaN</td>\n",
       "      <td>NaN</td>\n",
       "      <td>NaN</td>\n",
       "      <td>NaN</td>\n",
       "      <td>...</td>\n",
       "      <td>NaN</td>\n",
       "      <td>NaN</td>\n",
       "      <td>NaN</td>\n",
       "      <td>NaN</td>\n",
       "      <td>NaN</td>\n",
       "      <td>NaN</td>\n",
       "      <td>NaN</td>\n",
       "      <td>NaN</td>\n",
       "      <td>NaN</td>\n",
       "      <td>NaN</td>\n",
       "    </tr>\n",
       "    <tr>\n",
       "      <th>2018-09-25</th>\n",
       "      <td>NaN</td>\n",
       "      <td>NaN</td>\n",
       "      <td>NaN</td>\n",
       "      <td>NaN</td>\n",
       "      <td>NaN</td>\n",
       "      <td>NaN</td>\n",
       "      <td>NaN</td>\n",
       "      <td>NaN</td>\n",
       "      <td>NaN</td>\n",
       "      <td>NaN</td>\n",
       "      <td>...</td>\n",
       "      <td>NaN</td>\n",
       "      <td>NaN</td>\n",
       "      <td>NaN</td>\n",
       "      <td>NaN</td>\n",
       "      <td>NaN</td>\n",
       "      <td>NaN</td>\n",
       "      <td>NaN</td>\n",
       "      <td>NaN</td>\n",
       "      <td>NaN</td>\n",
       "      <td>NaN</td>\n",
       "    </tr>\n",
       "    <tr>\n",
       "      <th>2018-09-26</th>\n",
       "      <td>NaN</td>\n",
       "      <td>NaN</td>\n",
       "      <td>NaN</td>\n",
       "      <td>NaN</td>\n",
       "      <td>NaN</td>\n",
       "      <td>NaN</td>\n",
       "      <td>NaN</td>\n",
       "      <td>NaN</td>\n",
       "      <td>NaN</td>\n",
       "      <td>NaN</td>\n",
       "      <td>...</td>\n",
       "      <td>NaN</td>\n",
       "      <td>NaN</td>\n",
       "      <td>NaN</td>\n",
       "      <td>NaN</td>\n",
       "      <td>NaN</td>\n",
       "      <td>NaN</td>\n",
       "      <td>NaN</td>\n",
       "      <td>NaN</td>\n",
       "      <td>NaN</td>\n",
       "      <td>NaN</td>\n",
       "    </tr>\n",
       "    <tr>\n",
       "      <th>2018-09-27</th>\n",
       "      <td>NaN</td>\n",
       "      <td>NaN</td>\n",
       "      <td>NaN</td>\n",
       "      <td>NaN</td>\n",
       "      <td>NaN</td>\n",
       "      <td>NaN</td>\n",
       "      <td>NaN</td>\n",
       "      <td>NaN</td>\n",
       "      <td>NaN</td>\n",
       "      <td>NaN</td>\n",
       "      <td>...</td>\n",
       "      <td>NaN</td>\n",
       "      <td>NaN</td>\n",
       "      <td>NaN</td>\n",
       "      <td>NaN</td>\n",
       "      <td>NaN</td>\n",
       "      <td>NaN</td>\n",
       "      <td>NaN</td>\n",
       "      <td>NaN</td>\n",
       "      <td>NaN</td>\n",
       "      <td>NaN</td>\n",
       "    </tr>\n",
       "    <tr>\n",
       "      <th>2018-09-28</th>\n",
       "      <td>NaN</td>\n",
       "      <td>NaN</td>\n",
       "      <td>NaN</td>\n",
       "      <td>NaN</td>\n",
       "      <td>NaN</td>\n",
       "      <td>NaN</td>\n",
       "      <td>NaN</td>\n",
       "      <td>NaN</td>\n",
       "      <td>NaN</td>\n",
       "      <td>NaN</td>\n",
       "      <td>...</td>\n",
       "      <td>NaN</td>\n",
       "      <td>NaN</td>\n",
       "      <td>NaN</td>\n",
       "      <td>NaN</td>\n",
       "      <td>NaN</td>\n",
       "      <td>NaN</td>\n",
       "      <td>NaN</td>\n",
       "      <td>NaN</td>\n",
       "      <td>NaN</td>\n",
       "      <td>NaN</td>\n",
       "    </tr>\n",
       "  </tbody>\n",
       "</table>\n",
       "<p>5 rows × 884 columns</p>\n",
       "</div>"
      ],
      "text/plain": [
       "            동화약품  우리은행  KR모터스  경방  메리츠화재  삼양홀딩스  삼양홀딩스우  하이트진로  하이트진로2우B  \\\n",
       "date                                                                       \n",
       "2018-09-24   NaN   NaN    NaN NaN    NaN    NaN     NaN    NaN       NaN   \n",
       "2018-09-25   NaN   NaN    NaN NaN    NaN    NaN     NaN    NaN       NaN   \n",
       "2018-09-26   NaN   NaN    NaN NaN    NaN    NaN     NaN    NaN       NaN   \n",
       "2018-09-27   NaN   NaN    NaN NaN    NaN    NaN     NaN    NaN       NaN   \n",
       "2018-09-28   NaN   NaN    NaN NaN    NaN    NaN     NaN    NaN       NaN   \n",
       "\n",
       "            유한양행    ...     롯데정보통신  하나제약  HDC현대산업개발  효성화학  효성티앤씨  효성중공업  \\\n",
       "date                ...                                                   \n",
       "2018-09-24   NaN    ...        NaN   NaN        NaN   NaN    NaN    NaN   \n",
       "2018-09-25   NaN    ...        NaN   NaN        NaN   NaN    NaN    NaN   \n",
       "2018-09-26   NaN    ...        NaN   NaN        NaN   NaN    NaN    NaN   \n",
       "2018-09-27   NaN    ...        NaN   NaN        NaN   NaN    NaN    NaN   \n",
       "2018-09-28   NaN    ...        NaN   NaN        NaN   NaN    NaN    NaN   \n",
       "\n",
       "            효성첨단소재  한일시멘트  세아제강  엘브이엠씨홀딩스  \n",
       "date                                       \n",
       "2018-09-24     NaN    NaN   NaN       NaN  \n",
       "2018-09-25     NaN    NaN   NaN       NaN  \n",
       "2018-09-26     NaN    NaN   NaN       NaN  \n",
       "2018-09-27     NaN    NaN   NaN       NaN  \n",
       "2018-09-28     NaN    NaN   NaN       NaN  \n",
       "\n",
       "[5 rows x 884 columns]"
      ]
     },
     "execution_count": 46,
     "metadata": {},
     "output_type": "execute_result"
    }
   ],
   "source": [
    "dividend_df.tail()"
   ]
  },
  {
   "cell_type": "markdown",
   "metadata": {},
   "source": [
    "# null값이 굉장히 많다."
   ]
  },
  {
   "cell_type": "code",
   "execution_count": 47,
   "metadata": {
    "scrolled": true
   },
   "outputs": [
    {
     "data": {
      "text/plain": [
       "동화약품          271\n",
       "우리은행          271\n",
       "KR모터스         362\n",
       "경방            271\n",
       "메리츠화재         271\n",
       "삼양홀딩스         271\n",
       "삼양홀딩스우        362\n",
       "하이트진로         271\n",
       "하이트진로2우B      362\n",
       "유한양행          271\n",
       "유한양행우         362\n",
       "CJ대한통운        362\n",
       "하이트진로홀딩스      271\n",
       "하이트진로홀딩스우     362\n",
       "두산             90\n",
       "두산우           362\n",
       "두산2우B         362\n",
       "성창기업지주        362\n",
       "대림산업          271\n",
       "대림산업우         362\n",
       "유유제약          271\n",
       "유유제약1우        362\n",
       "유유제약2우B       362\n",
       "일동홀딩스         271\n",
       "한국타이어월드와이드    271\n",
       "기아차           271\n",
       "대유플러스         362\n",
       "노루홀딩스         271\n",
       "노루홀딩스우        362\n",
       "한화손해보험        271\n",
       "             ... \n",
       "일동제약          271\n",
       "넷마블           271\n",
       "크라운제과         271\n",
       "크라운제과우        362\n",
       "현대중공업지주       362\n",
       "현대일렉트릭        362\n",
       "현대건설기계        362\n",
       "경동도시가스        271\n",
       "미원에스씨         271\n",
       "오리온           271\n",
       "제일약품          271\n",
       "진에어           271\n",
       "삼양패키징         362\n",
       "롯데제과          271\n",
       "케이씨텍          271\n",
       "BGF리테일        271\n",
       "동아타이어         362\n",
       "쿠쿠홈시스         362\n",
       "SK케미칼         362\n",
       "SK케미칼우        362\n",
       "롯데정보통신        362\n",
       "하나제약          362\n",
       "HDC현대산업개발     362\n",
       "효성화학          362\n",
       "효성티앤씨         362\n",
       "효성중공업         362\n",
       "효성첨단소재        362\n",
       "한일시멘트         362\n",
       "세아제강          362\n",
       "엘브이엠씨홀딩스      362\n",
       "Length: 884, dtype: int64"
      ]
     },
     "execution_count": 47,
     "metadata": {},
     "output_type": "execute_result"
    }
   ],
   "source": [
    "dividend_df.isnull().sum()"
   ]
  },
  {
   "cell_type": "code",
   "execution_count": 48,
   "metadata": {},
   "outputs": [],
   "source": [
    "dividend_df.fillna(0, inplace=True)"
   ]
  },
  {
   "cell_type": "code",
   "execution_count": 49,
   "metadata": {
    "scrolled": true
   },
   "outputs": [
    {
     "data": {
      "text/plain": [
       "동화약품          0\n",
       "우리은행          0\n",
       "KR모터스         0\n",
       "경방            0\n",
       "메리츠화재         0\n",
       "삼양홀딩스         0\n",
       "삼양홀딩스우        0\n",
       "하이트진로         0\n",
       "하이트진로2우B      0\n",
       "유한양행          0\n",
       "유한양행우         0\n",
       "CJ대한통운        0\n",
       "하이트진로홀딩스      0\n",
       "하이트진로홀딩스우     0\n",
       "두산            0\n",
       "두산우           0\n",
       "두산2우B         0\n",
       "성창기업지주        0\n",
       "대림산업          0\n",
       "대림산업우         0\n",
       "유유제약          0\n",
       "유유제약1우        0\n",
       "유유제약2우B       0\n",
       "일동홀딩스         0\n",
       "한국타이어월드와이드    0\n",
       "기아차           0\n",
       "대유플러스         0\n",
       "노루홀딩스         0\n",
       "노루홀딩스우        0\n",
       "한화손해보험        0\n",
       "             ..\n",
       "일동제약          0\n",
       "넷마블           0\n",
       "크라운제과         0\n",
       "크라운제과우        0\n",
       "현대중공업지주       0\n",
       "현대일렉트릭        0\n",
       "현대건설기계        0\n",
       "경동도시가스        0\n",
       "미원에스씨         0\n",
       "오리온           0\n",
       "제일약품          0\n",
       "진에어           0\n",
       "삼양패키징         0\n",
       "롯데제과          0\n",
       "케이씨텍          0\n",
       "BGF리테일        0\n",
       "동아타이어         0\n",
       "쿠쿠홈시스         0\n",
       "SK케미칼         0\n",
       "SK케미칼우        0\n",
       "롯데정보통신        0\n",
       "하나제약          0\n",
       "HDC현대산업개발     0\n",
       "효성화학          0\n",
       "효성티앤씨         0\n",
       "효성중공업         0\n",
       "효성첨단소재        0\n",
       "한일시멘트         0\n",
       "세아제강          0\n",
       "엘브이엠씨홀딩스      0\n",
       "Length: 884, dtype: int64"
      ]
     },
     "execution_count": 49,
     "metadata": {},
     "output_type": "execute_result"
    }
   ],
   "source": [
    "dividend_df.isnull().sum()"
   ]
  },
  {
   "cell_type": "code",
   "execution_count": 50,
   "metadata": {},
   "outputs": [
    {
     "data": {
      "text/plain": [
       "True"
      ]
     },
     "execution_count": 50,
     "metadata": {},
     "output_type": "execute_result"
    }
   ],
   "source": [
    "len(dividend_df.columns) == len(weight_df.columns)"
   ]
  },
  {
   "cell_type": "markdown",
   "metadata": {},
   "source": [
    "# 사전의 산술식 그대로. 개별종목 배당수익률들의 가중평균을 계산해주는 함수"
   ]
  },
  {
   "cell_type": "code",
   "execution_count": 51,
   "metadata": {},
   "outputs": [],
   "source": [
    "def calculate_fake_dividend():\n",
    "    result = []\n",
    "    for i in range(0, len(weight_df)):\n",
    "        fake_dividend_list = []\n",
    "        for col in weight_df.columns:\n",
    "            fake_dividend_list.append(weight_df[col][i] * dividend_df[col][i])\n",
    "        result.append(sum(fake_dividend_list))\n",
    "    result = pd.Series(result)\n",
    "    \n",
    "    return result"
   ]
  },
  {
   "cell_type": "code",
   "execution_count": 52,
   "metadata": {},
   "outputs": [],
   "source": [
    "fake_dividend_df = pd.DataFrame(data=calculate_fake_dividend(), columns=['fake_dividend'])"
   ]
  },
  {
   "cell_type": "code",
   "execution_count": 53,
   "metadata": {},
   "outputs": [],
   "source": [
    "fake_dividend_df = fake_dividend_df.apply(lambda x: round(x, 2))"
   ]
  },
  {
   "cell_type": "code",
   "execution_count": 54,
   "metadata": {},
   "outputs": [
    {
     "data": {
      "text/html": [
       "<div>\n",
       "<style scoped>\n",
       "    .dataframe tbody tr th:only-of-type {\n",
       "        vertical-align: middle;\n",
       "    }\n",
       "\n",
       "    .dataframe tbody tr th {\n",
       "        vertical-align: top;\n",
       "    }\n",
       "\n",
       "    .dataframe thead th {\n",
       "        text-align: right;\n",
       "    }\n",
       "</style>\n",
       "<table border=\"1\" class=\"dataframe\">\n",
       "  <thead>\n",
       "    <tr style=\"text-align: right;\">\n",
       "      <th></th>\n",
       "      <th>fake_dividend</th>\n",
       "    </tr>\n",
       "  </thead>\n",
       "  <tbody>\n",
       "    <tr>\n",
       "      <th>0</th>\n",
       "      <td>1.38</td>\n",
       "    </tr>\n",
       "    <tr>\n",
       "      <th>1</th>\n",
       "      <td>1.38</td>\n",
       "    </tr>\n",
       "    <tr>\n",
       "      <th>2</th>\n",
       "      <td>1.38</td>\n",
       "    </tr>\n",
       "    <tr>\n",
       "      <th>3</th>\n",
       "      <td>1.38</td>\n",
       "    </tr>\n",
       "    <tr>\n",
       "      <th>4</th>\n",
       "      <td>1.38</td>\n",
       "    </tr>\n",
       "  </tbody>\n",
       "</table>\n",
       "</div>"
      ],
      "text/plain": [
       "   fake_dividend\n",
       "0           1.38\n",
       "1           1.38\n",
       "2           1.38\n",
       "3           1.38\n",
       "4           1.38"
      ]
     },
     "execution_count": 54,
     "metadata": {},
     "output_type": "execute_result"
    }
   ],
   "source": [
    "fake_dividend_df.head()"
   ]
  },
  {
   "cell_type": "markdown",
   "metadata": {},
   "source": [
    "# 배당이 특정 시점에만 극단적으로 몰려있는 것을 알 수 있다."
   ]
  },
  {
   "cell_type": "code",
   "execution_count": 55,
   "metadata": {},
   "outputs": [
    {
     "data": {
      "text/plain": [
       "<matplotlib.axes._subplots.AxesSubplot at 0x29ecffe8400>"
      ]
     },
     "execution_count": 55,
     "metadata": {},
     "output_type": "execute_result"
    },
    {
     "data": {
      "image/png": "[encoded data removed]",
      "text/plain": [
       "<Figure size 432x288 with 1 Axes>"
      ]
     },
     "metadata": {},
     "output_type": "display_data"
    }
   ],
   "source": [
    "sns.distplot(fake_dividend_df)"
   ]
  },
  {
   "cell_type": "code",
   "execution_count": 56,
   "metadata": {},
   "outputs": [
    {
     "data": {
      "text/plain": [
       "True"
      ]
     },
     "execution_count": 56,
     "metadata": {},
     "output_type": "execute_result"
    }
   ],
   "source": [
    "len(fake_kospi_df) == len(fake_dividend_df)"
   ]
  },
  {
   "cell_type": "code",
   "execution_count": 57,
   "metadata": {},
   "outputs": [
    {
     "data": {
      "text/plain": [
       "True"
      ]
     },
     "execution_count": 57,
     "metadata": {},
     "output_type": "execute_result"
    }
   ],
   "source": [
    "type(fake_kospi_df['fake_kospi'][0]) == type(fake_dividend_df['fake_dividend'][0])"
   ]
  },
  {
   "cell_type": "markdown",
   "metadata": {},
   "source": [
    "# (배당수익률 + 수익률) 합산 수익률을 계산"
   ]
  },
  {
   "cell_type": "code",
   "execution_count": 58,
   "metadata": {
    "scrolled": true
   },
   "outputs": [],
   "source": [
    "total_list = []\n",
    "for i in range(0, len(fake_dividend_df)):\n",
    "    total_list.append(fake_kospi_df['fake_kospi'][i] + fake_dividend_df['fake_dividend'][i])"
   ]
  },
  {
   "cell_type": "code",
   "execution_count": 59,
   "metadata": {},
   "outputs": [
    {
     "data": {
      "text/plain": [
       "[2.26, 2.26, 2.26, 2.26, 2.26]"
      ]
     },
     "execution_count": 59,
     "metadata": {},
     "output_type": "execute_result"
    }
   ],
   "source": [
    "total_list[0:5]"
   ]
  },
  {
   "cell_type": "code",
   "execution_count": 60,
   "metadata": {},
   "outputs": [
    {
     "data": {
      "text/plain": [
       "<matplotlib.axes._subplots.AxesSubplot at 0x29ed0719898>"
      ]
     },
     "execution_count": 60,
     "metadata": {},
     "output_type": "execute_result"
    },
    {
     "data": {
      "image/png": "[encoded data removed]",
      "text/plain": [
       "<Figure size 432x288 with 1 Axes>"
      ]
     },
     "metadata": {},
     "output_type": "display_data"
    }
   ],
   "source": [
    "sns.distplot(total_list)"
   ]
  },
  {
   "cell_type": "markdown",
   "metadata": {},
   "source": [
    "# Shapiro-Wilk 검증\n",
    "### H_0 : 해당분포가 정규성이 있다. vs H_a : 해당분포가 정규성이 없다.\n",
    "### 이 경우 통계량 값이 0.985, p-값이 설정하였던 유의수준 0.05보다 작게나와 귀무가설을 기각. 해당분포는 정규성이 없다는 결론"
   ]
  },
  {
   "cell_type": "code",
   "execution_count": 62,
   "metadata": {},
   "outputs": [
    {
     "data": {
      "text/plain": [
       "(0.985281765460968, 0.0009595088195055723)"
      ]
     },
     "execution_count": 62,
     "metadata": {},
     "output_type": "execute_result"
    }
   ],
   "source": [
    "scipy.stats.shapiro(total_list)"
   ]
  },
  {
   "cell_type": "code",
   "execution_count": 63,
   "metadata": {},
   "outputs": [],
   "source": [
    "fake_total_df = pd.DataFrame(data=total_list, columns=['fake_total'])"
   ]
  },
  {
   "cell_type": "code",
   "execution_count": 64,
   "metadata": {},
   "outputs": [
    {
     "data": {
      "text/html": [
       "<div>\n",
       "<style scoped>\n",
       "    .dataframe tbody tr th:only-of-type {\n",
       "        vertical-align: middle;\n",
       "    }\n",
       "\n",
       "    .dataframe tbody tr th {\n",
       "        vertical-align: top;\n",
       "    }\n",
       "\n",
       "    .dataframe thead th {\n",
       "        text-align: right;\n",
       "    }\n",
       "</style>\n",
       "<table border=\"1\" class=\"dataframe\">\n",
       "  <thead>\n",
       "    <tr style=\"text-align: right;\">\n",
       "      <th></th>\n",
       "      <th>fake_total</th>\n",
       "    </tr>\n",
       "  </thead>\n",
       "  <tbody>\n",
       "    <tr>\n",
       "      <th>0</th>\n",
       "      <td>2.26</td>\n",
       "    </tr>\n",
       "    <tr>\n",
       "      <th>1</th>\n",
       "      <td>2.26</td>\n",
       "    </tr>\n",
       "    <tr>\n",
       "      <th>2</th>\n",
       "      <td>2.26</td>\n",
       "    </tr>\n",
       "  </tbody>\n",
       "</table>\n",
       "</div>"
      ],
      "text/plain": [
       "   fake_total\n",
       "0        2.26\n",
       "1        2.26\n",
       "2        2.26"
      ]
     },
     "execution_count": 64,
     "metadata": {},
     "output_type": "execute_result"
    }
   ],
   "source": [
    "fake_total_df.head(3)"
   ]
  },
  {
   "cell_type": "code",
   "execution_count": 65,
   "metadata": {},
   "outputs": [
    {
     "data": {
      "text/plain": [
       "<matplotlib.axes._subplots.AxesSubplot at 0x29ed0f81e80>"
      ]
     },
     "execution_count": 65,
     "metadata": {},
     "output_type": "execute_result"
    },
    {
     "data": {
      "image/png": "[encoded data removed]",
      "text/plain": [
       "<Figure size 432x288 with 1 Axes>"
      ]
     },
     "metadata": {},
     "output_type": "display_data"
    }
   ],
   "source": [
    "sns.distplot(return_kospi_df)"
   ]
  },
  {
   "cell_type": "markdown",
   "metadata": {},
   "source": [
    "# Kolmogorov-Smirnov 검증(2개 표본)\n",
    "### p-값이 매우 낮으므로 유의하다고 판단하여 귀무가설을 기각. 즉 서로 다른 분포를 따른다"
   ]
  },
  {
   "cell_type": "code",
   "execution_count": 67,
   "metadata": {
    "scrolled": true
   },
   "outputs": [
    {
     "data": {
      "text/plain": [
       "Ks_2sampResult(statistic=0.3121546961325966, pvalue=4.882740843499405e-16)"
      ]
     },
     "execution_count": 67,
     "metadata": {},
     "output_type": "execute_result"
    }
   ],
   "source": [
    "scipy.stats.ks_2samp(return_kospi_df['kospi_return'], fake_total_df['fake_total'])"
   ]
  },
  {
   "cell_type": "code",
   "execution_count": 97,
   "metadata": {},
   "outputs": [],
   "source": [
    "date_index = return_kospi_df.index"
   ]
  },
  {
   "cell_type": "code",
   "execution_count": 100,
   "metadata": {},
   "outputs": [],
   "source": [
    "fake_total_df.set_index(date_index, inplace=True)"
   ]
  },
  {
   "cell_type": "code",
   "execution_count": 101,
   "metadata": {},
   "outputs": [],
   "source": [
    "all_df = return_kospi_df.join(fake_total_df)"
   ]
  },
  {
   "cell_type": "code",
   "execution_count": 102,
   "metadata": {
    "scrolled": true
   },
   "outputs": [
    {
     "name": "stdout",
     "output_type": "stream",
     "text": [
      "<class 'pandas.core.frame.DataFrame'>\n",
      "DatetimeIndex: 362 entries, 2017-10-02 to 2018-09-28\n",
      "Data columns (total 2 columns):\n",
      "kospi_return    362 non-null float64\n",
      "fake_total      362 non-null float64\n",
      "dtypes: float64(2)\n",
      "memory usage: 8.5 KB\n"
     ]
    }
   ],
   "source": [
    "all_df.info()"
   ]
  },
  {
   "cell_type": "markdown",
   "metadata": {},
   "source": [
    "# 두 표본에 대한 산점도, 피어슨 상관계수, line plot\n",
    "### 상관계수 값 = 0.847, 매우 유의함\n",
    "### 2017년 10~12월에만 배당수익률의 영향을 받아서 그래프의 차이를 보임"
   ]
  },
  {
   "cell_type": "code",
   "execution_count": 105,
   "metadata": {
    "scrolled": true
   },
   "outputs": [
    {
     "data": {
      "text/plain": [
       "<matplotlib.axes._subplots.AxesSubplot at 0x29ed05fd550>"
      ]
     },
     "execution_count": 105,
     "metadata": {},
     "output_type": "execute_result"
    },
    {
     "data": {
      "image/png": "[encoded data removed]",
      "text/plain": [
       "<Figure size 432x288 with 1 Axes>"
      ]
     },
     "metadata": {},
     "output_type": "display_data"
    }
   ],
   "source": [
    "sns.scatterplot(data=all_df, x='kospi_return', y='fake_total')"
   ]
  },
  {
   "cell_type": "code",
   "execution_count": 106,
   "metadata": {},
   "outputs": [
    {
     "data": {
      "text/plain": [
       "(0.8469531369406714, 8.425814681538911e-101)"
      ]
     },
     "execution_count": 106,
     "metadata": {},
     "output_type": "execute_result"
    }
   ],
   "source": [
    "scipy.stats.pearsonr(all_df['kospi_return'], all_df['fake_total'])"
   ]
  },
  {
   "cell_type": "code",
   "execution_count": 119,
   "metadata": {},
   "outputs": [
    {
     "data": {
      "text/plain": [
       "<matplotlib.axes._subplots.AxesSubplot at 0x29ed20f9e80>"
      ]
     },
     "execution_count": 119,
     "metadata": {},
     "output_type": "execute_result"
    },
    {
     "data": {
      "image/png": "[encoded data removed]",
      "text/plain": [
       "<Figure size 432x288 with 1 Axes>"
      ]
     },
     "metadata": {},
     "output_type": "display_data"
    }
   ],
   "source": [
    "sns.lineplot(data=all_df)"
   ]
  }
 ],
 "metadata": {
  "kernelspec": {
   "display_name": "Python 3",
   "language": "python",
   "name": "python3"
  },
  "language_info": {
   "codemirror_mode": {
    "name": "ipython",
    "version": 3
   },
   "file_extension": ".py",
   "mimetype": "text/x-python",
   "name": "python",
   "nbconvert_exporter": "python",
   "pygments_lexer": "ipython3",
   "version": "3.5.5"
  }
 },
 "nbformat": 4,
 "nbformat_minor": 2
}

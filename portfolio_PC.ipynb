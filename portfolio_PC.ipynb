{
 "cells": [
  {
   "cell_type": "code",
   "execution_count": 1,
   "metadata": {},
   "outputs": [],
   "source": [
    "import numpy as np\n",
    "import pandas as pd\n",
    "from sklearn.decomposition import PCA\n",
    "from sklearn.linear_model import LinearRegression"
   ]
  },
  {
   "cell_type": "code",
   "execution_count": 3,
   "metadata": {
    "scrolled": true
   },
   "outputs": [],
   "source": [
    "df_2x3 = pd.read_excel('C:/Users/caban/Desktop/career/Finance/FinLab/APT_PCA/project_pca/2x3_monthly.xlsx', sheet_name='value_weighted')"
   ]
  },
  {
   "cell_type": "code",
   "execution_count": 8,
   "metadata": {},
   "outputs": [],
   "source": [
    "df_5x5 = pd.read_excel('C:/Users/caban/Desktop/career/Finance/FinLab/APT_PCA/project_pca/5x5_monthly.xlsx', sheet_name='Value_weighted')"
   ]
  },
  {
   "cell_type": "code",
   "execution_count": 9,
   "metadata": {},
   "outputs": [],
   "source": [
    "df_10x10 = pd.read_excel('C:/Users/caban/Desktop/career/Finance/FinLab/APT_PCA/project_pca/10x10_monthly.xlsx', sheet_name='Value_weighted')"
   ]
  },
  {
   "cell_type": "code",
   "execution_count": 12,
   "metadata": {
    "scrolled": true
   },
   "outputs": [
    {
     "data": {
      "text/plain": [
       "SMALL LoBM    0\n",
       "ME1 BM2       0\n",
       "ME1 BM3       0\n",
       "ME1 BM4       0\n",
       "SMALL HiBM    0\n",
       "ME2 BM1       0\n",
       "ME2 BM2       0\n",
       "ME2 BM3       0\n",
       "ME2 BM4       0\n",
       "ME2 BM5       0\n",
       "ME3 BM1       0\n",
       "ME3 BM2       0\n",
       "ME3 BM3       0\n",
       "ME3 BM4       0\n",
       "ME3 BM5       0\n",
       "ME4 BM1       0\n",
       "ME4 BM2       0\n",
       "ME4 BM3       0\n",
       "ME4 BM4       0\n",
       "ME4 BM5       0\n",
       "BIG LoBM      0\n",
       "ME5 BM2       0\n",
       "ME5 BM3       0\n",
       "ME5 BM4       0\n",
       "BIG HiBM      0\n",
       "dtype: int64"
      ]
     },
     "execution_count": 12,
     "metadata": {},
     "output_type": "execute_result"
    }
   ],
   "source": [
    "pd.isnull(df_5x5).sum()"
   ]
  },
  {
   "cell_type": "code",
   "execution_count": 5,
   "metadata": {},
   "outputs": [
    {
     "data": {
      "text/plain": [
       "SMALL LoBM    0\n",
       "ME1 BM2       0\n",
       "SMALL HiBM    0\n",
       "BIG LoBM      0\n",
       "ME2 BM2       0\n",
       "BIG HiBM      0\n",
       "dtype: int64"
      ]
     },
     "execution_count": 5,
     "metadata": {},
     "output_type": "execute_result"
    }
   ],
   "source": [
    "pd.isnull(df_2x3).sum()"
   ]
  },
  {
   "cell_type": "code",
   "execution_count": 6,
   "metadata": {},
   "outputs": [
    {
     "name": "stdout",
     "output_type": "stream",
     "text": [
      "<class 'pandas.core.frame.DataFrame'>\n",
      "Int64Index: 1107 entries, 192607 to 201809\n",
      "Data columns (total 6 columns):\n",
      "SMALL LoBM    1107 non-null float64\n",
      "ME1 BM2       1107 non-null float64\n",
      "SMALL HiBM    1107 non-null float64\n",
      "BIG LoBM      1107 non-null float64\n",
      "ME2 BM2       1107 non-null float64\n",
      "BIG HiBM      1107 non-null float64\n",
      "dtypes: float64(6)\n",
      "memory usage: 60.5 KB\n"
     ]
    }
   ],
   "source": [
    "df_2x3.info()"
   ]
  },
  {
   "cell_type": "code",
   "execution_count": 13,
   "metadata": {
    "scrolled": true
   },
   "outputs": [
    {
     "data": {
      "text/plain": [
       "SMALL LoBM    0\n",
       "ME1 BM2       0\n",
       "ME1 BM3       0\n",
       "ME1 BM4       0\n",
       "ME1 BM5       0\n",
       "ME1 BM6       0\n",
       "ME1 BM7       0\n",
       "ME1 BM8       0\n",
       "ME1 BM9       0\n",
       "SMALL HiBM    0\n",
       "ME2 BM1       0\n",
       "ME2 BM2       0\n",
       "ME2 BM3       0\n",
       "ME2 BM4       0\n",
       "ME2 BM5       0\n",
       "ME2 BM6       0\n",
       "ME2 BM7       0\n",
       "ME2 BM8       0\n",
       "ME2 BM9       0\n",
       "ME2 BM10      0\n",
       "ME3 BM1       0\n",
       "ME3 BM2       0\n",
       "ME3 BM3       0\n",
       "ME3 BM4       0\n",
       "ME3 BM5       0\n",
       "ME3 BM6       0\n",
       "ME3 BM7       0\n",
       "ME3 BM8       0\n",
       "ME3 BM9       0\n",
       "ME3 BM10      0\n",
       "             ..\n",
       "ME8 BM1       0\n",
       "ME8 BM2       0\n",
       "ME8 BM3       0\n",
       "ME8 BM4       0\n",
       "ME8 BM5       0\n",
       "ME8 BM6       0\n",
       "ME8 BM7       0\n",
       "ME8 BM8       0\n",
       "ME8 BM9       0\n",
       "ME8 BM10      0\n",
       "ME9 BM1       0\n",
       "ME9 BM2       0\n",
       "ME9 BM3       0\n",
       "ME9 BM4       0\n",
       "ME9 BM5       0\n",
       "ME9 BM6       0\n",
       "ME9 BM7       0\n",
       "ME9 BM8       0\n",
       "ME9 BM9       0\n",
       "ME9 BM10      0\n",
       "BIG LoBM      0\n",
       "ME10 BM2      0\n",
       "ME10 BM3      0\n",
       "ME10 BM4      0\n",
       "ME10 BM5      0\n",
       "ME10 BM6      0\n",
       "ME10 BM7      0\n",
       "ME10 BM8      0\n",
       "ME10 BM9      0\n",
       "BIG HiBM      0\n",
       "Length: 100, dtype: int64"
      ]
     },
     "execution_count": 13,
     "metadata": {},
     "output_type": "execute_result"
    }
   ],
   "source": [
    "pd.isnull(df_10x10).sum()"
   ]
  },
  {
   "cell_type": "code",
   "execution_count": 23,
   "metadata": {},
   "outputs": [],
   "source": [
    "pca = PCA(n_components=4)"
   ]
  },
  {
   "cell_type": "code",
   "execution_count": 24,
   "metadata": {},
   "outputs": [
    {
     "data": {
      "text/plain": [
       "PCA(copy=True, iterated_power='auto', n_components=4, random_state=None,\n",
       "  svd_solver='auto', tol=0.0, whiten=False)"
      ]
     },
     "execution_count": 24,
     "metadata": {},
     "output_type": "execute_result"
    }
   ],
   "source": [
    "pca.fit(df_2x3)"
   ]
  },
  {
   "cell_type": "code",
   "execution_count": 25,
   "metadata": {},
   "outputs": [
    {
     "data": {
      "text/plain": [
       "array([[ 0.44346649,  0.42861748,  0.49387944,  0.29554334,  0.33099519,\n",
       "         0.42285215],\n",
       "       [-0.64016683, -0.24079078, -0.05920964,  0.10030295,  0.43725599,\n",
       "         0.57222981],\n",
       "       [-0.24531058,  0.12309787,  0.57611324, -0.71173717, -0.25048573,\n",
       "         0.15313483],\n",
       "       [ 0.38963562, -0.11940558, -0.43121569, -0.2250883 , -0.3816057 ,\n",
       "         0.67208017]])"
      ]
     },
     "execution_count": 25,
     "metadata": {},
     "output_type": "execute_result"
    }
   ],
   "source": [
    "pca.components_"
   ]
  },
  {
   "cell_type": "code",
   "execution_count": 26,
   "metadata": {},
   "outputs": [
    {
     "data": {
      "text/plain": [
       "array([0.90495786, 0.04324636, 0.03408895, 0.00778065])"
      ]
     },
     "execution_count": 26,
     "metadata": {},
     "output_type": "execute_result"
    }
   ],
   "source": [
    "pca.explained_variance_ratio_"
   ]
  },
  {
   "cell_type": "code",
   "execution_count": 36,
   "metadata": {},
   "outputs": [],
   "source": [
    "df_2x3.to_csv('C:/Users/caban/Desktop/career/Finance/FinLab/APT_PCA/project_pca/2x3_monthly_value.csv')"
   ]
  },
  {
   "cell_type": "code",
   "execution_count": 35,
   "metadata": {},
   "outputs": [],
   "source": [
    "df_5x5.to_csv('C:/Users/caban/Desktop/career/Finance/FinLab/APT_PCA/project_pca/5x5_monthly_value.csv')"
   ]
  },
  {
   "cell_type": "code",
   "execution_count": 34,
   "metadata": {},
   "outputs": [],
   "source": [
    "df_10x10.to_csv('C:/Users/caban/Desktop/career/Finance/FinLab/APT_PCA/project_pca/10x10_monthly_value.csv')"
   ]
  }
 ],
 "metadata": {
  "kernelspec": {
   "display_name": "Python 3",
   "language": "python",
   "name": "python3"
  },
  "language_info": {
   "codemirror_mode": {
    "name": "ipython",
    "version": 3
   },
   "file_extension": ".py",
   "mimetype": "text/x-python",
   "name": "python",
   "nbconvert_exporter": "python",
   "pygments_lexer": "ipython3",
   "version": "3.5.5"
  }
 },
 "nbformat": 4,
 "nbformat_minor": 2
}

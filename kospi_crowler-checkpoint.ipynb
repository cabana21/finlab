{
 "cells": [
  {
   "cell_type": "code",
   "execution_count": 4,
   "metadata": {},
   "outputs": [],
   "source": [
    "import pandas as pd\n",
    "from bs4 import BeautifulSoup\n",
    "import requests as re"
   ]
  },
  {
   "cell_type": "code",
   "execution_count": 3,
   "metadata": {},
   "outputs": [],
   "source": [
    "folder_address = 'C:/Users/caban/Desktop'"
   ]
  },
  {
   "cell_type": "code",
   "execution_count": 19,
   "metadata": {},
   "outputs": [],
   "source": [
    "def get_stock_data():\n",
    "    url = 'https://finance.naver.com/item/main.nhn?code='\n",
    "    sichong = []\n",
    "    \n",
    "    for code in all_code:\n",
    "        url_ = re.get(url + str(code))\n",
    "        url_ = url_.content\n",
    "        html = BeautifulSoup(url_,'html.parser')\n",
    "        sichong.append(html.find('em',{'id':'_market_sum'}).get_text().replace('\\t','').replace('\\n',''))\n",
    "     \n",
    "    return sichong"
   ]
  },
  {
   "cell_type": "code",
   "execution_count": null,
   "metadata": {},
   "outputs": [],
   "source": []
  }
 ],
 "metadata": {
  "kernelspec": {
   "display_name": "Python 3",
   "language": "python",
   "name": "python3"
  },
  "language_info": {
   "codemirror_mode": {
    "name": "ipython",
    "version": 3
   },
   "file_extension": ".py",
   "mimetype": "text/x-python",
   "name": "python",
   "nbconvert_exporter": "python",
   "pygments_lexer": "ipython3",
   "version": "3.5.5"
  }
 },
 "nbformat": 4,
 "nbformat_minor": 2
}

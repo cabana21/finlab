{
 "cells": [
  {
   "cell_type": "code",
   "execution_count": 25,
   "metadata": {},
   "outputs": [],
   "source": [
    "df_2x3 <- read.csv('C:/Users/caban/Desktop/career/Finance/FinLab/APT_PCA/project_pca/2x3_monthly_value.csv')"
   ]
  },
  {
   "cell_type": "code",
   "execution_count": 26,
   "metadata": {},
   "outputs": [],
   "source": [
    "df_5x5 <- read.csv('C:/Users/caban/Desktop/career/Finance/FinLab/APT_PCA/project_pca/5x5_monthly_value.csv')"
   ]
  },
  {
   "cell_type": "code",
   "execution_count": 27,
   "metadata": {},
   "outputs": [],
   "source": [
    "df_10x10 <- read.csv('C:/Users/caban/Desktop/career/Finance/FinLab/APT_PCA/project_pca/10x10_monthly_value.csv')"
   ]
  },
  {
   "cell_type": "code",
   "execution_count": 55,
   "metadata": {},
   "outputs": [],
   "source": [
    "obj_2x3 <- princomp(df_2x3, cor=T, scores=T)"
   ]
  },
  {
   "cell_type": "code",
   "execution_count": 56,
   "metadata": {},
   "outputs": [
    {
     "data": {
      "text/plain": [
       "\n",
       "Loadings:\n",
       "           Comp.1 Comp.2 Comp.3 Comp.4 Comp.5 Comp.6\n",
       "SMALL.LoBM  0.404  0.426  0.494         0.532  0.354\n",
       "ME1.BM2     0.420  0.354         0.145 -0.104 -0.816\n",
       "SMALL.HiBM  0.412  0.393 -0.326        -0.612  0.439\n",
       "BIG.LoBM    0.394 -0.527  0.572 -0.331 -0.360       \n",
       "ME2.BM2     0.409 -0.470 -0.219  0.734  0.107  0.116\n",
       "BIG.HiBM    0.409 -0.203 -0.523 -0.569  0.437       \n",
       "\n",
       "               Comp.1 Comp.2 Comp.3 Comp.4 Comp.5 Comp.6\n",
       "SS loadings     1.000  1.000  1.000  1.000  1.000  1.000\n",
       "Proportion Var  0.167  0.167  0.167  0.167  0.167  0.167\n",
       "Cumulative Var  0.167  0.333  0.500  0.667  0.833  1.000"
      ]
     },
     "metadata": {},
     "output_type": "display_data"
    }
   ],
   "source": [
    "obj_2x3$loadings"
   ]
  },
  {
   "cell_type": "code",
   "execution_count": 183,
   "metadata": {
    "scrolled": false
   },
   "outputs": [
    {
     "data": {
      "image/png": "[encoded data removed]",
      "text/plain": [
       "Plot with title \"2x3\""
      ]
     },
     "metadata": {},
     "output_type": "display_data"
    }
   ],
   "source": [
    "screeplot(obj_2x3, col=2, main='2x3', type='l')"
   ]
  },
  {
   "cell_type": "code",
   "execution_count": 31,
   "metadata": {},
   "outputs": [],
   "source": [
    "eigen_2x3 <- eigen(cor(df_2x3))"
   ]
  },
  {
   "cell_type": "code",
   "execution_count": 32,
   "metadata": {},
   "outputs": [
    {
     "data": {
      "text/plain": [
       "eigen() decomposition\n",
       "$values\n",
       "[1] 5.38171003 0.27260129 0.23348245 0.05110418 0.04008572 0.02101632\n",
       "\n",
       "$vectors\n",
       "           [,1]       [,2]        [,3]        [,4]       [,5]        [,6]\n",
       "[1,] -0.4042582  0.4258422 -0.49372426 -0.06075049  0.5315724 -0.35385050\n",
       "[2,] -0.4201836  0.3538829 -0.02946332 -0.14505461 -0.1039470  0.81578103\n",
       "[3,] -0.4121008  0.3928233  0.32577861  0.05485534 -0.6115099 -0.43906454\n",
       "[4,] -0.3943964 -0.5265527 -0.57240451  0.33078710 -0.3603056  0.01750919\n",
       "[5,] -0.4090192 -0.4699456  0.21861467 -0.73423764  0.1074847 -0.11577634\n",
       "[6,] -0.4090828 -0.2025055  0.52325640  0.56897664  0.4373881  0.05294081\n"
      ]
     },
     "metadata": {},
     "output_type": "display_data"
    }
   ],
   "source": [
    "eigen_2x3"
   ]
  },
  {
   "cell_type": "code",
   "execution_count": 34,
   "metadata": {},
   "outputs": [],
   "source": [
    "eigen_2x3 <- as.matrix(eigen_2x3$values)"
   ]
  },
  {
   "cell_type": "code",
   "execution_count": 37,
   "metadata": {},
   "outputs": [],
   "source": [
    "ratio_2x3 <- eigen_2x3 /6 *100"
   ]
  },
  {
   "cell_type": "code",
   "execution_count": 38,
   "metadata": {},
   "outputs": [
    {
     "data": {
      "text/html": [
       "<table>\n",
       "<tbody>\n",
       "\t<tr><td>89.6951672</td></tr>\n",
       "\t<tr><td> 4.5433548</td></tr>\n",
       "\t<tr><td> 3.8913742</td></tr>\n",
       "\t<tr><td> 0.8517364</td></tr>\n",
       "\t<tr><td> 0.6680953</td></tr>\n",
       "\t<tr><td> 0.3502721</td></tr>\n",
       "</tbody>\n",
       "</table>\n"
      ],
      "text/latex": [
       "\\begin{tabular}{l}\n",
       "\t 89.6951672\\\\\n",
       "\t  4.5433548\\\\\n",
       "\t  3.8913742\\\\\n",
       "\t  0.8517364\\\\\n",
       "\t  0.6680953\\\\\n",
       "\t  0.3502721\\\\\n",
       "\\end{tabular}\n"
      ],
      "text/markdown": [
       "\n",
       "| 89.6951672 | \n",
       "|  4.5433548 | \n",
       "|  3.8913742 | \n",
       "|  0.8517364 | \n",
       "|  0.6680953 | \n",
       "|  0.3502721 | \n",
       "\n",
       "\n"
      ],
      "text/plain": [
       "     [,1]      \n",
       "[1,] 89.6951672\n",
       "[2,]  4.5433548\n",
       "[3,]  3.8913742\n",
       "[4,]  0.8517364\n",
       "[5,]  0.6680953\n",
       "[6,]  0.3502721"
      ]
     },
     "metadata": {},
     "output_type": "display_data"
    }
   ],
   "source": [
    "ratio_2x3"
   ]
  },
  {
   "cell_type": "code",
   "execution_count": 58,
   "metadata": {},
   "outputs": [],
   "source": [
    "obj_5x5 <- princomp(df_5x5, cor=T, scores=T) "
   ]
  },
  {
   "cell_type": "code",
   "execution_count": 59,
   "metadata": {},
   "outputs": [
    {
     "data": {
      "text/plain": [
       "Call:\n",
       "princomp(x = df_5x5, cor = T, scores = T)\n",
       "\n",
       "Standard deviations:\n",
       "   Comp.1    Comp.2    Comp.3    Comp.4    Comp.5    Comp.6    Comp.7    Comp.8 \n",
       "4.6047224 1.0233166 0.8848230 0.6260886 0.4360767 0.4278791 0.3688362 0.3285847 \n",
       "   Comp.9   Comp.10   Comp.11   Comp.12   Comp.13   Comp.14   Comp.15   Comp.16 \n",
       "0.3102044 0.2954059 0.2851195 0.2784567 0.2634054 0.2610640 0.2433565 0.2373788 \n",
       "  Comp.17   Comp.18   Comp.19   Comp.20   Comp.21   Comp.22   Comp.23   Comp.24 \n",
       "0.2273665 0.2248369 0.2177584 0.2066527 0.1985156 0.1881786 0.1869985 0.1750840 \n",
       "  Comp.25 \n",
       "0.1701760 \n",
       "\n",
       " 25  variables and  1107 observations."
      ]
     },
     "metadata": {},
     "output_type": "display_data"
    }
   ],
   "source": [
    "obj_5x5"
   ]
  },
  {
   "cell_type": "code",
   "execution_count": 60,
   "metadata": {
    "scrolled": true
   },
   "outputs": [
    {
     "data": {
      "text/plain": [
       "\n",
       "Loadings:\n",
       "           Comp.1 Comp.2 Comp.3 Comp.4 Comp.5 Comp.6 Comp.7 Comp.8 Comp.9\n",
       "SMALL.LoBM  0.173  0.250         0.817  0.109  0.391                0.126\n",
       "ME1.BM2     0.188  0.335 -0.106 -0.196 -0.605         0.328         0.432\n",
       "ME1.BM3     0.200  0.238                      -0.161 -0.596  0.257 -0.115\n",
       "ME1.BM4     0.201  0.275        -0.113 -0.200        -0.139        -0.112\n",
       "SMALL.HiBM  0.200  0.264  0.205        -0.121        -0.200 -0.260       \n",
       "ME2.BM1     0.196  0.205 -0.297               -0.121  0.407  0.113 -0.445\n",
       "ME2.BM2     0.206  0.158 -0.135 -0.168  0.107                      -0.218\n",
       "ME2.BM3     0.209  0.117        -0.142  0.145                0.113 -0.112\n",
       "ME2.BM4     0.210  0.107  0.100 -0.119  0.104                      -0.102\n",
       "ME2.BM5     0.205  0.115  0.203                             -0.263  0.186\n",
       "ME3.BM1     0.201  0.100 -0.313               -0.109                     \n",
       "ME3.BM2     0.208        -0.174         0.270                0.138  0.163\n",
       "ME3.BM3     0.210               -0.126  0.236                0.208       \n",
       "ME3.BM4     0.210         0.112 -0.148  0.144  0.127  0.108         0.191\n",
       "ME3.BM5     0.205         0.235         0.141               -0.263 -0.137\n",
       "ME4.BM1     0.195        -0.417  0.118  0.101 -0.172  0.110 -0.164       \n",
       "ME4.BM2     0.207 -0.151 -0.143 -0.109  0.167        -0.119  0.137  0.220\n",
       "ME4.BM3     0.208 -0.148        -0.152  0.150                       0.343\n",
       "ME4.BM4     0.206 -0.135  0.156         0.134  0.105  0.187 -0.189       \n",
       "ME4.BM5     0.202         0.248               -0.138  0.238 -0.397       \n",
       "BIG.LoBM    0.187 -0.277 -0.344  0.141 -0.293 -0.127 -0.292 -0.416       \n",
       "ME5.BM2     0.194 -0.339 -0.153        -0.198  0.125 -0.192              \n",
       "ME5.BM3     0.193 -0.340               -0.253  0.406         0.250       \n",
       "ME5.BM4     0.196 -0.269  0.211        -0.193  0.199  0.130        -0.414\n",
       "BIG.HiBM    0.184 -0.205  0.330  0.310 -0.180 -0.671  0.156  0.368  0.128\n",
       "           Comp.10 Comp.11 Comp.12 Comp.13 Comp.14 Comp.15 Comp.16 Comp.17\n",
       "SMALL.LoBM                                                  0.136         \n",
       "ME1.BM2     0.134           0.248   0.110                  -0.132         \n",
       "ME1.BM3     0.269  -0.290  -0.120   0.274  -0.140                  -0.147 \n",
       "ME1.BM4    -0.163   0.208  -0.343  -0.160                           0.159 \n",
       "SMALL.HiBM -0.371                          -0.121  -0.174   0.145   0.108 \n",
       "ME2.BM1    -0.249                   0.298  -0.102                  -0.451 \n",
       "ME2.BM2                             0.121          -0.140   0.405   0.563 \n",
       "ME2.BM3     0.142   0.303          -0.114   0.342          -0.131         \n",
       "ME2.BM4             0.199  -0.137  -0.242   0.128          -0.119  -0.226 \n",
       "ME2.BM5    -0.315  -0.177          -0.429  -0.107   0.210   0.118  -0.310 \n",
       "ME3.BM1     0.337  -0.364  -0.161  -0.318                                 \n",
       "ME3.BM2    -0.156           0.110                   0.206           0.308 \n",
       "ME3.BM3     0.126   0.192   0.215  -0.176   0.141          -0.123         \n",
       "ME3.BM4             0.229  -0.174          -0.133  -0.116                 \n",
       "ME3.BM5            -0.150   0.562   0.174          -0.244  -0.439         \n",
       "ME4.BM1            -0.247          -0.226  -0.115                         \n",
       "ME4.BM2    -0.129           0.155   0.105          -0.119   0.211         \n",
       "ME4.BM3                             0.313  -0.238           0.290  -0.267 \n",
       "ME4.BM4                    -0.388   0.193  -0.379          -0.454   0.245 \n",
       "ME4.BM5     0.289  -0.243  -0.185   0.195   0.529           0.258         \n",
       "BIG.LoBM    0.215   0.450                          -0.205                 \n",
       "ME5.BM2    -0.413                   0.257   0.341   0.455  -0.154         \n",
       "ME5.BM3            -0.314  -0.134  -0.173   0.114  -0.531                 \n",
       "ME5.BM4     0.200           0.289  -0.156  -0.366   0.426   0.243         \n",
       "BIG.HiBM            0.137                                                 \n",
       "           Comp.18 Comp.19 Comp.20 Comp.21 Comp.22 Comp.23 Comp.24 Comp.25\n",
       "SMALL.LoBM                                                                \n",
       "ME1.BM2                                                                   \n",
       "ME1.BM3     0.168  -0.282                                                 \n",
       "ME1.BM4     0.169   0.446  -0.174          -0.153   0.218   0.275   0.382 \n",
       "SMALL.HiBM          0.183                   0.369  -0.365  -0.245  -0.369 \n",
       "ME2.BM1                    -0.136  -0.128                   0.105         \n",
       "ME2.BM2    -0.291  -0.339   0.172                   0.212           0.132 \n",
       "ME2.BM3    -0.170          -0.260   0.311           0.322  -0.139  -0.519 \n",
       "ME2.BM4     0.155  -0.135   0.513          -0.206          -0.524   0.221 \n",
       "ME2.BM5    -0.237  -0.365  -0.135          -0.145   0.217   0.131         \n",
       "ME3.BM1    -0.445   0.286          -0.122  -0.173  -0.332                 \n",
       "ME3.BM2     0.373  -0.127  -0.495          -0.239  -0.310  -0.250         \n",
       "ME3.BM3                            -0.397   0.599  -0.109   0.275   0.223 \n",
       "ME3.BM4            -0.166   0.108   0.508          -0.439   0.454         \n",
       "ME3.BM5             0.178           0.176  -0.195                   0.224 \n",
       "ME4.BM1     0.339           0.184   0.414   0.379   0.267                 \n",
       "ME4.BM2     0.244   0.266   0.341  -0.293  -0.329   0.181   0.243  -0.371 \n",
       "ME4.BM3    -0.281   0.296  -0.187   0.108           0.118  -0.350   0.277 \n",
       "ME4.BM4                            -0.295           0.228          -0.194 \n",
       "ME4.BM5     0.222                  -0.114                                 \n",
       "BIG.LoBM           -0.166  -0.121  -0.123  -0.111                         \n",
       "ME5.BM2    -0.256           0.195   0.101          -0.122                 \n",
       "ME5.BM3            -0.149  -0.235                                         \n",
       "ME5.BM4     0.137   0.149                                                 \n",
       "BIG.HiBM                                                                  \n",
       "\n",
       "               Comp.1 Comp.2 Comp.3 Comp.4 Comp.5 Comp.6 Comp.7 Comp.8 Comp.9\n",
       "SS loadings      1.00   1.00   1.00   1.00   1.00   1.00   1.00   1.00   1.00\n",
       "Proportion Var   0.04   0.04   0.04   0.04   0.04   0.04   0.04   0.04   0.04\n",
       "Cumulative Var   0.04   0.08   0.12   0.16   0.20   0.24   0.28   0.32   0.36\n",
       "               Comp.10 Comp.11 Comp.12 Comp.13 Comp.14 Comp.15 Comp.16 Comp.17\n",
       "SS loadings       1.00    1.00    1.00    1.00    1.00    1.00    1.00    1.00\n",
       "Proportion Var    0.04    0.04    0.04    0.04    0.04    0.04    0.04    0.04\n",
       "Cumulative Var    0.40    0.44    0.48    0.52    0.56    0.60    0.64    0.68\n",
       "               Comp.18 Comp.19 Comp.20 Comp.21 Comp.22 Comp.23 Comp.24 Comp.25\n",
       "SS loadings       1.00    1.00    1.00    1.00    1.00    1.00    1.00    1.00\n",
       "Proportion Var    0.04    0.04    0.04    0.04    0.04    0.04    0.04    0.04\n",
       "Cumulative Var    0.72    0.76    0.80    0.84    0.88    0.92    0.96    1.00"
      ]
     },
     "metadata": {},
     "output_type": "display_data"
    }
   ],
   "source": [
    "obj_5x5$loadings"
   ]
  },
  {
   "cell_type": "code",
   "execution_count": 182,
   "metadata": {
    "scrolled": false
   },
   "outputs": [
    {
     "data": {
      "image/png": "[encoded data removed]",
      "text/plain": [
       "Plot with title \"5x5\""
      ]
     },
     "metadata": {},
     "output_type": "display_data"
    }
   ],
   "source": [
    "screeplot(obj_5x5, col=2, main='5x5', type='l')"
   ]
  },
  {
   "cell_type": "code",
   "execution_count": 65,
   "metadata": {},
   "outputs": [],
   "source": [
    "ratio_5x5 <- as.matrix(eigen(cor(df_5x5))$values)/25*100"
   ]
  },
  {
   "cell_type": "code",
   "execution_count": 66,
   "metadata": {
    "scrolled": true
   },
   "outputs": [
    {
     "data": {
      "text/html": [
       "<table>\n",
       "<tbody>\n",
       "\t<tr><td>84.8138752</td></tr>\n",
       "\t<tr><td> 4.1887076</td></tr>\n",
       "\t<tr><td> 3.1316469</td></tr>\n",
       "\t<tr><td> 1.5679478</td></tr>\n",
       "\t<tr><td> 0.7606517</td></tr>\n",
       "\t<tr><td> 0.7323221</td></tr>\n",
       "\t<tr><td> 0.5441606</td></tr>\n",
       "\t<tr><td> 0.4318717</td></tr>\n",
       "\t<tr><td> 0.3849071</td></tr>\n",
       "\t<tr><td> 0.3490585</td></tr>\n",
       "\t<tr><td> 0.3251725</td></tr>\n",
       "\t<tr><td> 0.3101526</td></tr>\n",
       "\t<tr><td> 0.2775296</td></tr>\n",
       "\t<tr><td> 0.2726176</td></tr>\n",
       "\t<tr><td> 0.2368895</td></tr>\n",
       "\t<tr><td> 0.2253948</td></tr>\n",
       "\t<tr><td> 0.2067821</td></tr>\n",
       "\t<tr><td> 0.2022065</td></tr>\n",
       "\t<tr><td> 0.1896749</td></tr>\n",
       "\t<tr><td> 0.1708213</td></tr>\n",
       "\t<tr><td> 0.1576338</td></tr>\n",
       "\t<tr><td> 0.1416448</td></tr>\n",
       "\t<tr><td> 0.1398737</td></tr>\n",
       "\t<tr><td> 0.1226177</td></tr>\n",
       "\t<tr><td> 0.1158394</td></tr>\n",
       "</tbody>\n",
       "</table>\n"
      ],
      "text/latex": [
       "\\begin{tabular}{l}\n",
       "\t 84.8138752\\\\\n",
       "\t  4.1887076\\\\\n",
       "\t  3.1316469\\\\\n",
       "\t  1.5679478\\\\\n",
       "\t  0.7606517\\\\\n",
       "\t  0.7323221\\\\\n",
       "\t  0.5441606\\\\\n",
       "\t  0.4318717\\\\\n",
       "\t  0.3849071\\\\\n",
       "\t  0.3490585\\\\\n",
       "\t  0.3251725\\\\\n",
       "\t  0.3101526\\\\\n",
       "\t  0.2775296\\\\\n",
       "\t  0.2726176\\\\\n",
       "\t  0.2368895\\\\\n",
       "\t  0.2253948\\\\\n",
       "\t  0.2067821\\\\\n",
       "\t  0.2022065\\\\\n",
       "\t  0.1896749\\\\\n",
       "\t  0.1708213\\\\\n",
       "\t  0.1576338\\\\\n",
       "\t  0.1416448\\\\\n",
       "\t  0.1398737\\\\\n",
       "\t  0.1226177\\\\\n",
       "\t  0.1158394\\\\\n",
       "\\end{tabular}\n"
      ],
      "text/markdown": [
       "\n",
       "| 84.8138752 | \n",
       "|  4.1887076 | \n",
       "|  3.1316469 | \n",
       "|  1.5679478 | \n",
       "|  0.7606517 | \n",
       "|  0.7323221 | \n",
       "|  0.5441606 | \n",
       "|  0.4318717 | \n",
       "|  0.3849071 | \n",
       "|  0.3490585 | \n",
       "|  0.3251725 | \n",
       "|  0.3101526 | \n",
       "|  0.2775296 | \n",
       "|  0.2726176 | \n",
       "|  0.2368895 | \n",
       "|  0.2253948 | \n",
       "|  0.2067821 | \n",
       "|  0.2022065 | \n",
       "|  0.1896749 | \n",
       "|  0.1708213 | \n",
       "|  0.1576338 | \n",
       "|  0.1416448 | \n",
       "|  0.1398737 | \n",
       "|  0.1226177 | \n",
       "|  0.1158394 | \n",
       "\n",
       "\n"
      ],
      "text/plain": [
       "      [,1]      \n",
       " [1,] 84.8138752\n",
       " [2,]  4.1887076\n",
       " [3,]  3.1316469\n",
       " [4,]  1.5679478\n",
       " [5,]  0.7606517\n",
       " [6,]  0.7323221\n",
       " [7,]  0.5441606\n",
       " [8,]  0.4318717\n",
       " [9,]  0.3849071\n",
       "[10,]  0.3490585\n",
       "[11,]  0.3251725\n",
       "[12,]  0.3101526\n",
       "[13,]  0.2775296\n",
       "[14,]  0.2726176\n",
       "[15,]  0.2368895\n",
       "[16,]  0.2253948\n",
       "[17,]  0.2067821\n",
       "[18,]  0.2022065\n",
       "[19,]  0.1896749\n",
       "[20,]  0.1708213\n",
       "[21,]  0.1576338\n",
       "[22,]  0.1416448\n",
       "[23,]  0.1398737\n",
       "[24,]  0.1226177\n",
       "[25,]  0.1158394"
      ]
     },
     "metadata": {},
     "output_type": "display_data"
    }
   ],
   "source": [
    "ratio_5x5"
   ]
  },
  {
   "cell_type": "code",
   "execution_count": 79,
   "metadata": {},
   "outputs": [],
   "source": [
    "obj_10x10 <- princomp(df_10x10, cor=F, scores=T)"
   ]
  },
  {
   "cell_type": "code",
   "execution_count": 80,
   "metadata": {},
   "outputs": [
    {
     "data": {
      "text/plain": [
       "Call:\n",
       "princomp(x = df_10x10, cor = F, scores = T)\n",
       "\n",
       "Standard deviations:\n",
       "   Comp.1    Comp.2    Comp.3    Comp.4    Comp.5    Comp.6    Comp.7    Comp.8 \n",
       "77.005551 56.161515 37.350076 31.808981 30.970069 28.033898 26.965405 26.558528 \n",
       "   Comp.9   Comp.10   Comp.11   Comp.12   Comp.13   Comp.14   Comp.15   Comp.16 \n",
       "23.089454 20.433389 19.645895 18.339649 17.469052 15.072506 13.544700 12.663693 \n",
       "  Comp.17   Comp.18   Comp.19   Comp.20   Comp.21   Comp.22   Comp.23   Comp.24 \n",
       "12.001962 11.391467 10.937890 10.793680 10.641937  9.604822  8.905439  8.560521 \n",
       "  Comp.25   Comp.26   Comp.27   Comp.28   Comp.29   Comp.30   Comp.31   Comp.32 \n",
       " 7.579335  7.483949  7.086159  6.905779  6.592714  6.104473  5.843313  5.540815 \n",
       "  Comp.33   Comp.34   Comp.35   Comp.36   Comp.37   Comp.38   Comp.39   Comp.40 \n",
       " 5.187992  4.969291  4.902848  4.852826  4.715762  4.413120  4.310107  4.209241 \n",
       "  Comp.41   Comp.42   Comp.43   Comp.44   Comp.45   Comp.46   Comp.47   Comp.48 \n",
       " 3.946201  3.818705  3.809583  3.751966  3.687767  3.595473  3.516080  3.478502 \n",
       "  Comp.49   Comp.50   Comp.51   Comp.52   Comp.53   Comp.54   Comp.55   Comp.56 \n",
       " 3.376768  3.324913  3.284677  3.259612  3.247992  3.142671  3.090235  3.044004 \n",
       "  Comp.57   Comp.58   Comp.59   Comp.60   Comp.61   Comp.62   Comp.63   Comp.64 \n",
       " 3.018246  2.915015  2.875458  2.842561  2.833443  2.812114  2.795880  2.768452 \n",
       "  Comp.65   Comp.66   Comp.67   Comp.68   Comp.69   Comp.70   Comp.71   Comp.72 \n",
       " 2.701416  2.647229  2.644294  2.624246  2.568986  2.547502  2.525864  2.464454 \n",
       "  Comp.73   Comp.74   Comp.75   Comp.76   Comp.77   Comp.78   Comp.79   Comp.80 \n",
       " 2.441248  2.396607  2.389635  2.354206  2.316791  2.284812  2.268939  2.224802 \n",
       "  Comp.81   Comp.82   Comp.83   Comp.84   Comp.85   Comp.86   Comp.87   Comp.88 \n",
       " 2.195771  2.175680  2.159340  2.150082  2.124770  2.070030  2.020203  2.006842 \n",
       "  Comp.89   Comp.90   Comp.91   Comp.92   Comp.93   Comp.94   Comp.95   Comp.96 \n",
       " 1.994150  1.976677  1.949545  1.921698  1.896692  1.815470  1.782302  1.735542 \n",
       "  Comp.97   Comp.98   Comp.99  Comp.100 \n",
       " 1.702842  1.599064  1.578031  1.517183 \n",
       "\n",
       " 100  variables and  1107 observations."
      ]
     },
     "metadata": {},
     "output_type": "display_data"
    }
   ],
   "source": [
    "obj_10x10"
   ]
  },
  {
   "cell_type": "code",
   "execution_count": 181,
   "metadata": {},
   "outputs": [
    {
     "data": {
      "image/png": "[encoded data removed]",
      "text/plain": [
       "Plot with title \"10x10\""
      ]
     },
     "metadata": {},
     "output_type": "display_data"
    }
   ],
   "source": [
    "screeplot(obj_10x10, col=2, main='10x10', type='l')"
   ]
  },
  {
   "cell_type": "code",
   "execution_count": 94,
   "metadata": {},
   "outputs": [],
   "source": [
    "ratio_10x10 <- as.matrix(eigen(cov(df_10x10))$values) / sum(eigen(cov(df_10x10))$values) *100"
   ]
  },
  {
   "cell_type": "code",
   "execution_count": 95,
   "metadata": {
    "scrolled": true
   },
   "outputs": [
    {
     "data": {
      "text/html": [
       "<table>\n",
       "<tbody>\n",
       "\t<tr><td>31.1283336</td></tr>\n",
       "\t<tr><td>16.5572971</td></tr>\n",
       "\t<tr><td> 7.3230971</td></tr>\n",
       "\t<tr><td> 5.3114285</td></tr>\n",
       "\t<tr><td> 5.0349615</td></tr>\n",
       "\t<tr><td> 4.1255208</td></tr>\n",
       "\t<tr><td> 3.8170312</td></tr>\n",
       "\t<tr><td> 3.7027111</td></tr>\n",
       "\t<tr><td> 2.7985892</td></tr>\n",
       "\t<tr><td> 2.1917581</td></tr>\n",
       "\t<tr><td> 2.0260748</td></tr>\n",
       "\t<tr><td> 1.7656063</td></tr>\n",
       "\t<tr><td> 1.6019556</td></tr>\n",
       "\t<tr><td> 1.1925669</td></tr>\n",
       "\t<tr><td> 0.9630538</td></tr>\n",
       "\t<tr><td> 0.8418458</td></tr>\n",
       "\t<tr><td> 0.7561645</td></tr>\n",
       "\t<tr><td> 0.6811945</td></tr>\n",
       "\t<tr><td> 0.6280279</td></tr>\n",
       "\t<tr><td> 0.6115767</td></tr>\n",
       "\t<tr><td> 0.5945018</td></tr>\n",
       "\t<tr><td> 0.4842732</td></tr>\n",
       "\t<tr><td> 0.4163154</td></tr>\n",
       "\t<tr><td> 0.3846912</td></tr>\n",
       "\t<tr><td> 0.3015602</td></tr>\n",
       "\t<tr><td> 0.2940177</td></tr>\n",
       "\t<tr><td> 0.2635929</td></tr>\n",
       "\t<tr><td> 0.2503440</td></tr>\n",
       "\t<tr><td> 0.2281604</td></tr>\n",
       "\t<tr><td> 0.1956177</td></tr>\n",
       "\t<tr><td>...</td></tr>\n",
       "\t<tr><td>0.03349129</td></tr>\n",
       "\t<tr><td>0.03188255</td></tr>\n",
       "\t<tr><td>0.03128495</td></tr>\n",
       "\t<tr><td>0.03015127</td></tr>\n",
       "\t<tr><td>0.02997610</td></tr>\n",
       "\t<tr><td>0.02909383</td></tr>\n",
       "\t<tr><td>0.02817640</td></tr>\n",
       "\t<tr><td>0.02740393</td></tr>\n",
       "\t<tr><td>0.02702450</td></tr>\n",
       "\t<tr><td>0.02598332</td></tr>\n",
       "\t<tr><td>0.02530964</td></tr>\n",
       "\t<tr><td>0.02484859</td></tr>\n",
       "\t<tr><td>0.02447676</td></tr>\n",
       "\t<tr><td>0.02426731</td></tr>\n",
       "\t<tr><td>0.02369931</td></tr>\n",
       "\t<tr><td>0.02249392</td></tr>\n",
       "\t<tr><td>0.02142406</td></tr>\n",
       "\t<tr><td>0.02114162</td></tr>\n",
       "\t<tr><td>0.02087504</td></tr>\n",
       "\t<tr><td>0.02051082</td></tr>\n",
       "\t<tr><td>0.01995164</td></tr>\n",
       "\t<tr><td>0.01938573</td></tr>\n",
       "\t<tr><td>0.01888449</td></tr>\n",
       "\t<tr><td>0.01730176</td></tr>\n",
       "\t<tr><td>0.01667533</td></tr>\n",
       "\t<tr><td>0.01581183</td></tr>\n",
       "\t<tr><td>0.01522161</td></tr>\n",
       "\t<tr><td>0.01342280</td></tr>\n",
       "\t<tr><td>0.01307202</td></tr>\n",
       "\t<tr><td>0.01208336</td></tr>\n",
       "</tbody>\n",
       "</table>\n"
      ],
      "text/latex": [
       "\\begin{tabular}{l}\n",
       "\t 31.1283336\\\\\n",
       "\t 16.5572971\\\\\n",
       "\t  7.3230971\\\\\n",
       "\t  5.3114285\\\\\n",
       "\t  5.0349615\\\\\n",
       "\t  4.1255208\\\\\n",
       "\t  3.8170312\\\\\n",
       "\t  3.7027111\\\\\n",
       "\t  2.7985892\\\\\n",
       "\t  2.1917581\\\\\n",
       "\t  2.0260748\\\\\n",
       "\t  1.7656063\\\\\n",
       "\t  1.6019556\\\\\n",
       "\t  1.1925669\\\\\n",
       "\t  0.9630538\\\\\n",
       "\t  0.8418458\\\\\n",
       "\t  0.7561645\\\\\n",
       "\t  0.6811945\\\\\n",
       "\t  0.6280279\\\\\n",
       "\t  0.6115767\\\\\n",
       "\t  0.5945018\\\\\n",
       "\t  0.4842732\\\\\n",
       "\t  0.4163154\\\\\n",
       "\t  0.3846912\\\\\n",
       "\t  0.3015602\\\\\n",
       "\t  0.2940177\\\\\n",
       "\t  0.2635929\\\\\n",
       "\t  0.2503440\\\\\n",
       "\t  0.2281604\\\\\n",
       "\t  0.1956177\\\\\n",
       "\t ...\\\\\n",
       "\t 0.03349129\\\\\n",
       "\t 0.03188255\\\\\n",
       "\t 0.03128495\\\\\n",
       "\t 0.03015127\\\\\n",
       "\t 0.02997610\\\\\n",
       "\t 0.02909383\\\\\n",
       "\t 0.02817640\\\\\n",
       "\t 0.02740393\\\\\n",
       "\t 0.02702450\\\\\n",
       "\t 0.02598332\\\\\n",
       "\t 0.02530964\\\\\n",
       "\t 0.02484859\\\\\n",
       "\t 0.02447676\\\\\n",
       "\t 0.02426731\\\\\n",
       "\t 0.02369931\\\\\n",
       "\t 0.02249392\\\\\n",
       "\t 0.02142406\\\\\n",
       "\t 0.02114162\\\\\n",
       "\t 0.02087504\\\\\n",
       "\t 0.02051082\\\\\n",
       "\t 0.01995164\\\\\n",
       "\t 0.01938573\\\\\n",
       "\t 0.01888449\\\\\n",
       "\t 0.01730176\\\\\n",
       "\t 0.01667533\\\\\n",
       "\t 0.01581183\\\\\n",
       "\t 0.01522161\\\\\n",
       "\t 0.01342280\\\\\n",
       "\t 0.01307202\\\\\n",
       "\t 0.01208336\\\\\n",
       "\\end{tabular}\n"
      ],
      "text/markdown": [
       "\n",
       "| 31.1283336 | \n",
       "| 16.5572971 | \n",
       "|  7.3230971 | \n",
       "|  5.3114285 | \n",
       "|  5.0349615 | \n",
       "|  4.1255208 | \n",
       "|  3.8170312 | \n",
       "|  3.7027111 | \n",
       "|  2.7985892 | \n",
       "|  2.1917581 | \n",
       "|  2.0260748 | \n",
       "|  1.7656063 | \n",
       "|  1.6019556 | \n",
       "|  1.1925669 | \n",
       "|  0.9630538 | \n",
       "|  0.8418458 | \n",
       "|  0.7561645 | \n",
       "|  0.6811945 | \n",
       "|  0.6280279 | \n",
       "|  0.6115767 | \n",
       "|  0.5945018 | \n",
       "|  0.4842732 | \n",
       "|  0.4163154 | \n",
       "|  0.3846912 | \n",
       "|  0.3015602 | \n",
       "|  0.2940177 | \n",
       "|  0.2635929 | \n",
       "|  0.2503440 | \n",
       "|  0.2281604 | \n",
       "|  0.1956177 | \n",
       "| ... | \n",
       "| 0.03349129 | \n",
       "| 0.03188255 | \n",
       "| 0.03128495 | \n",
       "| 0.03015127 | \n",
       "| 0.02997610 | \n",
       "| 0.02909383 | \n",
       "| 0.02817640 | \n",
       "| 0.02740393 | \n",
       "| 0.02702450 | \n",
       "| 0.02598332 | \n",
       "| 0.02530964 | \n",
       "| 0.02484859 | \n",
       "| 0.02447676 | \n",
       "| 0.02426731 | \n",
       "| 0.02369931 | \n",
       "| 0.02249392 | \n",
       "| 0.02142406 | \n",
       "| 0.02114162 | \n",
       "| 0.02087504 | \n",
       "| 0.02051082 | \n",
       "| 0.01995164 | \n",
       "| 0.01938573 | \n",
       "| 0.01888449 | \n",
       "| 0.01730176 | \n",
       "| 0.01667533 | \n",
       "| 0.01581183 | \n",
       "| 0.01522161 | \n",
       "| 0.01342280 | \n",
       "| 0.01307202 | \n",
       "| 0.01208336 | \n",
       "\n",
       "\n"
      ],
      "text/plain": [
       "      [,1]      \n",
       " [1,] 31.1283336\n",
       " [2,] 16.5572971\n",
       " [3,]  7.3230971\n",
       " [4,]  5.3114285\n",
       " [5,]  5.0349615\n",
       " [6,]  4.1255208\n",
       " [7,]  3.8170312\n",
       " [8,]  3.7027111\n",
       " [9,]  2.7985892\n",
       "[10,]  2.1917581\n",
       "[11,]  2.0260748\n",
       "[12,]  1.7656063\n",
       "[13,]  1.6019556\n",
       "[14,]  1.1925669\n",
       "[15,]  0.9630538\n",
       "[16,]  0.8418458\n",
       "[17,]  0.7561645\n",
       "[18,]  0.6811945\n",
       "[19,]  0.6280279\n",
       "[20,]  0.6115767\n",
       "[21,]  0.5945018\n",
       "[22,]  0.4842732\n",
       "[23,]  0.4163154\n",
       "[24,]  0.3846912\n",
       "[25,]  0.3015602\n",
       "[26,]  0.2940177\n",
       "[27,]  0.2635929\n",
       "[28,]  0.2503440\n",
       "[29,]  0.2281604\n",
       "[30,]  0.1956177\n",
       "[31,] ...       \n",
       "[32,] 0.03349129\n",
       "[33,] 0.03188255\n",
       "[34,] 0.03128495\n",
       "[35,] 0.03015127\n",
       "[36,] 0.02997610\n",
       "[37,] 0.02909383\n",
       "[38,] 0.02817640\n",
       "[39,] 0.02740393\n",
       "[40,] 0.02702450\n",
       "[41,] 0.02598332\n",
       "[42,] 0.02530964\n",
       "[43,] 0.02484859\n",
       "[44,] 0.02447676\n",
       "[45,] 0.02426731\n",
       "[46,] 0.02369931\n",
       "[47,] 0.02249392\n",
       "[48,] 0.02142406\n",
       "[49,] 0.02114162\n",
       "[50,] 0.02087504\n",
       "[51,] 0.02051082\n",
       "[52,] 0.01995164\n",
       "[53,] 0.01938573\n",
       "[54,] 0.01888449\n",
       "[55,] 0.01730176\n",
       "[56,] 0.01667533\n",
       "[57,] 0.01581183\n",
       "[58,] 0.01522161\n",
       "[59,] 0.01342280\n",
       "[60,] 0.01307202\n",
       "[61,] 0.01208336"
      ]
     },
     "metadata": {},
     "output_type": "display_data"
    }
   ],
   "source": [
    "ratio_10x10"
   ]
  },
  {
   "cell_type": "code",
   "execution_count": 97,
   "metadata": {},
   "outputs": [
    {
     "data": {
      "text/html": [
       "<table>\n",
       "<tbody>\n",
       "\t<tr><td>90.4957857</td></tr>\n",
       "\t<tr><td> 4.3246360</td></tr>\n",
       "\t<tr><td> 3.4088947</td></tr>\n",
       "\t<tr><td> 0.7780650</td></tr>\n",
       "\t<tr><td> 0.6102555</td></tr>\n",
       "\t<tr><td> 0.3823632</td></tr>\n",
       "</tbody>\n",
       "</table>\n"
      ],
      "text/latex": [
       "\\begin{tabular}{l}\n",
       "\t 90.4957857\\\\\n",
       "\t  4.3246360\\\\\n",
       "\t  3.4088947\\\\\n",
       "\t  0.7780650\\\\\n",
       "\t  0.6102555\\\\\n",
       "\t  0.3823632\\\\\n",
       "\\end{tabular}\n"
      ],
      "text/markdown": [
       "\n",
       "| 90.4957857 | \n",
       "|  4.3246360 | \n",
       "|  3.4088947 | \n",
       "|  0.7780650 | \n",
       "|  0.6102555 | \n",
       "|  0.3823632 | \n",
       "\n",
       "\n"
      ],
      "text/plain": [
       "     [,1]      \n",
       "[1,] 90.4957857\n",
       "[2,]  4.3246360\n",
       "[3,]  3.4088947\n",
       "[4,]  0.7780650\n",
       "[5,]  0.6102555\n",
       "[6,]  0.3823632"
      ]
     },
     "metadata": {},
     "output_type": "display_data"
    }
   ],
   "source": [
    "(ratio_2x3_cov <- as.matrix(eigen(cov(df_2x3))$values)/ sum(eigen(cov(df_2x3))$values) *100)"
   ]
  },
  {
   "cell_type": "code",
   "execution_count": 98,
   "metadata": {},
   "outputs": [
    {
     "data": {
      "text/html": [
       "<table>\n",
       "<tbody>\n",
       "\t<tr><td>89.6951672</td></tr>\n",
       "\t<tr><td> 4.5433548</td></tr>\n",
       "\t<tr><td> 3.8913742</td></tr>\n",
       "\t<tr><td> 0.8517364</td></tr>\n",
       "\t<tr><td> 0.6680953</td></tr>\n",
       "\t<tr><td> 0.3502721</td></tr>\n",
       "</tbody>\n",
       "</table>\n"
      ],
      "text/latex": [
       "\\begin{tabular}{l}\n",
       "\t 89.6951672\\\\\n",
       "\t  4.5433548\\\\\n",
       "\t  3.8913742\\\\\n",
       "\t  0.8517364\\\\\n",
       "\t  0.6680953\\\\\n",
       "\t  0.3502721\\\\\n",
       "\\end{tabular}\n"
      ],
      "text/markdown": [
       "\n",
       "| 89.6951672 | \n",
       "|  4.5433548 | \n",
       "|  3.8913742 | \n",
       "|  0.8517364 | \n",
       "|  0.6680953 | \n",
       "|  0.3502721 | \n",
       "\n",
       "\n"
      ],
      "text/plain": [
       "     [,1]      \n",
       "[1,] 89.6951672\n",
       "[2,]  4.5433548\n",
       "[3,]  3.8913742\n",
       "[4,]  0.8517364\n",
       "[5,]  0.6680953\n",
       "[6,]  0.3502721"
      ]
     },
     "metadata": {},
     "output_type": "display_data"
    }
   ],
   "source": [
    "ratio_2x3"
   ]
  },
  {
   "cell_type": "code",
   "execution_count": 101,
   "metadata": {
    "scrolled": true
   },
   "outputs": [
    {
     "data": {
      "text/html": [
       "<table>\n",
       "<tbody>\n",
       "\t<tr><td>83.75854871</td></tr>\n",
       "\t<tr><td> 4.41881360</td></tr>\n",
       "\t<tr><td> 3.18066165</td></tr>\n",
       "\t<tr><td> 2.59911810</td></tr>\n",
       "\t<tr><td> 0.88088396</td></tr>\n",
       "\t<tr><td> 0.77627778</td></tr>\n",
       "\t<tr><td> 0.58517744</td></tr>\n",
       "\t<tr><td> 0.41601027</td></tr>\n",
       "\t<tr><td> 0.40198672</td></tr>\n",
       "\t<tr><td> 0.37208704</td></tr>\n",
       "\t<tr><td> 0.34022061</td></tr>\n",
       "\t<tr><td> 0.26645991</td></tr>\n",
       "\t<tr><td> 0.24979179</td></tr>\n",
       "\t<tr><td> 0.22120709</td></tr>\n",
       "\t<tr><td> 0.20948919</td></tr>\n",
       "\t<tr><td> 0.18332518</td></tr>\n",
       "\t<tr><td> 0.16812031</td></tr>\n",
       "\t<tr><td> 0.15899986</td></tr>\n",
       "\t<tr><td> 0.15549556</td></tr>\n",
       "\t<tr><td> 0.13829992</td></tr>\n",
       "\t<tr><td> 0.12158742</td></tr>\n",
       "\t<tr><td> 0.11246217</td></tr>\n",
       "\t<tr><td> 0.10482201</td></tr>\n",
       "\t<tr><td> 0.09511485</td></tr>\n",
       "\t<tr><td> 0.08503888</td></tr>\n",
       "</tbody>\n",
       "</table>\n"
      ],
      "text/latex": [
       "\\begin{tabular}{l}\n",
       "\t 83.75854871\\\\\n",
       "\t  4.41881360\\\\\n",
       "\t  3.18066165\\\\\n",
       "\t  2.59911810\\\\\n",
       "\t  0.88088396\\\\\n",
       "\t  0.77627778\\\\\n",
       "\t  0.58517744\\\\\n",
       "\t  0.41601027\\\\\n",
       "\t  0.40198672\\\\\n",
       "\t  0.37208704\\\\\n",
       "\t  0.34022061\\\\\n",
       "\t  0.26645991\\\\\n",
       "\t  0.24979179\\\\\n",
       "\t  0.22120709\\\\\n",
       "\t  0.20948919\\\\\n",
       "\t  0.18332518\\\\\n",
       "\t  0.16812031\\\\\n",
       "\t  0.15899986\\\\\n",
       "\t  0.15549556\\\\\n",
       "\t  0.13829992\\\\\n",
       "\t  0.12158742\\\\\n",
       "\t  0.11246217\\\\\n",
       "\t  0.10482201\\\\\n",
       "\t  0.09511485\\\\\n",
       "\t  0.08503888\\\\\n",
       "\\end{tabular}\n"
      ],
      "text/markdown": [
       "\n",
       "| 83.75854871 | \n",
       "|  4.41881360 | \n",
       "|  3.18066165 | \n",
       "|  2.59911810 | \n",
       "|  0.88088396 | \n",
       "|  0.77627778 | \n",
       "|  0.58517744 | \n",
       "|  0.41601027 | \n",
       "|  0.40198672 | \n",
       "|  0.37208704 | \n",
       "|  0.34022061 | \n",
       "|  0.26645991 | \n",
       "|  0.24979179 | \n",
       "|  0.22120709 | \n",
       "|  0.20948919 | \n",
       "|  0.18332518 | \n",
       "|  0.16812031 | \n",
       "|  0.15899986 | \n",
       "|  0.15549556 | \n",
       "|  0.13829992 | \n",
       "|  0.12158742 | \n",
       "|  0.11246217 | \n",
       "|  0.10482201 | \n",
       "|  0.09511485 | \n",
       "|  0.08503888 | \n",
       "\n",
       "\n"
      ],
      "text/plain": [
       "      [,1]       \n",
       " [1,] 83.75854871\n",
       " [2,]  4.41881360\n",
       " [3,]  3.18066165\n",
       " [4,]  2.59911810\n",
       " [5,]  0.88088396\n",
       " [6,]  0.77627778\n",
       " [7,]  0.58517744\n",
       " [8,]  0.41601027\n",
       " [9,]  0.40198672\n",
       "[10,]  0.37208704\n",
       "[11,]  0.34022061\n",
       "[12,]  0.26645991\n",
       "[13,]  0.24979179\n",
       "[14,]  0.22120709\n",
       "[15,]  0.20948919\n",
       "[16,]  0.18332518\n",
       "[17,]  0.16812031\n",
       "[18,]  0.15899986\n",
       "[19,]  0.15549556\n",
       "[20,]  0.13829992\n",
       "[21,]  0.12158742\n",
       "[22,]  0.11246217\n",
       "[23,]  0.10482201\n",
       "[24,]  0.09511485\n",
       "[25,]  0.08503888"
      ]
     },
     "metadata": {},
     "output_type": "display_data"
    }
   ],
   "source": [
    "(ratio_5x5_cov <- as.matrix(eigen(cov(df_5x5))$values)/ sum(eigen(cov(df_5x5))$values) *100)"
   ]
  },
  {
   "cell_type": "code",
   "execution_count": 103,
   "metadata": {
    "scrolled": true
   },
   "outputs": [
    {
     "data": {
      "text/html": [
       "<table>\n",
       "<tbody>\n",
       "\t<tr><td>84.8138752</td></tr>\n",
       "\t<tr><td> 4.1887076</td></tr>\n",
       "\t<tr><td> 3.1316469</td></tr>\n",
       "\t<tr><td> 1.5679478</td></tr>\n",
       "\t<tr><td> 0.7606517</td></tr>\n",
       "\t<tr><td> 0.7323221</td></tr>\n",
       "\t<tr><td> 0.5441606</td></tr>\n",
       "\t<tr><td> 0.4318717</td></tr>\n",
       "\t<tr><td> 0.3849071</td></tr>\n",
       "\t<tr><td> 0.3490585</td></tr>\n",
       "\t<tr><td> 0.3251725</td></tr>\n",
       "\t<tr><td> 0.3101526</td></tr>\n",
       "\t<tr><td> 0.2775296</td></tr>\n",
       "\t<tr><td> 0.2726176</td></tr>\n",
       "\t<tr><td> 0.2368895</td></tr>\n",
       "\t<tr><td> 0.2253948</td></tr>\n",
       "\t<tr><td> 0.2067821</td></tr>\n",
       "\t<tr><td> 0.2022065</td></tr>\n",
       "\t<tr><td> 0.1896749</td></tr>\n",
       "\t<tr><td> 0.1708213</td></tr>\n",
       "\t<tr><td> 0.1576338</td></tr>\n",
       "\t<tr><td> 0.1416448</td></tr>\n",
       "\t<tr><td> 0.1398737</td></tr>\n",
       "\t<tr><td> 0.1226177</td></tr>\n",
       "\t<tr><td> 0.1158394</td></tr>\n",
       "</tbody>\n",
       "</table>\n"
      ],
      "text/latex": [
       "\\begin{tabular}{l}\n",
       "\t 84.8138752\\\\\n",
       "\t  4.1887076\\\\\n",
       "\t  3.1316469\\\\\n",
       "\t  1.5679478\\\\\n",
       "\t  0.7606517\\\\\n",
       "\t  0.7323221\\\\\n",
       "\t  0.5441606\\\\\n",
       "\t  0.4318717\\\\\n",
       "\t  0.3849071\\\\\n",
       "\t  0.3490585\\\\\n",
       "\t  0.3251725\\\\\n",
       "\t  0.3101526\\\\\n",
       "\t  0.2775296\\\\\n",
       "\t  0.2726176\\\\\n",
       "\t  0.2368895\\\\\n",
       "\t  0.2253948\\\\\n",
       "\t  0.2067821\\\\\n",
       "\t  0.2022065\\\\\n",
       "\t  0.1896749\\\\\n",
       "\t  0.1708213\\\\\n",
       "\t  0.1576338\\\\\n",
       "\t  0.1416448\\\\\n",
       "\t  0.1398737\\\\\n",
       "\t  0.1226177\\\\\n",
       "\t  0.1158394\\\\\n",
       "\\end{tabular}\n"
      ],
      "text/markdown": [
       "\n",
       "| 84.8138752 | \n",
       "|  4.1887076 | \n",
       "|  3.1316469 | \n",
       "|  1.5679478 | \n",
       "|  0.7606517 | \n",
       "|  0.7323221 | \n",
       "|  0.5441606 | \n",
       "|  0.4318717 | \n",
       "|  0.3849071 | \n",
       "|  0.3490585 | \n",
       "|  0.3251725 | \n",
       "|  0.3101526 | \n",
       "|  0.2775296 | \n",
       "|  0.2726176 | \n",
       "|  0.2368895 | \n",
       "|  0.2253948 | \n",
       "|  0.2067821 | \n",
       "|  0.2022065 | \n",
       "|  0.1896749 | \n",
       "|  0.1708213 | \n",
       "|  0.1576338 | \n",
       "|  0.1416448 | \n",
       "|  0.1398737 | \n",
       "|  0.1226177 | \n",
       "|  0.1158394 | \n",
       "\n",
       "\n"
      ],
      "text/plain": [
       "      [,1]      \n",
       " [1,] 84.8138752\n",
       " [2,]  4.1887076\n",
       " [3,]  3.1316469\n",
       " [4,]  1.5679478\n",
       " [5,]  0.7606517\n",
       " [6,]  0.7323221\n",
       " [7,]  0.5441606\n",
       " [8,]  0.4318717\n",
       " [9,]  0.3849071\n",
       "[10,]  0.3490585\n",
       "[11,]  0.3251725\n",
       "[12,]  0.3101526\n",
       "[13,]  0.2775296\n",
       "[14,]  0.2726176\n",
       "[15,]  0.2368895\n",
       "[16,]  0.2253948\n",
       "[17,]  0.2067821\n",
       "[18,]  0.2022065\n",
       "[19,]  0.1896749\n",
       "[20,]  0.1708213\n",
       "[21,]  0.1576338\n",
       "[22,]  0.1416448\n",
       "[23,]  0.1398737\n",
       "[24,]  0.1226177\n",
       "[25,]  0.1158394"
      ]
     },
     "metadata": {},
     "output_type": "display_data"
    }
   ],
   "source": [
    "ratio_5x5"
   ]
  },
  {
   "cell_type": "code",
   "execution_count": 171,
   "metadata": {
    "scrolled": false
   },
   "outputs": [
    {
     "data": {
      "image/png": "[encoded data removed]",
      "text/plain": [
       "Plot with title \"2x3 Comp.1\""
      ]
     },
     "metadata": {},
     "output_type": "display_data"
    }
   ],
   "source": [
    "plot(obj_2x3$loadings[1:6], col=4, type='b', ylab='eigen vectors', xlab='portfolio', main = '2x3 Comp.1')"
   ]
  },
  {
   "cell_type": "code",
   "execution_count": 172,
   "metadata": {},
   "outputs": [
    {
     "data": {
      "image/png": "[encoded data removed]",
      "text/plain": [
       "Plot with title \"2x3 Comp.2\""
      ]
     },
     "metadata": {},
     "output_type": "display_data"
    }
   ],
   "source": [
    "plot(obj_2x3$loadings[7:12], col=4, type='b', ylab='eigen vectors', xlab='portfolio', main = '2x3 Comp.2')"
   ]
  },
  {
   "cell_type": "code",
   "execution_count": 173,
   "metadata": {
    "scrolled": false
   },
   "outputs": [
    {
     "data": {
      "image/png": "[encoded data removed]",
      "text/plain": [
       "Plot with title \"5x5 Comp.1\""
      ]
     },
     "metadata": {},
     "output_type": "display_data"
    }
   ],
   "source": [
    "plot(obj_5x5$loadings[1:25], col=4, type='b', ylab='eigen vectors', xlab='portfolio', main = '5x5 Comp.1')"
   ]
  },
  {
   "cell_type": "code",
   "execution_count": 167,
   "metadata": {},
   "outputs": [
    {
     "data": {
      "image/png": "[encoded data removed]",
      "text/plain": [
       "Plot with title \"5x5 Comp.2\""
      ]
     },
     "metadata": {},
     "output_type": "display_data"
    }
   ],
   "source": [
    "plot(obj_5x5$loadings[26:50], col=4, type='b', ylab='eigen vectors', xlab='portfolio', main = '5x5 Comp.2')"
   ]
  },
  {
   "cell_type": "code",
   "execution_count": 174,
   "metadata": {},
   "outputs": [
    {
     "data": {
      "image/png": "[encoded data removed]",
      "text/plain": [
       "Plot with title \"10x10 Comp.1\""
      ]
     },
     "metadata": {},
     "output_type": "display_data"
    }
   ],
   "source": [
    "plot(obj_10x10$loadings[1:100], col=4, type='b', ylab='eigen vectors', xlab='portfolio', main = '10x10 Comp.1')"
   ]
  },
  {
   "cell_type": "code",
   "execution_count": 175,
   "metadata": {},
   "outputs": [
    {
     "data": {
      "image/png": "[encoded data removed]",
      "text/plain": [
       "Plot with title \"10x10 Comp.2\""
      ]
     },
     "metadata": {},
     "output_type": "display_data"
    }
   ],
   "source": [
    "plot(obj_10x10$loadings[101:200], col=4, type='b', ylab='eigen vectors', xlab='portfolio', main = '10x10 Comp.2')"
   ]
  },
  {
   "cell_type": "code",
   "execution_count": 176,
   "metadata": {},
   "outputs": [
    {
     "data": {
      "image/png": "[encoded data removed]",
      "text/plain": [
       "Plot with title \"10x10 Comp.3\""
      ]
     },
     "metadata": {},
     "output_type": "display_data"
    }
   ],
   "source": [
    "plot(obj_10x10$loadings[201:300], col=4, type='b', ylab='eigen vectors', xlab='portfolio', main = '10x10 Comp.3')"
   ]
  }
 ],
 "metadata": {
  "kernelspec": {
   "display_name": "R",
   "language": "R",
   "name": "ir"
  },
  "language_info": {
   "codemirror_mode": "r",
   "file_extension": ".r",
   "mimetype": "text/x-r-source",
   "name": "R",
   "pygments_lexer": "r",
   "version": "3.5.1"
  }
 },
 "nbformat": 4,
 "nbformat_minor": 2
}
